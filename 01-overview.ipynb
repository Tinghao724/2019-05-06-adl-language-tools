{
 "cells": [
  {
   "cell_type": "markdown",
   "metadata": {},
   "source": [
    "<br><br><br><br><br>\n",
    "\n",
    "# How to build your own language\n",
    "\n",
    "<br><br><br><br><br>"
   ]
  },
  {
   "cell_type": "markdown",
   "metadata": {},
   "source": [
    "<br>\n",
    "\n",
    "We tend to engage in magical thinking when it comes to programming: we say that the program (a written text) _does_ X, Y, or Z.\n",
    "\n",
    "<center><img src=\"https://web.archive.org/web/20190331014618im_/http://www.savvyinthekitchen.com/wp-content/uploads/2016/08/Harry-Potter-Cake.png\" width=\"30%\"></center>\n",
    "\n",
    "<br>\n",
    "\n",
    "<center><font size=\"+0.5\">A computer is a machine representing mathematics, controlled by changing its state, like an abacus.</font></center>\n",
    "\n",
    "<center><b><font size=\"+0.5\">A programming language <i>is a human language</i> that describes what happens when we push the beans.</font></b></center>\n",
    "\n",
    "<br>"
   ]
  },
  {
   "cell_type": "markdown",
   "metadata": {},
   "source": [
    "<center><b><font size=\"+0.5\">Some languages are better at describing the state of the beans than others.</font></b></center>\n",
    "\n",
    "<br>\n",
    "\n",
    "<img src=\"img/abacus_ptolemy_al-khwarizmi.png\" width=\"90%\">"
   ]
  },
  {
   "cell_type": "markdown",
   "metadata": {},
   "source": [
    "Modern programming languages are attached to the device in such a way that they push the beans for us—that's where the confusion comes from. The distinction between talking about the beans and moving the beans is hidden. It wasn't always so.\n",
    "\n",
    "<table><tr><td width=\"50%\" style=\"padding-left: 0px\"><p style=\"font-size: 14px; line-height: 1.6\">Ada Lovelace's algorithm for computing Bernoulli numbers was written for a computer that never ended up being invented.</p></td><td align=\"right\"><img src=\"https://www.sophiararebooks.com/pictures/3544a.jpg\" width=\"70%\"></td><td><img src=\"https://upload.wikimedia.org/wikipedia/commons/thumb/a/a4/Ada_Lovelace_portrait.jpg/534px-Ada_Lovelace_portrait.jpg\" width=\"60%\"></td></tr></table>\n",
    "\n",
    "John McCarthy, creator of Lisp: \"This EVAL was written and published in the paper and Steve Russell said, 'Look, why don't I program this EVAL?' and I said to him, 'Ho, ho, you're confusing theory with practice—this EVAL is intended for reading, not for computing!' But he went ahead and did it.\" _(Talk at MIT in 1974, [published here](https://dl.acm.org/citation.cfm?id=802047&dl=ACM&coll=DL).)_\n",
    "\n",
    "APL (ancestor of MATLAB, R, and Numpy) was also a notation for understanding programs years before it was executable. The book was named [A Programming Language](http://www.softwarepreservation.org/projects/apl/Books/APROGRAMMING%20LANGUAGE)."
   ]
  },
  {
   "cell_type": "markdown",
   "metadata": {},
   "source": [
    "<br><br>\n",
    "\n",
    "### We're here to develop better languages for describing what we do in physics analysis.\n",
    "\n",
    "<br>\n",
    "\n",
    "Despite the physics focus of our goals, the techniques for creating languages are standard. This tutorial will introduce specific tools in Python along with their general concepts.\n",
    "\n",
    "   * [Language basics: parsing and interpreting](02-parsers-and-interpreters.ipynb)\n",
    "   * [Compiling and transpiling to another language](03-compiling-and-transpiling.ipynb)\n",
    "   * [Type checking: proving program correctness](04-type-checking.ipynb)\n",
    "   * [Embedded DSLs: using an existing language's syntax](05-embedded-dsl.ipynb)"
   ]
  }
 ],
 "metadata": {
  "kernelspec": {
   "display_name": "Python 3",
   "language": "python",
   "name": "python3"
  },
  "language_info": {
   "codemirror_mode": {
    "name": "ipython",
    "version": 3
   },
   "file_extension": ".py",
   "mimetype": "text/x-python",
   "name": "python",
   "nbconvert_exporter": "python",
   "pygments_lexer": "ipython3",
   "version": "3.7.2"
  }
 },
 "nbformat": 4,
 "nbformat_minor": 2
}
