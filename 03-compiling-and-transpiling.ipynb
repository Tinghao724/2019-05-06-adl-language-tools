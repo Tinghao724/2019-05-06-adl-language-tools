{
 "cells": [
  {
   "cell_type": "markdown",
   "metadata": {},
   "source": [
    "<br><br><br><br><br>\n",
    "\n",
    "# Compiling and transpiling to another language\n",
    "\n",
    "<br><br><br><br><br>"
   ]
  },
  {
   "cell_type": "markdown",
   "metadata": {},
   "source": [
    "<br><br><br>\n",
    "\n",
    "In the previous tutorial, we **interpreted** our little language, rather than **compiling** it.\n",
    "\n",
    "The interpreter simply did in Python what was written in the new language—we filled the symbol table with functions like:\n",
    "\n",
    "```python\n",
    "builtins[\"+\"] = lambda x, y: x + y\n",
    "```\n",
    "\n",
    "Have we accomplished anything?\n",
    "\n",
    "<br><br><br>"
   ]
  },
  {
   "cell_type": "markdown",
   "metadata": {},
   "source": [
    "<br><br>\n",
    "\n",
    "What we'll see in this tutorial is that a compiler isn't much more substantial than a translator, either. Ultimately, it just replaces each `+` AST node with the machine instruction for `+`.\n",
    "\n",
    "<br>\n",
    "\n",
    "**Programming languages do not perform actions. They only express a user's intention in another layer of abstraction.**\n",
    "\n",
    "<br>\n",
    "\n",
    "In our interpreter, there were 6 layers of abstraction:\n",
    "\n",
    "<center>transistor gates → machine code → C compiler → Python implementation (C code) → our interpreter → our little language</center>\n",
    "\n",
    "<br><br>"
   ]
  },
  {
   "cell_type": "markdown",
   "metadata": {},
   "source": [
    "**Interpreters vs compilers:**\n",
    "\n",
    "   * An **interpreter** walks over the AST (or even parses the source code!) at runtime.\n",
    "   * A **compiler** serializes the AST into a state machine or a sequence of instructions, virtual or physical.\n",
    "   * A **transpiler** serializes the AST into code in another human-readable language. (Subjective: what's human-readable?)\n",
    "\n",
    "**Compilation targets:**\n",
    "\n",
    "   * A **finite state machine** is a graph of executable steps _only_ (not a full interpreter). Regular expressions are often compiled to finite state machines. A non-recurrent neural network is also a finite state machine.\n",
    "   * A **push-down machine** is a state machine with a stack of memory—parsers are almost always push-down machines.\n",
    "   * A **virtual machine** is a complete processor+memory driven by a sequence of instructions, like a physical computer, but implemented in software. Python and Java are not interpreters: they _compile_ their source code to _virtual machines._\n",
    "   * A **Von Neumann machine** is a physical computer driven by a sequence of instructions.\n",
    "\n",
    "**Other:**\n",
    "\n",
    "   * **FPGA/ASIC:** physical computer consisting of raw gates, not instructions; Verilog isn't _compiled_ like C, it's _synthesized_."
   ]
  },
  {
   "cell_type": "markdown",
   "metadata": {},
   "source": [
    "<br><br><br>\n",
    "\n",
    "The general flow of a compiler is\n",
    "\n",
    "<center style=\"margin-top: 20px; margin-bottom: 20px\"><b>linear (source code) → tree-like data structure (AST) → linear (instructions or other source code)</b></center>\n",
    "\n",
    "In this notebook, we'll write a transpiler, converting our little language into C++.\n",
    "\n",
    "<br><br><br>"
   ]
  },
  {
   "cell_type": "code",
   "execution_count": 1,
   "metadata": {},
   "outputs": [
    {
     "name": "stdout",
     "output_type": "stream",
     "text": [
      "Welcome to JupyROOT 6.17/01\n"
     ]
    },
    {
     "data": {
      "text/plain": [
       "5.0"
      ]
     },
     "execution_count": 1,
     "metadata": {},
     "output_type": "execute_result"
    }
   ],
   "source": [
    "# First of all, did you know that you can do this?\n",
    "import ROOT\n",
    "\n",
    "ROOT.gInterpreter.Declare(\"\"\"\n",
    "double new_function(double x, double y) {\n",
    "    return sqrt(x*x + y*y);\n",
    "}\"\"\")\n",
    "\n",
    "ROOT.new_function(3, 4)"
   ]
  },
  {
   "cell_type": "code",
   "execution_count": 2,
   "metadata": {},
   "outputs": [
    {
     "name": "stdout",
     "output_type": "stream",
     "text": [
      "FileAST: \n",
      "  FuncDef: \n",
      "    Decl: f, [], [], []\n",
      "      FuncDecl: \n",
      "        ParamList: \n",
      "          Decl: x, [], [], []\n",
      "            TypeDecl: x, []\n",
      "              IdentifierType: ['double']\n",
      "        TypeDecl: f, []\n",
      "          IdentifierType: ['double']\n",
      "    Compound: \n",
      "      Return: \n",
      "        BinaryOp: *\n",
      "          ID: x\n",
      "          ID: x\n"
     ]
    }
   ],
   "source": [
    "# And what about this?\n",
    "import pycparser.c_parser, pycparser.c_generator    # pure Python C99 compiler/toolkit\n",
    "\n",
    "c_parser = pycparser.c_parser.CParser()\n",
    "ast = c_parser.parse(\"double f(double x) { return x*x; }\")\n",
    "ast.show()"
   ]
  },
  {
   "cell_type": "code",
   "execution_count": 3,
   "metadata": {},
   "outputs": [
    {
     "name": "stdout",
     "output_type": "stream",
     "text": [
      "double f(double x)\n",
      "{\n",
      "  return x * x;\n",
      "}\n",
      "\n",
      "\n"
     ]
    }
   ],
   "source": [
    "c_generator = pycparser.c_generator.CGenerator()\n",
    "\n",
    "ast = c_parser.parse(\"double f(double x) { return x*x; }\")\n",
    "\n",
    "print(c_generator.visit(ast))"
   ]
  },
  {
   "cell_type": "markdown",
   "metadata": {},
   "source": [
    "We can compile and run C++ code in ROOT (Cling) and we have a general C99 AST in a Python library (pycparser). The compilation chain could look like this:\n",
    "\n",
    "<center style=\"margin-top: 20px; margin-bottom: 20px\"><b>our source language → our AST → C99 AST → C++ source code → compile and run in ROOT</b></center>"
   ]
  },
  {
   "cell_type": "markdown",
   "metadata": {},
   "source": [
    "We can compile and run C++ code in ROOT (Cling) and we have a general C99 AST in a Python library (pycparser). The compilation chain could look like this:\n",
    "\n",
    "<center style=\"margin-top: 20px; margin-bottom: 20px\"><b>our source language → <font color=\"darkorange\">our AST → C99 AST</font> → C++ source code → compile and run in ROOT</b></center>\n",
    "\n",
    "Why not output C++ strings directly from our AST?"
   ]
  },
  {
   "cell_type": "markdown",
   "metadata": {},
   "source": [
    "We can compile and run C++ code in ROOT (Cling) and we have a general C99 AST in a Python library (pycparser). The compilation chain could look like this:\n",
    "\n",
    "<center style=\"margin-top: 20px; margin-bottom: 20px\"><b>our source language → <font color=\"darkorange\">our AST → C99 AST</font> → C++ source code → compile and run in ROOT</b></center>\n",
    "\n",
    "Why not output C++ strings directly from our AST?\n",
    "\n",
    "It's hard to compose source code strings properly and it's hard to debug them. ([Coffeescript famously skipped this step.](https://www.kickstarter.com/projects/michaelficarra/make-a-better-coffeescript-compiler) :)\n",
    "\n",
    "<img src=\"img/coffeescript-rise-and-fall.png\" width=\"90%\">"
   ]
  },
  {
   "cell_type": "code",
   "execution_count": 4,
   "metadata": {},
   "outputs": [],
   "source": [
    "import lark        # a grammar for Dirac's bra-ket notation!\n",
    "grammar = \"\"\"\n",
    "start:  term\n",
    "term:   factor [term]\n",
    "factor: bra \"|\" ket | bra \"|\" operators \"|\" ket\n",
    "bra:    \"<\" value\n",
    "ket:    value \">\"\n",
    "\n",
    "operators: operator [operators]\n",
    "operator: spinor | operator \"*\" -> conjugate\n",
    "spinor:   \"σ₁\" -> s1 | \"sigma1\" -> s1 | \"σ₂\" -> s2 | \"sigma2\" -> s2 | \"σ₃\" -> s3 | \"sigma3\" -> s3\n",
    "\n",
    "value:   CNAME | complex complex\n",
    "complex: NUMBER -> real | NUMBER \"i\" -> imag | \"i\" -> imag1\n",
    "       | NUMBER \"+\" NUMBER \"i\" -> complex | NUMBER \"+\" \"i\" -> complex1\n",
    "\n",
    "%import common.CNAME\n",
    "%import common.NUMBER\n",
    "%import common.WS\n",
    "%ignore WS\n",
    "\"\"\"\n",
    "parser = lark.Lark(grammar)"
   ]
  },
  {
   "cell_type": "code",
   "execution_count": 5,
   "metadata": {},
   "outputs": [
    {
     "name": "stdout",
     "output_type": "stream",
     "text": [
      "start\n",
      "  term\n",
      "    factor\n",
      "      bra\n",
      "        value\n",
      "          real\t0\n",
      "          real\t1\n",
      "      operators\n",
      "        conjugate\n",
      "          operator\n",
      "            s1\n",
      "        operators\n",
      "          operator\n",
      "            s2\n",
      "      ket\n",
      "        value\n",
      "          real\t0\n",
      "          real\t1\n",
      "\n"
     ]
    }
   ],
   "source": [
    "# the cute thing about bra-ket notation is that it turns type errors into syntax errors\n",
    "print(parser.parse(\"<0 1| σ₁* σ₂ |0 1>\").pretty())"
   ]
  },
  {
   "cell_type": "code",
   "execution_count": 6,
   "metadata": {},
   "outputs": [
    {
     "data": {
      "text/plain": [
       "BinaryOp(op='*',\n",
       "         left=ID(name='x'\n",
       "                 ),\n",
       "         right=ID(name='z'\n",
       "                  )\n",
       "         )"
      ]
     },
     "execution_count": 6,
     "metadata": {},
     "output_type": "execute_result"
    }
   ],
   "source": [
    "# I said that it's unwise to turn our AST directly into strings of the output language.\n",
    "# That's because strings are hard to COMPOSE. Don't avoid using strings to create or understand ASTs.\n",
    "\n",
    "from pycparser.c_ast import *\n",
    "\n",
    "def c_ast(c_code):\n",
    "    return c_parser.parse(\"void f() {\" + c_code + \";}\").ext[0].body.block_items[0]\n",
    "\n",
    "ast = c_ast(\"x * y\")\n",
    "ast.right.name = \"z\"\n",
    "ast"
   ]
  },
  {
   "cell_type": "code",
   "execution_count": 7,
   "metadata": {},
   "outputs": [],
   "source": [
    "def mul(x, y): return BinaryOp(\"*\", x, y)                             # helper functions\n",
    "def call(f, args): return FuncCall(f, ExprList(args))\n",
    "def transpileall(args, names): return [transpile(x, names) for x in args]\n",
    "\n",
    "def transpile(ast, names):\n",
    "    \"Converts bra-ket Parsing Tree into a C99 AST (skipping the PT → AST step 'toast').\"\n",
    "    \n",
    "    if (ast.data == \"term\" or ast.data == \"operators\") and len(ast.children) == 2:\n",
    "        return mul(*transpileall(ast.children, names))\n",
    "\n",
    "    elif ast.data == \"factor\":                                        # <bra|op|ket> or <bra|ket>\n",
    "        scalar = mul(*transpileall(ast.children[:2], names))\n",
    "        if len(ast.children) > 2:\n",
    "            scalar = mul(scalar, transpile(ast.children[2], names))\n",
    "        return call(scalar, [Constant(\"int\", \"0\")] * 2)               # get scalar value (0, 0)\n",
    "\n",
    "    elif ast.data == \"bra\" or ast.data == \"ket\":\n",
    "        return call(ID(str(ast.data)), transpile(ast.children[0], names))\n",
    "\n",
    "    elif ast.data == \"conjugate\":                                     # conjugate function\n",
    "        return call(ID(str(ast.data)), [transpile(ast.children[0], names)])\n",
    "\n",
    "    elif ast.data == \"s1\" or ast.data == \"s2\" or ast.data == \"s3\":    # Pauli spin matrix\n",
    "        return ID(str(ast.data))\n",
    "\n",
    "    elif ast.data == \"value\" and len(ast.children) == 1:              # one named value\n",
    "        n = str(ast.children[0])\n",
    "        names.append(n)\n",
    "        return [call(ID(\"C\"), [ID(\"r1_\" + n), ID(\"i1_\" + n)]), call(ID(\"C\"), [ID(\"r2_\" + n), ID(\"i2_\" + n)])]\n",
    "    elif ast.data == \"value\" and len(ast.children) == 2:              # two complex numbers\n",
    "        return transpileall(ast.children, names)\n",
    "\n",
    "    elif ast.data == \"real\":                                          # real number\n",
    "        return call(ID(\"C\"), [Constant(\"double\", str(ast.children[0])), Constant(\"double\", \"0\")])\n",
    "    elif ast.data == \"imag\":                                          # pure imaginary number\n",
    "        return call(ID(\"C\"), [Constant(\"double\", \"0\"), Constant(\"double\", str(ast.children[0]))])\n",
    "    elif ast.data == \"imag1\":                                         # pure imaginary number i\n",
    "        return call(ID(\"C\"), [Constant(\"double\", \"0\"), Constant(\"double\", \"1\")])\n",
    "    elif ast.data == \"complex\":                                       # complex number\n",
    "        return call(ID(\"C\"), [Constant(\"double\", str(ast.children[0])), Constant(\"double\", str(ast.children[1]))])\n",
    "    elif ast.data == \"complex1\":                                      # complex number with single i\n",
    "        return call(ID(\"C\"), [Constant(\"double\", str(ast.children[0])), Constant(\"double\", \"1\")])\n",
    "\n",
    "    else:\n",
    "        return transpile(ast.children[0], names)                      # pass-through structure"
   ]
  },
  {
   "cell_type": "code",
   "execution_count": 8,
   "metadata": {},
   "outputs": [
    {
     "name": "stdout",
     "output_type": "stream",
     "text": [
      "FuncCall: \n",
      "  BinaryOp: *\n",
      "    BinaryOp: *\n",
      "      FuncCall: \n",
      "        ID: bra\n",
      "        ExprList: \n",
      "          FuncCall: \n",
      "            ID: C\n",
      "            ExprList: \n",
      "              Constant: double, 0\n",
      "              Constant: double, 0\n",
      "          FuncCall: \n",
      "            ID: C\n",
      "            ExprList: \n",
      "              Constant: double, 1\n",
      "              Constant: double, 0\n",
      "      BinaryOp: *\n",
      "        FuncCall: \n",
      "          ID: conjugate\n",
      "          ExprList: \n",
      "            ID: s1\n",
      "        ID: s2\n",
      "    FuncCall: \n",
      "      ID: ket\n",
      "      ExprList: \n",
      "        FuncCall: \n",
      "          ID: C\n",
      "          ExprList: \n",
      "            Constant: double, 0\n",
      "            Constant: double, 0\n",
      "        FuncCall: \n",
      "          ID: C\n",
      "          ExprList: \n",
      "            Constant: double, 1\n",
      "            Constant: double, 0\n",
      "  ExprList: \n",
      "    Constant: int, 0\n",
      "    Constant: int, 0\n"
     ]
    },
    {
     "data": {
      "text/plain": [
       "[]"
      ]
     },
     "execution_count": 8,
     "metadata": {},
     "output_type": "execute_result"
    }
   ],
   "source": [
    "names = []\n",
    "ast = transpile(parser.parse(\"<0 1| σ₁* σ₂ |0 1>\"), names)\n",
    "\n",
    "ast.show()\n",
    "# print(c_generator.visit(ast))\n",
    "names"
   ]
  },
  {
   "cell_type": "code",
   "execution_count": 9,
   "metadata": {},
   "outputs": [
    {
     "data": {
      "text/plain": [
       "True"
      ]
     },
     "execution_count": 9,
     "metadata": {},
     "output_type": "execute_result"
    }
   ],
   "source": [
    "# Define some helper functions in the output language instead of complicating the generated output.\n",
    "\n",
    "ROOT.gInterpreter.Declare(\"\"\"\n",
    "complex<double> C(double real, double imag) {\n",
    "    return complex<double>(real, imag);\n",
    "}\n",
    "ROOT::Math::SMatrix<complex<double>, 1, 2> bra(complex<double> up, complex<double> down) {\n",
    "    return ROOT::Math::SMatrix<complex<double>, 1, 2>((complex<double>[]){up, down}, 2);\n",
    "}\n",
    "ROOT::Math::SMatrix<complex<double>, 2, 1> ket(complex<double> up, complex<double> down) {\n",
    "    return ROOT::Math::SMatrix<complex<double>, 2, 1>((complex<double>[]){up, down}, 2);\n",
    "}\n",
    "ROOT::Math::SMatrix<complex<double>, 2, 2> conjugate(ROOT::Math::SMatrix<complex<double>, 2, 2> S) {\n",
    "    auto out = ROOT::Math::Transpose(S);\n",
    "    out(0, 0) = conj(out(0, 0));\n",
    "    out(0, 1) = conj(out(0, 1));\n",
    "    out(1, 0) = conj(out(1, 0));\n",
    "    out(1, 1) = conj(out(1, 1));\n",
    "    return out;\n",
    "}\n",
    "ROOT::Math::SMatrix<complex<double>, 2, 2> matrix(complex<double> a, complex<double> b, complex<double> c, complex<double> d) {\n",
    "    return ROOT::Math::SMatrix<complex<double>, 2, 2>((complex<double>[]){a, b, c, d}, 4);\n",
    "}\n",
    "auto s1 = matrix(C(0, 0), C(1,  0), C(1, 0), C( 0, 0));\n",
    "auto s2 = matrix(C(0, 0), C(0, -1), C(0, 1), C( 0, 0));\n",
    "auto s3 = matrix(C(1, 0), C(0,  0), C(0, 0), C(-1, 0));\n",
    "\"\"\")"
   ]
  },
  {
   "cell_type": "code",
   "execution_count": 10,
   "metadata": {},
   "outputs": [
    {
     "name": "stdout",
     "output_type": "stream",
     "text": [
      "double r1_x, double i1_x, double r2_x, double i2_x, double r1_y, double i1_y, double r2_y, double i2_y\n"
     ]
    }
   ],
   "source": [
    "# Much of the work is actually rearranging inputs and outputs (matching Python types to C++ types).\n",
    "def c_args(names):\n",
    "    return \", \".join(\"double r1_{0}, double i1_{0}, double r2_{0}, double i2_{0}\".format(x) for x in names)\n",
    "\n",
    "def python_args(names, root_function):\n",
    "    def prepare(kwargs):\n",
    "        for n in names:\n",
    "            x, y = complex(kwargs[n][0]), complex(kwargs[n][1])\n",
    "            yield x.real\n",
    "            yield x.imag\n",
    "            yield y.real\n",
    "            yield y.imag\n",
    "    return lambda **kwargs: root_function(*prepare(kwargs))\n",
    "\n",
    "def python_ret(root_complex):\n",
    "    return complex(root_complex.real(), root_complex.imag())\n",
    "\n",
    "print(c_args([\"x\", \"y\"]))\n",
    "# python_args([\"x\", \"y\"], print)(x=[0, 1j], y=[1, 0])"
   ]
  },
  {
   "cell_type": "code",
   "execution_count": 11,
   "metadata": {},
   "outputs": [],
   "source": [
    "# Again, don't shy away from using strings of the output language when COMPOSING is not an issue.\n",
    "def braket(code):\n",
    "    names = []\n",
    "    c_ast = transpile(parser.parse(code), names)\n",
    "\n",
    "    braket.function_num += 1           # new function name each time a new function is compiled\n",
    "    function_name = \"braket_{0}\".format(braket.function_num)\n",
    "\n",
    "    ROOT.gInterpreter.Declare(\"\"\"      // this amount of composing C++ is not hard (or unreadable!)\n",
    "complex<double> {function_name}({args}) {{\n",
    "    return {c_code};\n",
    "}}\"\"\".format(\n",
    "        function_name = function_name,\n",
    "        args = c_args(names),\n",
    "        c_code = c_generator.visit(c_ast)))\n",
    "    root_function = getattr(ROOT, function_name)\n",
    "\n",
    "    return lambda **kwargs: python_ret(python_args(names, root_function)(**kwargs))   # wrap args\n",
    "\n",
    "braket.function_num = 0                # the function knows the number of times it's been called"
   ]
  },
  {
   "cell_type": "code",
   "execution_count": 12,
   "metadata": {},
   "outputs": [
    {
     "name": "stdout",
     "output_type": "stream",
     "text": [
      "(1+0j)\n",
      "(1+0j)\n"
     ]
    }
   ],
   "source": [
    "compiled1 = braket(\"<0 1| σ₁* σ₂ |0 i>\")\n",
    "print(compiled1())\n",
    "\n",
    "compiled2 = braket(\"<x| σ₁* σ₂ |y>\")\n",
    "print(compiled2(x=(0, 1), y=(0, 1j)))"
   ]
  },
  {
   "cell_type": "markdown",
   "metadata": {},
   "source": [
    "## Exercise (on your own):\n",
    "\n",
    "The ROOT function for transposing a matrix is `ROOT::Math::Transpose`. Add a transpose operator to the grammar:\n",
    "\n",
    "```\n",
    "operator: spinor\n",
    "        | operator \"*\" -> conjugate\n",
    "        | operator \"ᵀ\" -> transpose | operator \"T\" -> transpose\n",
    "```\n",
    "\n",
    "and propagate it through the transpiler to the final output so that `<0 1| σ₁ᵀ σ₂ |0 1>` returns `-1j`."
   ]
  },
  {
   "cell_type": "markdown",
   "metadata": {},
   "source": [
    "## Summary\n",
    "\n",
    "Some of the work that an **interpreter** performs is unnecessarily repeated. Performing that part once to create a lean executable is **compilation**.\n",
    "\n",
    "All **compilation** simply translates code from one language to another, though machine instructions are rather hard to read. Compilation to a human-readable language is called source-to-source compilation or **transpilation**.\n",
    "\n",
    "When transpiling, it's recommended to convert the input language's AST into the output language's AST, rather than directly emitting strings in the output language because strings of code are hard to compose. It's not a hard-edged rule to always avoid strings, but don't rely on _composing_ strings."
   ]
  }
 ],
 "metadata": {
  "kernelspec": {
   "display_name": "Python 3",
   "language": "python",
   "name": "python3"
  },
  "language_info": {
   "codemirror_mode": {
    "name": "ipython",
    "version": 3
   },
   "file_extension": ".py",
   "mimetype": "text/x-python",
   "name": "python",
   "nbconvert_exporter": "python",
   "pygments_lexer": "ipython3",
   "version": "3.7.2"
  }
 },
 "nbformat": 4,
 "nbformat_minor": 2
}
