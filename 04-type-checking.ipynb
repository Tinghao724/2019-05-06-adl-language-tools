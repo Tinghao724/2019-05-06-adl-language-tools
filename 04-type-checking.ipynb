{
 "cells": [
  {
   "cell_type": "markdown",
   "metadata": {},
   "source": [
    "<br><br><br><br><br>\n",
    "\n",
    "# Type checking\n",
    "\n",
    "<br><br><br><br><br>"
   ]
  },
  {
   "cell_type": "markdown",
   "metadata": {},
   "source": [
    "<br>\n",
    "\n",
    "Most compiled languages perform an additional tree-to-tree transformation: **type checking**.\n",
    "\n",
    "Generally, an **untyped AST** (such as the ones we've been dealing with) gets replaced by a **typed AST**, in which each node is marked by a data type, such as `double` or `boolean`. (It's also possible to mark an AST in-place with type labels, but if so, be sure that node instances are unique!)\n",
    "\n",
    "Type checking was traditionally motivated by the need to generate the right instructions in the output language (e.g. `__add_int32__` vs `__add_float32__` on unlabled 32-bit registers), but it can be much more general than that:\n",
    "\n",
    "<center style=\"margin-top: 20px; margin-bottom: 20px\"><b>type checking is a formal proof that the program satisfies certain properties.</b></center>\n",
    "\n",
    "The properties to prove are encoded in the **type system**, which can be specialized to a domain like particle physics.\n",
    "\n",
    "_What properties do we want particle physics analysis scripts to satisfy?_\n",
    "\n",
    "<br>"
   ]
  },
  {
   "cell_type": "markdown",
   "metadata": {},
   "source": [
    "<br>\n",
    "\n",
    "**Some terminology:**\n",
    "\n",
    "   * A **type** is a _set of possible values_ that a symbol or expression can have at runtime. Types may be\n",
    "      * **abstract** if they're specified without reference to a bit-representation, like \"all non-negative integers less than `2**32`\"\n",
    "      * **concrete** if a bit-representation is given, like \"two's complement 32-bit integers without a sign bit.\"\n",
    "   \n",
    "   \n",
    "   * A **strongly typed** language stops processing if it encounters values that do not match function argument types: it either stops the compilation or the runtime execution.\n",
    "   \n",
    "   * A **weakly typed** language either passes bits without checking them or converts values to fit expectations.\n",
    "   \n",
    "   * A **statically typed** language undergoes a type-checking pass before programs are run, usually as part of a compilation.\n",
    "   \n",
    "   * A **dynamically typed** language checks types at runtime. Types may be valid at one time and invalid at another.\n",
    "\n",
    "<br>"
   ]
  },
  {
   "cell_type": "markdown",
   "metadata": {},
   "source": [
    "<p style=\"margin-bottom: 0px\"><b>Weakly typed (values are assumed to fit operations)</b></p>\n",
    "<ul style=\"margin-top: 0px\">\n",
    "  <li>Most assembly languages treat all values as raw bits; programmer has to keep track of types and call the right instructions.\n",
    "  <li>C is often used as a weakly typed language (e.g. passing everything as <tt>void*</tt>).\n",
    "</ul>\n",
    "\n",
    "<p style=\"margin-bottom: 0px\"><b>Weakly typed (values are converted to fit operations)</b></p>\n",
    "<ul style=\"margin-top: 0px\">\n",
    "  <li>Perl: <tt>\"2\" + 8 → \"10\"</tt> and unknown or unconvertable variables are presumed to be zero.\n",
    "  <li>Javascript: <tt>\"2\" + 8 → \"28\"</tt>\n",
    "  <li>MATLAB: <tt>\"2\" + 8 → 58</tt> (because the ASCII value of <tt>\"2\"</tt> is <tt>50</tt>...)\n",
    "  <li>Python predicates: <tt>None</tt> or <tt>[]</tt> resolves to <tt>False</tt>, <tt>[0]</tt> resolves to <tt>True</tt> when used with <tt>if/and/or/not</tt>.\n",
    "  <li>Python 2's handling of byte-strings vs unicode.\n",
    "  <li>Most languages promote integers to floating-point values in mixed arithmetic.\n",
    "</ul>\n",
    "\n",
    "<p style=\"margin-bottom: 0px\"><b>Strongly but dynamically typed</b></p>\n",
    "<ul style=\"margin-top: 0px\">\n",
    "  <li>Everything else in Python (<tt>\"2\" + 8</tt> is a <tt>TypeError</tt>).\n",
    "  <li>Lisp, Ruby, R, Erlang, Lua, Tcl, Smalltalk, PostScript...\n",
    "</ul>\n",
    "\n",
    "<p style=\"margin-bottom: 0px\"><b>Strongly and statically typed</b></p>\n",
    "<ul style=\"margin-top: 0px\">\n",
    "  <li>C++, Java, C#, Rust, Go, Swift, Haskell, ML, Scala, Fortran, LLVM's assembly language...\n",
    "</ul>"
   ]
  },
  {
   "cell_type": "code",
   "execution_count": 19,
   "metadata": {},
   "outputs": [],
   "source": [
    "import lark\n",
    "grammar = \"\"\"\n",
    "start: or\n",
    "or:       and -> pass | and \"or\" and\n",
    "and:      not -> pass | not \"and\" not\n",
    "not:  compare -> pass | \"not\" not\n",
    "compare: term -> pass | term \"==\" term -> eq | term \"!=\" term -> ne\n",
    "                      | term  \"<\" term -> lt | term \"<=\" term -> le\n",
    "                      | term  \">\" term -> gt | term \">=\" term -> ge\n",
    "term:  factor -> pass | factor \"+\" factor -> add | factor \"-\" factor -> sub\n",
    "factor:  atom -> pass | atom \"*\" atom -> mul     | atom \"/\" atom -> truediv\n",
    "atom:      \"(\" or \")\" | CNAME -> symbol | INT -> int | FLOAT -> float\n",
    "\n",
    "%import common.CNAME\n",
    "%import common.INT\n",
    "%import common.FLOAT\n",
    "%import common.WS\n",
    "%ignore WS\n",
    "\"\"\"\n",
    "parser = lark.Lark(grammar)"
   ]
  },
  {
   "cell_type": "code",
   "execution_count": 21,
   "metadata": {},
   "outputs": [
    {
     "name": "stdout",
     "output_type": "stream",
     "text": [
      "start\n",
      "  pass\n",
      "    and\n",
      "      not\n",
      "        pass\n",
      "          gt\n",
      "            pass\n",
      "              pass\n",
      "                symbol\tx\n",
      "            pass\n",
      "              pass\n",
      "                float\t0.0\n",
      "      pass\n",
      "        pass\n",
      "          add\n",
      "            pass\n",
      "              int\t2\n",
      "            pass\n",
      "              int\t2\n",
      "\n"
     ]
    }
   ],
   "source": [
    "print(parser.parse(\"not x > 0.0 and 2 + 2\").pretty())"
   ]
  },
  {
   "cell_type": "code",
   "execution_count": 26,
   "metadata": {},
   "outputs": [],
   "source": [
    "# Simplify the Parsing Tree (PT) into an Abstract Syntax Tree (AST), but now we call it UntypedAST.\n",
    "\n",
    "class UntypedAST:\n",
    "    _fields = ()\n",
    "    def __init__(self, *args):\n",
    "        for n, x in zip(self._fields, args):\n",
    "            setattr(self, n, x)\n",
    "\n",
    "class UntypedLiteral(UntypedAST):                   # a literal always knows its type,\n",
    "    _fields = (\"value\", \"type\")                     # even in the UntypedAST\n",
    "    def __str__(self): return \"{0}({1})\".format(self.type.__name__, str(self.value))\n",
    "\n",
    "class UntypedSymbol(UntypedAST):\n",
    "    _fields = (\"symbol\",)\n",
    "    def __str__(self): return self.symbol\n",
    "\n",
    "class UntypedCall(UntypedAST):\n",
    "    _fields = (\"function\", \"arguments\")\n",
    "    def __str__(self):\n",
    "        return \"{0}({1})\".format(str(self.function), \", \".join(str(x) for x in self.arguments))"
   ]
  },
  {
   "cell_type": "code",
   "execution_count": 28,
   "metadata": {},
   "outputs": [
    {
     "name": "stdout",
     "output_type": "stream",
     "text": [
      "and(not(gt(x, float(0.0))), add(int(2), int(2)))\n"
     ]
    }
   ],
   "source": [
    "def toast(ptnode):\n",
    "    if ptnode.data == \"start\" or ptnode.data == \"pass\" or ptnode.data == \"atom\":\n",
    "        return toast(ptnode.children[0])\n",
    "    elif ptnode.data == \"int\":\n",
    "        return UntypedLiteral(int(ptnode.children[0]), int)\n",
    "    elif ptnode.data == \"float\":\n",
    "        return UntypedLiteral(float(ptnode.children[0]), float)\n",
    "    elif ptnode.data == \"symbol\":\n",
    "        return UntypedSymbol(str(ptnode.children[0]))\n",
    "    else:\n",
    "        return UntypedCall(str(ptnode.data), [toast(x) for x in ptnode.children])\n",
    "\n",
    "print(toast(parser.parse(\"not x > 0.0 and 2 + 2\")))"
   ]
  },
  {
   "cell_type": "code",
   "execution_count": null,
   "metadata": {},
   "outputs": [],
   "source": []
  }
 ],
 "metadata": {
  "kernelspec": {
   "display_name": "Python 3",
   "language": "python",
   "name": "python3"
  },
  "language_info": {
   "codemirror_mode": {
    "name": "ipython",
    "version": 3
   },
   "file_extension": ".py",
   "mimetype": "text/x-python",
   "name": "python",
   "nbconvert_exporter": "python",
   "pygments_lexer": "ipython3",
   "version": "3.7.2"
  }
 },
 "nbformat": 4,
 "nbformat_minor": 2
}
