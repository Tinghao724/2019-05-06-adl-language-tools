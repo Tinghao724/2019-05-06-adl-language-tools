{
 "cells": [
  {
   "cell_type": "markdown",
   "metadata": {},
   "source": [
    "<br><br><br><br><br>\n",
    "\n",
    "# Type checking\n",
    "\n",
    "<br><br><br><br><br>"
   ]
  },
  {
   "cell_type": "markdown",
   "metadata": {},
   "source": [
    "<br>\n",
    "\n",
    "Most compiled languages perform an additional tree-to-tree transformation: **type checking**.\n",
    "\n",
    "Generally, an **untyped AST** (such as the ones we've been dealing with) gets replaced by a **typed AST**, in which each node is marked by a data type, such as `double` or `boolean`. (It's also possible to mark an AST in-place with type labels, but if so, be sure that node instances are unique!)\n",
    "\n",
    "Type checking was traditionally motivated by the need to generate the right instructions in the output language (e.g. `__add_int32__` vs `__add_float32__` on unlabled 32-bit registers), but it can be much more general than that:\n",
    "\n",
    "<center style=\"margin-top: 20px; margin-bottom: 20px\"><b>type checking is a formal proof that the program satisfies certain properties.</b></center>\n",
    "\n",
    "The properties to prove are encoded in the **type system**, which can be specialized to a domain like particle physics.\n",
    "\n",
    "_What properties do we want particle physics analysis scripts to satisfy?_\n",
    "\n",
    "<br>"
   ]
  },
  {
   "cell_type": "markdown",
   "metadata": {},
   "source": [
    "<br>\n",
    "\n",
    "**Some terminology:**\n",
    "\n",
    "   * A **type** is a _set of possible values_ that a symbol or expression can have at runtime. Types may be\n",
    "      * **abstract** if they're specified without reference to a bit-representation, like \"all non-negative integers less than `2**32`\"\n",
    "      * **concrete** if a bit-representation is given, like \"two's complement 32-bit integers without a sign bit.\"\n",
    "   \n",
    "   \n",
    "   * A **strongly typed** language stops processing if it encounters values that do not match function argument types: it either stops the compilation or the runtime execution.\n",
    "   \n",
    "   * A **weakly typed** language either passes bits without checking them or converts values to fit expectations.\n",
    "   \n",
    "   * A **statically typed** language undergoes a type-checking pass before programs are run, usually as part of a compilation.\n",
    "   \n",
    "   * A **dynamically typed** language checks types at runtime. Types may be valid at one time and invalid at another.\n",
    "\n",
    "<br>"
   ]
  },
  {
   "cell_type": "markdown",
   "metadata": {},
   "source": [
    "<p style=\"margin-bottom: 0px\"><b>Weakly typed (values are assumed to fit operations)</b></p>\n",
    "<ul style=\"margin-top: 0px\">\n",
    "  <li>Most assembly languages treat all values as raw bits; programmer has to keep track of types and call the right instructions.\n",
    "  <li>C is often used as a weakly typed language (e.g. passing everything as <tt>void*</tt>).\n",
    "</ul>\n",
    "\n",
    "<p style=\"margin-bottom: 0px\"><b>Weakly typed (values are converted to fit operations)</b></p>\n",
    "<ul style=\"margin-top: 0px\">\n",
    "  <li>Perl: <tt>\"2\" + 8 → \"10\"</tt> and unknown or unconvertable variables are presumed to be zero.\n",
    "  <li>Javascript: <tt>\"2\" + 8 → \"28\"</tt>\n",
    "  <li>MATLAB: <tt>\"2\" + 8 → 58</tt> (because the ASCII value of <tt>\"2\"</tt> is <tt>50</tt>...)\n",
    "  <li>Python predicates: <tt>None</tt> or <tt>[]</tt> resolves to <tt>False</tt>, <tt>[0]</tt> resolves to <tt>True</tt> when used with <tt>if/and/or/not</tt>.\n",
    "  <li>Python 2's handling of byte-strings vs unicode.\n",
    "  <li>Most languages promote integers to floating-point values in mixed arithmetic.\n",
    "</ul>\n",
    "\n",
    "<p style=\"margin-bottom: 0px\"><b>Strongly but dynamically typed</b></p>\n",
    "<ul style=\"margin-top: 0px\">\n",
    "  <li>Everything else in Python (<tt>\"2\" + 8</tt> is a <tt>TypeError</tt>).\n",
    "  <li>Lisp, Ruby, R, Erlang, Lua, Tcl, Smalltalk, PostScript...\n",
    "</ul>\n",
    "\n",
    "<p style=\"margin-bottom: 0px\"><b>Strongly and statically typed</b></p>\n",
    "<ul style=\"margin-top: 0px\">\n",
    "  <li>C++, Java, C#, Rust, Go, Swift, Fortran, Haskell, ML, Scala, Julia, mypy (Python linter), LLVM's assembly language...\n",
    "</ul>"
   ]
  },
  {
   "cell_type": "code",
   "execution_count": 1,
   "metadata": {},
   "outputs": [],
   "source": [
    "import lark\n",
    "grammar = \"\"\"\n",
    "start: or\n",
    "or:       and -> pass | and \"or\" and\n",
    "and:      not -> pass | not \"and\" not\n",
    "not:  compare -> pass | \"not\" not\n",
    "compare: term -> pass | term \"==\" term -> eq | term \"!=\" term -> ne\n",
    "                      | term  \"<\" term -> lt | term \"<=\" term -> le\n",
    "                      | term  \">\" term -> gt | term \">=\" term -> ge\n",
    "term:  factor -> pass | factor \"+\" term -> add | factor \"-\" term -> sub\n",
    "factor:  atom -> pass | atom \"*\" factor -> mul | atom \"/\" factor -> truediv\n",
    "atom:      \"(\" or \")\" | CNAME -> symbol | INT -> int | FLOAT -> float\n",
    "\n",
    "%import common.CNAME\n",
    "%import common.INT\n",
    "%import common.FLOAT\n",
    "%import common.WS\n",
    "%ignore WS\n",
    "\"\"\"\n",
    "parser = lark.Lark(grammar)"
   ]
  },
  {
   "cell_type": "code",
   "execution_count": 2,
   "metadata": {},
   "outputs": [
    {
     "name": "stdout",
     "output_type": "stream",
     "text": [
      "start\n",
      "  pass\n",
      "    and\n",
      "      not\n",
      "        pass\n",
      "          gt\n",
      "            pass\n",
      "              pass\n",
      "                symbol\tx\n",
      "            pass\n",
      "              pass\n",
      "                float\t0.0\n",
      "      pass\n",
      "        pass\n",
      "          add\n",
      "            pass\n",
      "              int\t2\n",
      "            pass\n",
      "              pass\n",
      "                int\t2\n",
      "\n"
     ]
    }
   ],
   "source": [
    "print(parser.parse(\"not x > 0.0 and 2 + 2\").pretty())"
   ]
  },
  {
   "cell_type": "code",
   "execution_count": 4,
   "metadata": {},
   "outputs": [],
   "source": [
    "# Define AST nodes, as before. This is the untyped AST.\n",
    "\n",
    "class AST:\n",
    "    _fields = ()\n",
    "    def __init__(self, *args):\n",
    "        for n, x in zip(self._fields, args):\n",
    "            setattr(self, n, x)\n",
    "\n",
    "class Literal(AST):                                 # a literal always knows its type,\n",
    "    _fields = (\"value\", \"type\")                     # even in the UntypedAST\n",
    "    def __str__(self): return \"{0}({1})\".format(self.type.__name__, str(self.value))\n",
    "\n",
    "class Symbol(AST):\n",
    "    _fields = (\"symbol\",)\n",
    "    def __str__(self): return self.symbol\n",
    "\n",
    "class Call(AST):\n",
    "    _fields = (\"function\", \"arguments\")\n",
    "    def __str__(self):\n",
    "        return \"{0}({1})\".format(str(self.function), \", \".join(str(x) for x in self.arguments))"
   ]
  },
  {
   "cell_type": "code",
   "execution_count": 5,
   "metadata": {},
   "outputs": [
    {
     "name": "stdout",
     "output_type": "stream",
     "text": [
      "and(not(gt(x, float(0.0))), add(int(2), int(2)))\n"
     ]
    }
   ],
   "source": [
    "# Simplify the Parsing Tree (PT) into an Abstract Syntax Tree (AST), as before.\n",
    "\n",
    "def toast(ptnode):\n",
    "    if ptnode.data == \"start\" or ptnode.data == \"pass\" or ptnode.data == \"atom\":\n",
    "        return toast(ptnode.children[0])\n",
    "    elif ptnode.data == \"int\":\n",
    "        return Literal(int(ptnode.children[0]), int)\n",
    "    elif ptnode.data == \"float\":\n",
    "        return Literal(float(ptnode.children[0]), float)\n",
    "    elif ptnode.data == \"symbol\":\n",
    "        return Symbol(str(ptnode.children[0]))\n",
    "    else:\n",
    "        return Call(str(ptnode.data), [toast(x) for x in ptnode.children])\n",
    "\n",
    "print(toast(parser.parse(\"not x > 0.0 and 2 + 2\")))"
   ]
  },
  {
   "cell_type": "code",
   "execution_count": 6,
   "metadata": {},
   "outputs": [],
   "source": [
    "# The typed AST is just like the untyped AST except that each node is labeled with a type.\n",
    "\n",
    "class Typed:\n",
    "    def __init__(self, thetype, *args):\n",
    "        self.type = thetype\n",
    "        super(Typed, self).__init__(*args)\n",
    "    def __str__(self):\n",
    "        return \"{0} as {1}\".format(super(Typed, self).__str__(), self.type.__name__)\n",
    "\n",
    "class TypedLiteral(Typed, Literal): pass\n",
    "\n",
    "class TypedSymbol(Typed, Symbol): pass\n",
    "\n",
    "class TypedCall(Typed, Call): pass"
   ]
  },
  {
   "cell_type": "code",
   "execution_count": 7,
   "metadata": {},
   "outputs": [],
   "source": [
    "def totyped(ast, symbols):\n",
    "    if isinstance(ast, Literal):\n",
    "        return TypedLiteral(ast.type, ast.value)\n",
    "    elif isinstance(ast, Symbol):\n",
    "        return TypedSymbol(symbols[ast.symbol], ast.symbol)\n",
    "    else:\n",
    "        arguments = [totyped(x, symbols) for x in ast.arguments]\n",
    "        if ast.function in (\"add\", \"sub\", \"mul\", \"truediv\"):           # number · number → number\n",
    "            if any(x.type != int and x.type != float for x in arguments):\n",
    "                raise TypeError(\"{0} requires numerical arguments\".format(repr(ast.function)))\n",
    "            return TypedCall(float, ast.function, arguments)\n",
    "        elif ast.function in (\"eq\", \"ne\", \"lt\", \"le\", \"gt\", \"ge\"):     # number · number → boolean\n",
    "            if any(x.type != int and x.type != float for x in arguments):\n",
    "                raise TypeError(\"{0} requires numerical arguments\".format(repr(ast.function)))\n",
    "            return TypedCall(bool, ast.function, arguments)\n",
    "        elif ast.function in (\"and\", \"or\", \"not\"):                     # boolean · boolean → boolean\n",
    "            if any(x.type != bool for x in arguments):\n",
    "                raise TypeError(\"{0} requires boolean arguments\".format(repr(ast.function)))\n",
    "            return TypedCall(bool, ast.function, arguments)"
   ]
  },
  {
   "cell_type": "code",
   "execution_count": 10,
   "metadata": {},
   "outputs": [
    {
     "name": "stdout",
     "output_type": "stream",
     "text": [
      "and(not(gt(x, float(0.0))), add(int(2), int(2)))\n"
     ]
    },
    {
     "ename": "TypeError",
     "evalue": "'and' requires boolean arguments",
     "output_type": "error",
     "traceback": [
      "\u001b[0;31m---------------------------------------------------------------------------\u001b[0m",
      "\u001b[0;31mTypeError\u001b[0m                                 Traceback (most recent call last)",
      "\u001b[0;32m<ipython-input-10-27844ff319a2>\u001b[0m in \u001b[0;36m<module>\u001b[0;34m\u001b[0m\n\u001b[1;32m      3\u001b[0m \u001b[0mcode\u001b[0m \u001b[0;34m=\u001b[0m \u001b[0;34m\"not x > 0.0 and 2 + 2\"\u001b[0m\u001b[0;34m\u001b[0m\u001b[0;34m\u001b[0m\u001b[0m\n\u001b[1;32m      4\u001b[0m \u001b[0mprint\u001b[0m\u001b[0;34m(\u001b[0m\u001b[0mtoast\u001b[0m\u001b[0;34m(\u001b[0m\u001b[0mparser\u001b[0m\u001b[0;34m.\u001b[0m\u001b[0mparse\u001b[0m\u001b[0;34m(\u001b[0m\u001b[0mcode\u001b[0m\u001b[0;34m)\u001b[0m\u001b[0;34m)\u001b[0m\u001b[0;34m)\u001b[0m\u001b[0;34m\u001b[0m\u001b[0;34m\u001b[0m\u001b[0m\n\u001b[0;32m----> 5\u001b[0;31m \u001b[0mprint\u001b[0m\u001b[0;34m(\u001b[0m\u001b[0mtotyped\u001b[0m\u001b[0;34m(\u001b[0m\u001b[0mtoast\u001b[0m\u001b[0;34m(\u001b[0m\u001b[0mparser\u001b[0m\u001b[0;34m.\u001b[0m\u001b[0mparse\u001b[0m\u001b[0;34m(\u001b[0m\u001b[0mcode\u001b[0m\u001b[0;34m)\u001b[0m\u001b[0;34m)\u001b[0m\u001b[0;34m,\u001b[0m \u001b[0msymbols\u001b[0m\u001b[0;34m=\u001b[0m\u001b[0;34m{\u001b[0m\u001b[0;34m\"x\"\u001b[0m\u001b[0;34m:\u001b[0m \u001b[0mfloat\u001b[0m\u001b[0;34m}\u001b[0m\u001b[0;34m)\u001b[0m\u001b[0;34m)\u001b[0m\u001b[0;34m\u001b[0m\u001b[0;34m\u001b[0m\u001b[0m\n\u001b[0m",
      "\u001b[0;32m<ipython-input-7-168e13941712>\u001b[0m in \u001b[0;36mtotyped\u001b[0;34m(ast, symbols)\u001b[0m\n\u001b[1;32m     16\u001b[0m         \u001b[0;32melif\u001b[0m \u001b[0mast\u001b[0m\u001b[0;34m.\u001b[0m\u001b[0mfunction\u001b[0m \u001b[0;32min\u001b[0m \u001b[0;34m(\u001b[0m\u001b[0;34m\"and\"\u001b[0m\u001b[0;34m,\u001b[0m \u001b[0;34m\"or\"\u001b[0m\u001b[0;34m,\u001b[0m \u001b[0;34m\"not\"\u001b[0m\u001b[0;34m)\u001b[0m\u001b[0;34m:\u001b[0m                     \u001b[0;31m# boolean · boolean → boolean\u001b[0m\u001b[0;34m\u001b[0m\u001b[0;34m\u001b[0m\u001b[0m\n\u001b[1;32m     17\u001b[0m             \u001b[0;32mif\u001b[0m \u001b[0many\u001b[0m\u001b[0;34m(\u001b[0m\u001b[0mx\u001b[0m\u001b[0;34m.\u001b[0m\u001b[0mtype\u001b[0m \u001b[0;34m!=\u001b[0m \u001b[0mbool\u001b[0m \u001b[0;32mfor\u001b[0m \u001b[0mx\u001b[0m \u001b[0;32min\u001b[0m \u001b[0marguments\u001b[0m\u001b[0;34m)\u001b[0m\u001b[0;34m:\u001b[0m\u001b[0;34m\u001b[0m\u001b[0;34m\u001b[0m\u001b[0m\n\u001b[0;32m---> 18\u001b[0;31m                 \u001b[0;32mraise\u001b[0m \u001b[0mTypeError\u001b[0m\u001b[0;34m(\u001b[0m\u001b[0;34m\"{0} requires boolean arguments\"\u001b[0m\u001b[0;34m.\u001b[0m\u001b[0mformat\u001b[0m\u001b[0;34m(\u001b[0m\u001b[0mrepr\u001b[0m\u001b[0;34m(\u001b[0m\u001b[0mast\u001b[0m\u001b[0;34m.\u001b[0m\u001b[0mfunction\u001b[0m\u001b[0;34m)\u001b[0m\u001b[0;34m)\u001b[0m\u001b[0;34m)\u001b[0m\u001b[0;34m\u001b[0m\u001b[0;34m\u001b[0m\u001b[0m\n\u001b[0m\u001b[1;32m     19\u001b[0m             \u001b[0;32mreturn\u001b[0m \u001b[0mTypedCall\u001b[0m\u001b[0;34m(\u001b[0m\u001b[0mbool\u001b[0m\u001b[0;34m,\u001b[0m \u001b[0mast\u001b[0m\u001b[0;34m.\u001b[0m\u001b[0mfunction\u001b[0m\u001b[0;34m,\u001b[0m \u001b[0marguments\u001b[0m\u001b[0;34m)\u001b[0m\u001b[0;34m\u001b[0m\u001b[0;34m\u001b[0m\u001b[0m\n",
      "\u001b[0;31mTypeError\u001b[0m: 'and' requires boolean arguments"
     ]
    }
   ],
   "source": [
    "# Our syntactically correct example has a type error.\n",
    "\n",
    "code = \"not x > 0.0 and 2 + 2\"\n",
    "print(toast(parser.parse(code)))\n",
    "print(totyped(toast(parser.parse(code)), symbols={\"x\": float}))"
   ]
  },
  {
   "cell_type": "code",
   "execution_count": 11,
   "metadata": {},
   "outputs": [],
   "source": [
    "# The totyped handling can be simplified by looking up a signature from a list.\n",
    "\n",
    "def totyped(ast, signatures, symbols):\n",
    "    if isinstance(ast, Literal):\n",
    "        return TypedLiteral(ast.type, ast.value)\n",
    "\n",
    "    elif isinstance(ast, Symbol):\n",
    "        return TypedSymbol(symbols[ast.symbol], ast.symbol)\n",
    "\n",
    "    else:\n",
    "        arguments = [totyped(x, signatures, symbols) for x in ast.arguments]\n",
    "        types = [x.type for x in arguments]\n",
    "\n",
    "        # search for a (name, args) match; apply the corresponding ret\n",
    "        for name, args, ret in signatures:\n",
    "            if name == ast.function and args == types:\n",
    "                return TypedCall(ret, ast.function, arguments)\n",
    "\n",
    "        raise TypeError(\"illegal arguments: {0}({1})\".format(\n",
    "            ast.function, \", \".join(x.__name__ for x in types)))"
   ]
  },
  {
   "cell_type": "code",
   "execution_count": 14,
   "metadata": {},
   "outputs": [
    {
     "name": "stdout",
     "output_type": "stream",
     "text": [
      "and(not(gt(x, float(0.0))), truediv(int(3), int(2)))\n"
     ]
    },
    {
     "ename": "TypeError",
     "evalue": "illegal arguments: truediv(int, int)",
     "output_type": "error",
     "traceback": [
      "\u001b[0;31m---------------------------------------------------------------------------\u001b[0m",
      "\u001b[0;31mTypeError\u001b[0m                                 Traceback (most recent call last)",
      "\u001b[0;32m<ipython-input-14-4434fdbc0d78>\u001b[0m in \u001b[0;36m<module>\u001b[0;34m\u001b[0m\n\u001b[1;32m     15\u001b[0m \u001b[0mcode\u001b[0m \u001b[0;34m=\u001b[0m \u001b[0;34m\"not x > 0.0 and 3 / 2\"\u001b[0m\u001b[0;34m\u001b[0m\u001b[0;34m\u001b[0m\u001b[0m\n\u001b[1;32m     16\u001b[0m \u001b[0mprint\u001b[0m\u001b[0;34m(\u001b[0m\u001b[0mtoast\u001b[0m\u001b[0;34m(\u001b[0m\u001b[0mparser\u001b[0m\u001b[0;34m.\u001b[0m\u001b[0mparse\u001b[0m\u001b[0;34m(\u001b[0m\u001b[0mcode\u001b[0m\u001b[0;34m)\u001b[0m\u001b[0;34m)\u001b[0m\u001b[0;34m)\u001b[0m\u001b[0;34m\u001b[0m\u001b[0;34m\u001b[0m\u001b[0m\n\u001b[0;32m---> 17\u001b[0;31m \u001b[0mprint\u001b[0m\u001b[0;34m(\u001b[0m\u001b[0mtotyped\u001b[0m\u001b[0;34m(\u001b[0m\u001b[0mtoast\u001b[0m\u001b[0;34m(\u001b[0m\u001b[0mparser\u001b[0m\u001b[0;34m.\u001b[0m\u001b[0mparse\u001b[0m\u001b[0;34m(\u001b[0m\u001b[0mcode\u001b[0m\u001b[0;34m)\u001b[0m\u001b[0;34m)\u001b[0m\u001b[0;34m,\u001b[0m \u001b[0msignatures\u001b[0m\u001b[0;34m,\u001b[0m \u001b[0msymbols\u001b[0m\u001b[0;34m=\u001b[0m\u001b[0;34m{\u001b[0m\u001b[0;34m\"x\"\u001b[0m\u001b[0;34m:\u001b[0m \u001b[0mfloat\u001b[0m\u001b[0;34m}\u001b[0m\u001b[0;34m)\u001b[0m\u001b[0;34m)\u001b[0m\u001b[0;34m\u001b[0m\u001b[0;34m\u001b[0m\u001b[0m\n\u001b[0m",
      "\u001b[0;32m<ipython-input-11-0b04e1e1e8f5>\u001b[0m in \u001b[0;36mtotyped\u001b[0;34m(ast, signatures, symbols)\u001b[0m\n\u001b[1;32m      9\u001b[0m \u001b[0;34m\u001b[0m\u001b[0m\n\u001b[1;32m     10\u001b[0m     \u001b[0;32melse\u001b[0m\u001b[0;34m:\u001b[0m\u001b[0;34m\u001b[0m\u001b[0;34m\u001b[0m\u001b[0m\n\u001b[0;32m---> 11\u001b[0;31m         \u001b[0marguments\u001b[0m \u001b[0;34m=\u001b[0m \u001b[0;34m[\u001b[0m\u001b[0mtotyped\u001b[0m\u001b[0;34m(\u001b[0m\u001b[0mx\u001b[0m\u001b[0;34m,\u001b[0m \u001b[0msignatures\u001b[0m\u001b[0;34m,\u001b[0m \u001b[0msymbols\u001b[0m\u001b[0;34m)\u001b[0m \u001b[0;32mfor\u001b[0m \u001b[0mx\u001b[0m \u001b[0;32min\u001b[0m \u001b[0mast\u001b[0m\u001b[0;34m.\u001b[0m\u001b[0marguments\u001b[0m\u001b[0;34m]\u001b[0m\u001b[0;34m\u001b[0m\u001b[0;34m\u001b[0m\u001b[0m\n\u001b[0m\u001b[1;32m     12\u001b[0m         \u001b[0mtypes\u001b[0m \u001b[0;34m=\u001b[0m \u001b[0;34m[\u001b[0m\u001b[0mx\u001b[0m\u001b[0;34m.\u001b[0m\u001b[0mtype\u001b[0m \u001b[0;32mfor\u001b[0m \u001b[0mx\u001b[0m \u001b[0;32min\u001b[0m \u001b[0marguments\u001b[0m\u001b[0;34m]\u001b[0m\u001b[0;34m\u001b[0m\u001b[0;34m\u001b[0m\u001b[0m\n\u001b[1;32m     13\u001b[0m \u001b[0;34m\u001b[0m\u001b[0m\n",
      "\u001b[0;32m<ipython-input-11-0b04e1e1e8f5>\u001b[0m in \u001b[0;36m<listcomp>\u001b[0;34m(.0)\u001b[0m\n\u001b[1;32m      9\u001b[0m \u001b[0;34m\u001b[0m\u001b[0m\n\u001b[1;32m     10\u001b[0m     \u001b[0;32melse\u001b[0m\u001b[0;34m:\u001b[0m\u001b[0;34m\u001b[0m\u001b[0;34m\u001b[0m\u001b[0m\n\u001b[0;32m---> 11\u001b[0;31m         \u001b[0marguments\u001b[0m \u001b[0;34m=\u001b[0m \u001b[0;34m[\u001b[0m\u001b[0mtotyped\u001b[0m\u001b[0;34m(\u001b[0m\u001b[0mx\u001b[0m\u001b[0;34m,\u001b[0m \u001b[0msignatures\u001b[0m\u001b[0;34m,\u001b[0m \u001b[0msymbols\u001b[0m\u001b[0;34m)\u001b[0m \u001b[0;32mfor\u001b[0m \u001b[0mx\u001b[0m \u001b[0;32min\u001b[0m \u001b[0mast\u001b[0m\u001b[0;34m.\u001b[0m\u001b[0marguments\u001b[0m\u001b[0;34m]\u001b[0m\u001b[0;34m\u001b[0m\u001b[0;34m\u001b[0m\u001b[0m\n\u001b[0m\u001b[1;32m     12\u001b[0m         \u001b[0mtypes\u001b[0m \u001b[0;34m=\u001b[0m \u001b[0;34m[\u001b[0m\u001b[0mx\u001b[0m\u001b[0;34m.\u001b[0m\u001b[0mtype\u001b[0m \u001b[0;32mfor\u001b[0m \u001b[0mx\u001b[0m \u001b[0;32min\u001b[0m \u001b[0marguments\u001b[0m\u001b[0;34m]\u001b[0m\u001b[0;34m\u001b[0m\u001b[0;34m\u001b[0m\u001b[0m\n\u001b[1;32m     13\u001b[0m \u001b[0;34m\u001b[0m\u001b[0m\n",
      "\u001b[0;32m<ipython-input-11-0b04e1e1e8f5>\u001b[0m in \u001b[0;36mtotyped\u001b[0;34m(ast, signatures, symbols)\u001b[0m\n\u001b[1;32m     18\u001b[0m \u001b[0;34m\u001b[0m\u001b[0m\n\u001b[1;32m     19\u001b[0m         raise TypeError(\"illegal arguments: {0}({1})\".format(\n\u001b[0;32m---> 20\u001b[0;31m             ast.function, \", \".join(x.__name__ for x in types)))\n\u001b[0m",
      "\u001b[0;31mTypeError\u001b[0m: illegal arguments: truediv(int, int)"
     ]
    }
   ],
   "source": [
    "# Short exercise: add and test truediv. How does its signature differ from add's?\n",
    "\n",
    "signatures = [(\"add\", [int, int], int),\n",
    "              (\"add\", [int, float], float),\n",
    "              (\"add\", [float, int], float),\n",
    "              (\"add\", [float, float], float),\n",
    "              (\"gt\",  [int, int], bool),\n",
    "              (\"gt\",  [int, float], bool),\n",
    "              (\"gt\",  [float, int], bool),\n",
    "              (\"gt\",  [float, float], bool),\n",
    "              (\"not\", [bool], bool),\n",
    "              (\"and\", [bool, bool], bool),\n",
    "              (\"or\",  [bool, bool], bool)]\n",
    "\n",
    "code = \"not x > 0.0 and 3 / 2\"\n",
    "print(toast(parser.parse(code)))\n",
    "print(totyped(toast(parser.parse(code)), signatures, symbols={\"x\": float}))"
   ]
  },
  {
   "cell_type": "markdown",
   "metadata": {},
   "source": [
    "## Parameterized types\n",
    "\n",
    "To support more data structures, we can consider \"functions of types.\" Like functions in a programming language, they allow us to build what we need from simpler primitives.\n",
    "\n",
    "Examples include:\n",
    "\n",
    "   * C++ templates: think of the `<` `>` brackets as `(` `)` around a function's arguments.\n",
    "   * Arrays, structs, and unions in C, which don't have a function-like syntax.\n",
    "   * `tuple<T1, T2, T3>` values are points in `T1` and `T2` and `T3` (**product type**).\n",
    "   * `variant<T1, T2, T3>` values are each in `T1` or `T2` or `T3` (**sum type**).\n",
    "   * `None` or `null` is a member of a single-element set.\n",
    "   * exceptions or functions that never return (infinite loop) are represented by the empty set.\n",
    "\n",
    "Type-checking is implemented in some programming language; **type functions** are functions in the type-checking language.\n",
    "\n",
    "The type-checking language is usually dynamically typed (ironically enough) and the type of a type is called a **kind**."
   ]
  },
  {
   "cell_type": "code",
   "execution_count": 15,
   "metadata": {},
   "outputs": [
    {
     "name": "stdout",
     "output_type": "stream",
     "text": [
      "add(x, mul(A, y))\n"
     ]
    }
   ],
   "source": [
    "import lark\n",
    "\n",
    "# matrix multiplication language, like bra-ket without syntactic constraints\n",
    "grammar = \"\"\"\n",
    "start: term\n",
    "term:  factor -> pass | term \"+\" factor -> add\n",
    "factor:  atom -> pass | atom factor -> mul\n",
    "atom:    \"(\" term \")\" | CNAME -> symbol\n",
    "\n",
    "%import common.CNAME\n",
    "%import common.WS\n",
    "%ignore WS\n",
    "\"\"\"\n",
    "\n",
    "parser = lark.Lark(grammar)\n",
    "\n",
    "print(toast(parser.parse(\"x + A y\")))"
   ]
  },
  {
   "cell_type": "code",
   "execution_count": 16,
   "metadata": {},
   "outputs": [],
   "source": [
    "class Matrix:\n",
    "    def __init__(self, rows, cols):\n",
    "        self.rows, self.cols = rows, cols\n",
    "        self.__name__ = str(self)\n",
    "    def __str__(self):\n",
    "        return \"({0}×{1})\".format(self.rows, self.cols)\n",
    "\n",
    "def totyped(ast, symbols):\n",
    "    if isinstance(ast, Symbol):\n",
    "        return TypedSymbol(symbols[ast.symbol], ast.symbol)\n",
    "    else:\n",
    "        arguments = [totyped(x, symbols) for x in ast.arguments]\n",
    "        left, right = [x.type for x in arguments]\n",
    "        if ast.function == \"add\":\n",
    "            if left.rows != right.rows or left.cols != right.cols:\n",
    "                raise TypeError(\"cannot add {0} to {1}\".format(left, right))\n",
    "            return TypedCall(left, ast.function, arguments)\n",
    "        elif ast.function == \"mul\":\n",
    "            if left.cols != right.rows:\n",
    "                raise TypeError(\"cannot mul {0} to {1}\".format(left, right))\n",
    "            return TypedCall(Matrix(left.rows, right.cols), ast.function, arguments)"
   ]
  },
  {
   "cell_type": "code",
   "execution_count": 19,
   "metadata": {},
   "outputs": [
    {
     "name": "stdout",
     "output_type": "stream",
     "text": [
      "add(x, mul(A, y))\n"
     ]
    },
    {
     "ename": "TypeError",
     "evalue": "cannot add (1×5) to (5×1)",
     "output_type": "error",
     "traceback": [
      "\u001b[0;31m---------------------------------------------------------------------------\u001b[0m",
      "\u001b[0;31mTypeError\u001b[0m                                 Traceback (most recent call last)",
      "\u001b[0;32m<ipython-input-19-052d33f5e167>\u001b[0m in \u001b[0;36m<module>\u001b[0;34m\u001b[0m\n\u001b[1;32m      2\u001b[0m \u001b[0mprint\u001b[0m\u001b[0;34m(\u001b[0m\u001b[0mtoast\u001b[0m\u001b[0;34m(\u001b[0m\u001b[0mparser\u001b[0m\u001b[0;34m.\u001b[0m\u001b[0mparse\u001b[0m\u001b[0;34m(\u001b[0m\u001b[0mcode\u001b[0m\u001b[0;34m)\u001b[0m\u001b[0;34m)\u001b[0m\u001b[0;34m)\u001b[0m\u001b[0;34m\u001b[0m\u001b[0;34m\u001b[0m\u001b[0m\n\u001b[1;32m      3\u001b[0m print(totyped(toast(parser.parse(code)),\n\u001b[0;32m----> 4\u001b[0;31m               symbols={\"x\": Matrix(1, 5), \"A\": Matrix(5, 4), \"y\": Matrix(4, 1)}))\n\u001b[0m",
      "\u001b[0;32m<ipython-input-16-501fa9f77437>\u001b[0m in \u001b[0;36mtotyped\u001b[0;34m(ast, symbols)\u001b[0m\n\u001b[1;32m     14\u001b[0m         \u001b[0;32mif\u001b[0m \u001b[0mast\u001b[0m\u001b[0;34m.\u001b[0m\u001b[0mfunction\u001b[0m \u001b[0;34m==\u001b[0m \u001b[0;34m\"add\"\u001b[0m\u001b[0;34m:\u001b[0m\u001b[0;34m\u001b[0m\u001b[0;34m\u001b[0m\u001b[0m\n\u001b[1;32m     15\u001b[0m             \u001b[0;32mif\u001b[0m \u001b[0mleft\u001b[0m\u001b[0;34m.\u001b[0m\u001b[0mrows\u001b[0m \u001b[0;34m!=\u001b[0m \u001b[0mright\u001b[0m\u001b[0;34m.\u001b[0m\u001b[0mrows\u001b[0m \u001b[0;32mor\u001b[0m \u001b[0mleft\u001b[0m\u001b[0;34m.\u001b[0m\u001b[0mcols\u001b[0m \u001b[0;34m!=\u001b[0m \u001b[0mright\u001b[0m\u001b[0;34m.\u001b[0m\u001b[0mcols\u001b[0m\u001b[0;34m:\u001b[0m\u001b[0;34m\u001b[0m\u001b[0;34m\u001b[0m\u001b[0m\n\u001b[0;32m---> 16\u001b[0;31m                 \u001b[0;32mraise\u001b[0m \u001b[0mTypeError\u001b[0m\u001b[0;34m(\u001b[0m\u001b[0;34m\"cannot add {0} to {1}\"\u001b[0m\u001b[0;34m.\u001b[0m\u001b[0mformat\u001b[0m\u001b[0;34m(\u001b[0m\u001b[0mleft\u001b[0m\u001b[0;34m,\u001b[0m \u001b[0mright\u001b[0m\u001b[0;34m)\u001b[0m\u001b[0;34m)\u001b[0m\u001b[0;34m\u001b[0m\u001b[0;34m\u001b[0m\u001b[0m\n\u001b[0m\u001b[1;32m     17\u001b[0m             \u001b[0;32mreturn\u001b[0m \u001b[0mTypedCall\u001b[0m\u001b[0;34m(\u001b[0m\u001b[0mleft\u001b[0m\u001b[0;34m,\u001b[0m \u001b[0mast\u001b[0m\u001b[0;34m.\u001b[0m\u001b[0mfunction\u001b[0m\u001b[0;34m,\u001b[0m \u001b[0marguments\u001b[0m\u001b[0;34m)\u001b[0m\u001b[0;34m\u001b[0m\u001b[0;34m\u001b[0m\u001b[0m\n\u001b[1;32m     18\u001b[0m         \u001b[0;32melif\u001b[0m \u001b[0mast\u001b[0m\u001b[0;34m.\u001b[0m\u001b[0mfunction\u001b[0m \u001b[0;34m==\u001b[0m \u001b[0;34m\"mul\"\u001b[0m\u001b[0;34m:\u001b[0m\u001b[0;34m\u001b[0m\u001b[0;34m\u001b[0m\u001b[0m\n",
      "\u001b[0;31mTypeError\u001b[0m: cannot add (1×5) to (5×1)"
     ]
    }
   ],
   "source": [
    "code = \"x + A y\"\n",
    "print(toast(parser.parse(code)))\n",
    "print(totyped(toast(parser.parse(code)),\n",
    "              symbols={\"x\": Matrix(1, 5), \"A\": Matrix(5, 4), \"y\": Matrix(4, 1)}))"
   ]
  },
  {
   "cell_type": "markdown",
   "metadata": {},
   "source": [
    "## Dependent types\n",
    "\n",
    "Until recently, most of the focus of type-checking was to ensure that machine instructions were valid—for instance, a floating-point instruction is never called on integer data. Now there's increased emphasis on \"type safety,\" ensuring that the programmer doesn't make certain kinds of mistakes.\n",
    "\n",
    "   * To ensure machine code validity, you only need **concrete types**: what do these bytes respresent?\n",
    "   * For type-safety, you need **abstract types**: what mathematical set is this value guaranteed to be in?\n",
    "\n",
    "**Dependent types** are types that depend on values; they say something about the range of allowed values. For instance, a type system might distinguish empty lists from non-empty lists—a request for the first item is valid only for non-empty lists.\n",
    "\n",
    "The Rust programming language includes memory management in its type system, so that memory leaks and double-deallocation are compile-time errors.\n",
    "\n",
    "We'll implement numbers with interval arithmetic to forbid division by zero."
   ]
  },
  {
   "cell_type": "code",
   "execution_count": 20,
   "metadata": {},
   "outputs": [
    {
     "name": "stdout",
     "output_type": "stream",
     "text": [
      "truediv(add(x, y), z)\n"
     ]
    }
   ],
   "source": [
    "import lark\n",
    "\n",
    "grammar = \"\"\"\n",
    "start: term\n",
    "term:  factor -> pass | term \"+\" factor -> add | term \"-\" factor -> sub\n",
    "factor:  atom -> pass | atom \"*\" factor -> mul | atom \"/\" factor -> truediv\n",
    "atom:    \"(\" term \")\" | CNAME -> symbol\n",
    "\n",
    "%import common.CNAME\n",
    "%import common.WS\n",
    "%ignore WS\n",
    "\"\"\"\n",
    "\n",
    "parser = lark.Lark(grammar)\n",
    "\n",
    "print(toast(parser.parse(\"(x + y) / z\")))"
   ]
  }
 ],
 "metadata": {
  "kernelspec": {
   "display_name": "Python 3",
   "language": "python",
   "name": "python3"
  },
  "language_info": {
   "codemirror_mode": {
    "name": "ipython",
    "version": 3
   },
   "file_extension": ".py",
   "mimetype": "text/x-python",
   "name": "python",
   "nbconvert_exporter": "python",
   "pygments_lexer": "ipython3",
   "version": "3.7.1"
  }
 },
 "nbformat": 4,
 "nbformat_minor": 2
}
