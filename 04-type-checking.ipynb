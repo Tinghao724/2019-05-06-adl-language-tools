{
 "cells": [
  {
   "cell_type": "markdown",
   "metadata": {},
   "source": [
    "<br><br><br><br><br>\n",
    "\n",
    "# Type checking\n",
    "\n",
    "<br><br><br><br><br>"
   ]
  },
  {
   "cell_type": "markdown",
   "metadata": {},
   "source": [
    "<br>\n",
    "\n",
    "Most compiled languages perform an additional tree-to-tree transformation: **type checking**.\n",
    "\n",
    "Generally, an **untyped AST** (such as the ones we've been dealing with) gets replaced by a **typed AST**, in which each node is marked by a data type, such as `double` or `boolean`. (It's also possible to mark an AST in-place with type labels, but if so, be sure that node instances are unique!)\n",
    "\n",
    "Type checking was traditionally motivated by the need to generate the right instructions in the output language (e.g. `__add_int32__` vs `__add_float32__` on unlabled 32-bit registers), but it can be much more general than that:\n",
    "\n",
    "<center style=\"margin-top: 20px; margin-bottom: 20px\"><b>type checking is a formal proof that the program satisfies certain properties.</b></center>\n",
    "\n",
    "The properties to prove are encoded in the **type system**, which can be specialized to a domain like particle physics.\n",
    "\n",
    "_What properties do we want particle physics analysis scripts to satisfy?_\n",
    "\n",
    "<br>"
   ]
  },
  {
   "cell_type": "markdown",
   "metadata": {},
   "source": [
    "<br>\n",
    "\n",
    "**Some terminology:**\n",
    "\n",
    "   * A **type** is a _set of possible values_ that a symbol or expression can have at runtime. Types may be\n",
    "      * **abstract** if they're specified without reference to a bit-representation, like \"all non-negative integers less than `2**32`\"\n",
    "      * **concrete** if a bit-representation is given, like \"two's complement 32-bit integers without a sign bit.\"\n",
    "   \n",
    "   \n",
    "   * A **strongly typed** language stops processing if it encounters values that do not match function argument types: it either stops the compilation or the runtime execution.\n",
    "   \n",
    "   * A **weakly typed** language either passes bits without checking them or converts values to fit expectations.\n",
    "   \n",
    "   * A **statically typed** language undergoes a type-checking pass before programs are run, usually as part of a compilation.\n",
    "   \n",
    "   * A **dynamically typed** language checks types at runtime. Types may be valid at one time and invalid at another.\n",
    "\n",
    "<br>"
   ]
  },
  {
   "cell_type": "markdown",
   "metadata": {},
   "source": [
    "<p style=\"margin-bottom: 0px\"><b>Weakly typed (values are assumed to fit operations)</b></p>\n",
    "<ul style=\"margin-top: 0px\">\n",
    "  <li>Most assembly languages treat all values as raw bits; programmer has to keep track of types and call the right instructions.\n",
    "  <li>C is often used as a weakly typed language (e.g. passing everything as <tt>void*</tt>).\n",
    "</ul>\n",
    "\n",
    "<p style=\"margin-bottom: 0px\"><b>Weakly typed (values are converted to fit operations)</b></p>\n",
    "<ul style=\"margin-top: 0px\">\n",
    "  <li>Perl: <tt>\"2\" + 8 → \"10\"</tt> and unknown or unconvertable variables are presumed to be zero.\n",
    "  <li>Javascript: <tt>\"2\" + 8 → \"28\"</tt>\n",
    "  <li>MATLAB: <tt>\"2\" + 8 → 58</tt> (because the ASCII value of <tt>\"2\"</tt> is <tt>50</tt>...)\n",
    "  <li>Python predicates: <tt>None</tt> or <tt>[]</tt> resolves to <tt>False</tt>, <tt>[0]</tt> resolves to <tt>True</tt> when used with <tt>if/and/or/not</tt>.\n",
    "  <li>Python 2's handling of byte-strings vs unicode.\n",
    "  <li>Most languages promote integers to floating-point values in mixed arithmetic.\n",
    "</ul>\n",
    "\n",
    "<p style=\"margin-bottom: 0px\"><b>Strongly but dynamically typed</b></p>\n",
    "<ul style=\"margin-top: 0px\">\n",
    "  <li>Everything else in Python (<tt>\"2\" + 8</tt> is a <tt>TypeError</tt>).\n",
    "  <li>Lisp, Ruby, R, Erlang, Lua, Tcl, Smalltalk, PostScript...\n",
    "</ul>\n",
    "\n",
    "<p style=\"margin-bottom: 0px\"><b>Strongly and statically typed</b></p>\n",
    "<ul style=\"margin-top: 0px\">\n",
    "  <li>C++, Java, C#, Rust, Go, Swift, Haskell, ML, Scala, Fortran, LLVM's assembly language...\n",
    "</ul>"
   ]
  },
  {
   "cell_type": "code",
   "execution_count": 19,
   "metadata": {},
   "outputs": [],
   "source": [
    "import lark\n",
    "grammar = \"\"\"\n",
    "start: or\n",
    "or:       and -> pass | and \"or\" and\n",
    "and:      not -> pass | not \"and\" not\n",
    "not:  compare -> pass | \"not\" not\n",
    "compare: term -> pass | term \"==\" term -> eq | term \"!=\" term -> ne\n",
    "                      | term  \"<\" term -> lt | term \"<=\" term -> le\n",
    "                      | term  \">\" term -> gt | term \">=\" term -> ge\n",
    "term:  factor -> pass | factor \"+\" factor -> add | factor \"-\" factor -> sub\n",
    "factor:  atom -> pass | atom \"*\" atom -> mul     | atom \"/\" atom -> truediv\n",
    "atom:      \"(\" or \")\" | CNAME -> symbol | INT -> int | FLOAT -> float\n",
    "\n",
    "%import common.CNAME\n",
    "%import common.INT\n",
    "%import common.FLOAT\n",
    "%import common.WS\n",
    "%ignore WS\n",
    "\"\"\"\n",
    "parser = lark.Lark(grammar)"
   ]
  },
  {
   "cell_type": "code",
   "execution_count": 21,
   "metadata": {},
   "outputs": [
    {
     "name": "stdout",
     "output_type": "stream",
     "text": [
      "start\n",
      "  pass\n",
      "    and\n",
      "      not\n",
      "        pass\n",
      "          gt\n",
      "            pass\n",
      "              pass\n",
      "                symbol\tx\n",
      "            pass\n",
      "              pass\n",
      "                float\t0.0\n",
      "      pass\n",
      "        pass\n",
      "          add\n",
      "            pass\n",
      "              int\t2\n",
      "            pass\n",
      "              int\t2\n",
      "\n"
     ]
    }
   ],
   "source": [
    "print(parser.parse(\"not x > 0.0 and 2 + 2\").pretty())"
   ]
  },
  {
   "cell_type": "code",
   "execution_count": 31,
   "metadata": {},
   "outputs": [],
   "source": [
    "# Define AST nodes, as before. This is the untyped AST.\n",
    "\n",
    "class AST:\n",
    "    _fields = ()\n",
    "    def __init__(self, *args):\n",
    "        for n, x in zip(self._fields, args):\n",
    "            setattr(self, n, x)\n",
    "\n",
    "class Literal(AST):                                 # a literal always knows its type,\n",
    "    _fields = (\"value\", \"type\")                     # even in the UntypedAST\n",
    "    def __str__(self): return \"{0}({1})\".format(self.type.__name__, str(self.value))\n",
    "\n",
    "class Symbol(AST):\n",
    "    _fields = (\"symbol\",)\n",
    "    def __str__(self): return self.symbol\n",
    "\n",
    "class Call(UntypedAST):\n",
    "    _fields = (\"function\", \"arguments\")\n",
    "    def __str__(self):\n",
    "        return \"{0}({1})\".format(str(self.function), \", \".join(str(x) for x in self.arguments))"
   ]
  },
  {
   "cell_type": "code",
   "execution_count": 32,
   "metadata": {},
   "outputs": [
    {
     "name": "stdout",
     "output_type": "stream",
     "text": [
      "and(not(gt(x, float(0.0))), add(int(2), int(2)))\n"
     ]
    }
   ],
   "source": [
    "# Simplify the Parsing Tree (PT) into an Abstract Syntax Tree (AST), as before.\n",
    "\n",
    "def toast(ptnode):\n",
    "    if ptnode.data == \"start\" or ptnode.data == \"pass\" or ptnode.data == \"atom\":\n",
    "        return toast(ptnode.children[0])\n",
    "    elif ptnode.data == \"int\":\n",
    "        return Literal(int(ptnode.children[0]), int)\n",
    "    elif ptnode.data == \"float\":\n",
    "        return Literal(float(ptnode.children[0]), float)\n",
    "    elif ptnode.data == \"symbol\":\n",
    "        return Symbol(str(ptnode.children[0]))\n",
    "    else:\n",
    "        return Call(str(ptnode.data), [toast(x) for x in ptnode.children])\n",
    "\n",
    "print(toast(parser.parse(\"not x > 0.0 and 2 + 2\")))"
   ]
  },
  {
   "cell_type": "code",
   "execution_count": 37,
   "metadata": {},
   "outputs": [],
   "source": [
    "# The typed AST is just like the untyped AST except that each node is labeled with a type.\n",
    "\n",
    "class Typed:\n",
    "    def __init__(self, thetype, *args):\n",
    "        self.type = thetype\n",
    "        super(Typed, self).__init__(*args)\n",
    "    def __str__(self):\n",
    "        return \"{0} as {1}\".format(super(Typed, self).__str__(), self.type.__name__)\n",
    "\n",
    "class TypedLiteral(Typed, Literal): pass\n",
    "\n",
    "class TypedSymbol(Typed, Symbol): pass\n",
    "\n",
    "class TypedCall(Typed, Call): pass"
   ]
  },
  {
   "cell_type": "code",
   "execution_count": 44,
   "metadata": {},
   "outputs": [],
   "source": [
    "def totyped(ast, symbols):\n",
    "    if isinstance(ast, Literal):\n",
    "        return TypedLiteral(ast.type, ast.value)\n",
    "    elif isinstance(ast, Symbol):\n",
    "        return TypedSymbol(symbols[ast.symbol], ast.symbol)\n",
    "    else:\n",
    "        arguments = [totyped(x, symbols) for x in ast.arguments]\n",
    "        if ast.function in (\"add\", \"sub\", \"mul\", \"truediv\"):           # number · number → number\n",
    "            if any(x.type != int and x.type != float for x in arguments):\n",
    "                raise TypeError(\"{0} requires numerical arguments\".format(ast.function))\n",
    "            return TypedCall(float, ast.function, arguments)\n",
    "        elif ast.function in (\"eq\", \"ne\", \"lt\", \"le\", \"gt\", \"ge\"):     # number · number → boolean\n",
    "            if any(x.type != int and x.type != float for x in arguments):\n",
    "                raise TypeError(\"{0} requires numerical arguments\".format(ast.function))\n",
    "            return TypedCall(bool, ast.function, arguments)\n",
    "        elif ast.function in (\"and\", \"or\", \"not\"):                     # boolean · boolean → boolean\n",
    "            if any(x.type != bool for x in arguments):\n",
    "                raise TypeError(\"{0} requires boolean arguments\".format(ast.function))\n",
    "            return TypedCall(bool, ast.function, arguments)"
   ]
  },
  {
   "cell_type": "code",
   "execution_count": 43,
   "metadata": {},
   "outputs": [
    {
     "ename": "TypeError",
     "evalue": "and requires boolean arguments",
     "output_type": "error",
     "traceback": [
      "\u001b[0;31m----------------------------------------------------------------------\u001b[0m",
      "\u001b[0;31mTypeError\u001b[0m                            Traceback (most recent call last)",
      "\u001b[0;32m<ipython-input-43-80d366024924>\u001b[0m in \u001b[0;36m<module>\u001b[0;34m\u001b[0m\n\u001b[0;32m----> 1\u001b[0;31m \u001b[0mprint\u001b[0m\u001b[0;34m(\u001b[0m\u001b[0mtotyped\u001b[0m\u001b[0;34m(\u001b[0m\u001b[0mtoast\u001b[0m\u001b[0;34m(\u001b[0m\u001b[0mparser\u001b[0m\u001b[0;34m.\u001b[0m\u001b[0mparse\u001b[0m\u001b[0;34m(\u001b[0m\u001b[0;34m\"not x > 0.0 and 2 + 2\"\u001b[0m\u001b[0;34m)\u001b[0m\u001b[0;34m)\u001b[0m\u001b[0;34m,\u001b[0m \u001b[0msymbols\u001b[0m\u001b[0;34m=\u001b[0m\u001b[0;34m{\u001b[0m\u001b[0;34m\"x\"\u001b[0m\u001b[0;34m:\u001b[0m \u001b[0mfloat\u001b[0m\u001b[0;34m}\u001b[0m\u001b[0;34m)\u001b[0m\u001b[0;34m)\u001b[0m\u001b[0;34m\u001b[0m\u001b[0;34m\u001b[0m\u001b[0m\n\u001b[0m",
      "\u001b[0;32m<ipython-input-39-4fbebd02bf69>\u001b[0m in \u001b[0;36mtotyped\u001b[0;34m(ast, symbols)\u001b[0m\n\u001b[1;32m     16\u001b[0m         \u001b[0;32melif\u001b[0m \u001b[0mast\u001b[0m\u001b[0;34m.\u001b[0m\u001b[0mfunction\u001b[0m \u001b[0;32min\u001b[0m \u001b[0;34m(\u001b[0m\u001b[0;34m\"and\"\u001b[0m\u001b[0;34m,\u001b[0m \u001b[0;34m\"or\"\u001b[0m\u001b[0;34m,\u001b[0m \u001b[0;34m\"not\"\u001b[0m\u001b[0;34m)\u001b[0m\u001b[0;34m:\u001b[0m\u001b[0;34m\u001b[0m\u001b[0;34m\u001b[0m\u001b[0m\n\u001b[1;32m     17\u001b[0m             \u001b[0;32mif\u001b[0m \u001b[0many\u001b[0m\u001b[0;34m(\u001b[0m\u001b[0mx\u001b[0m\u001b[0;34m.\u001b[0m\u001b[0mtype\u001b[0m \u001b[0;34m!=\u001b[0m \u001b[0mbool\u001b[0m \u001b[0;32mfor\u001b[0m \u001b[0mx\u001b[0m \u001b[0;32min\u001b[0m \u001b[0marguments\u001b[0m\u001b[0;34m)\u001b[0m\u001b[0;34m:\u001b[0m\u001b[0;34m\u001b[0m\u001b[0;34m\u001b[0m\u001b[0m\n\u001b[0;32m---> 18\u001b[0;31m                 \u001b[0;32mraise\u001b[0m \u001b[0mTypeError\u001b[0m\u001b[0;34m(\u001b[0m\u001b[0;34m\"{0} requires boolean arguments\"\u001b[0m\u001b[0;34m.\u001b[0m\u001b[0mformat\u001b[0m\u001b[0;34m(\u001b[0m\u001b[0mast\u001b[0m\u001b[0;34m.\u001b[0m\u001b[0mfunction\u001b[0m\u001b[0;34m)\u001b[0m\u001b[0;34m)\u001b[0m\u001b[0;34m\u001b[0m\u001b[0;34m\u001b[0m\u001b[0m\n\u001b[0m\u001b[1;32m     19\u001b[0m             \u001b[0;32mreturn\u001b[0m \u001b[0mTypedCall\u001b[0m\u001b[0;34m(\u001b[0m\u001b[0mbool\u001b[0m\u001b[0;34m,\u001b[0m \u001b[0mast\u001b[0m\u001b[0;34m.\u001b[0m\u001b[0mfunction\u001b[0m\u001b[0;34m,\u001b[0m \u001b[0marguments\u001b[0m\u001b[0;34m)\u001b[0m\u001b[0;34m\u001b[0m\u001b[0;34m\u001b[0m\u001b[0m\n",
      "\u001b[0;31mTypeError\u001b[0m: and requires boolean arguments"
     ]
    }
   ],
   "source": [
    "# Our syntactically correct example has a type error.\n",
    "\n",
    "print(totyped(toast(parser.parse(\"not x > 0.0 and 2 + 2\")), symbols={\"x\": float}))"
   ]
  }
 ],
 "metadata": {
  "kernelspec": {
   "display_name": "Python 3",
   "language": "python",
   "name": "python3"
  },
  "language_info": {
   "codemirror_mode": {
    "name": "ipython",
    "version": 3
   },
   "file_extension": ".py",
   "mimetype": "text/x-python",
   "name": "python",
   "nbconvert_exporter": "python",
   "pygments_lexer": "ipython3",
   "version": "3.7.2"
  }
 },
 "nbformat": 4,
 "nbformat_minor": 2
}
