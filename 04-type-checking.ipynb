{
 "cells": [
  {
   "cell_type": "markdown",
   "metadata": {},
   "source": [
    "<br><br><br><br><br>\n",
    "\n",
    "# Type checking\n",
    "\n",
    "<br><br><br><br><br>"
   ]
  },
  {
   "cell_type": "markdown",
   "metadata": {},
   "source": [
    "<br>\n",
    "\n",
    "Most compiled languages perform an additional tree-to-tree transformation: **type checking**.\n",
    "\n",
    "Generally, an **untyped AST** (such as the ones we've been dealing with) gets replaced by a **typed AST**, in which each node is marked by a data type, such as `double` or `boolean`. (It's also possible to mark an AST in-place with type labels, but if so, be sure that node instances are unique!)\n",
    "\n",
    "Type checking was traditionally motivated by the need to generate the right instructions in the output language (e.g. `__add_int32__` vs `__add_float32__` on unlabled 32-bit registers), but it can be much more general than that:\n",
    "\n",
    "<center style=\"margin-top: 20px; margin-bottom: 20px\"><b>type checking is a formal proof that the program satisfies certain properties.</b></center>\n",
    "\n",
    "The properties to prove are encoded in the **type system**, which can be specialized to a domain like particle physics.\n",
    "\n",
    "_What properties do we want particle physics analysis scripts to satisfy?_\n",
    "\n",
    "<br>"
   ]
  },
  {
   "cell_type": "markdown",
   "metadata": {},
   "source": [
    "<br>\n",
    "\n",
    "**Some terminology:**\n",
    "\n",
    "   * A **type** is a _set of possible values_ that a symbol or expression can have at runtime. Types may be\n",
    "      * **abstract** if they're specified without reference to a bit-representation, like \"all non-negative integers less than `2**32`\"\n",
    "      * **concrete** if a bit-representation is given, like \"two's complement 32-bit integers without a sign bit.\"\n",
    "   \n",
    "   \n",
    "   * A **strongly typed** language stops processing if it encounters values that do not match function argument types: it either stops the compilation or the runtime execution.\n",
    "   \n",
    "   * A **weakly typed** language either passes bits without checking them or converts values to fit expectations.\n",
    "   \n",
    "   * A **statically typed** language undergoes a type-checking pass before programs are run, usually as part of a compilation.\n",
    "   \n",
    "   * A **dynamically typed** language checks types at runtime. Types may be valid at one time and invalid at another.\n",
    "\n",
    "<br>"
   ]
  },
  {
   "cell_type": "markdown",
   "metadata": {},
   "source": [
    "<p style=\"margin-bottom: 0px\"><b>Weakly typed (values are assumed to fit operations)</b></p>\n",
    "<ul style=\"margin-top: 0px\">\n",
    "  <li>Most assembly languages treat all values as raw bits; programmer has to keep track of types and call the right instructions.\n",
    "  <li>C is often used as a weakly typed language (e.g. passing everything as <tt>void*</tt>).\n",
    "</ul>\n",
    "\n",
    "<p style=\"margin-bottom: 0px\"><b>Weakly typed (values are converted to fit operations)</b></p>\n",
    "<ul style=\"margin-top: 0px\">\n",
    "  <li>Perl: <tt>\"2\" + 8 → \"10\"</tt> and unknown or unconvertable variables are presumed to be zero.\n",
    "  <li>Javascript: <tt>\"2\" + 8 → \"28\"</tt>\n",
    "  <li>MATLAB: <tt>\"2\" + 8 → 58</tt> (because the ASCII value of <tt>\"2\"</tt> is <tt>50</tt>...)\n",
    "  <li>Python predicates: <tt>None</tt> or <tt>[]</tt> resolves to <tt>False</tt>, <tt>[0]</tt> resolves to <tt>True</tt> when used with <tt>if/and/or/not</tt>.\n",
    "  <li>Python 2's handling of byte-strings vs unicode.\n",
    "  <li>Most languages promote integers to floating-point values in mixed arithmetic.\n",
    "</ul>\n",
    "\n",
    "<p style=\"margin-bottom: 0px\"><b>Strongly but dynamically typed</b></p>\n",
    "<ul style=\"margin-top: 0px\">\n",
    "  <li>Everything else in Python (<tt>\"2\" + 8</tt> is a <tt>TypeError</tt>).\n",
    "  <li>Lisp, Ruby, R, Erlang, Lua, Tcl, Smalltalk, PostScript...\n",
    "</ul>\n",
    "\n",
    "<p style=\"margin-bottom: 0px\"><b>Strongly and statically typed</b></p>\n",
    "<ul style=\"margin-top: 0px\">\n",
    "  <li>C++, Java, C#, Rust, Go, Swift, Haskell, ML, Scala, Fortran, LLVM's assembly language...\n",
    "</ul>"
   ]
  },
  {
   "cell_type": "code",
   "execution_count": null,
   "metadata": {},
   "outputs": [],
   "source": []
  }
 ],
 "metadata": {
  "kernelspec": {
   "display_name": "Python 3",
   "language": "python",
   "name": "python3"
  },
  "language_info": {
   "codemirror_mode": {
    "name": "ipython",
    "version": 3
   },
   "file_extension": ".py",
   "mimetype": "text/x-python",
   "name": "python",
   "nbconvert_exporter": "python",
   "pygments_lexer": "ipython3",
   "version": "3.7.2"
  }
 },
 "nbformat": 4,
 "nbformat_minor": 2
}
