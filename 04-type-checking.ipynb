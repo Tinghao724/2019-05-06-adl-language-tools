{
 "cells": [
  {
   "cell_type": "markdown",
   "metadata": {},
   "source": [
    "<br><br><br><br><br>\n",
    "\n",
    "# Type checking\n",
    "\n",
    "<br><br><br><br><br>"
   ]
  },
  {
   "cell_type": "markdown",
   "metadata": {},
   "source": [
    "<br>\n",
    "\n",
    "Most compiled languages perform an additional tree-to-tree transformation: **type checking**.\n",
    "\n",
    "Generally, an **untyped AST** (such as the ones we've been dealing with) gets replaced by a **typed AST**, in which each node is marked by a data type, such as `double` or `boolean`. (It's also possible to mark an AST in-place with type labels, but if so, be sure that node instances are unique!)\n",
    "\n",
    "Type checking was traditionally motivated by the need to generate the right instructions in the output language (e.g. `__add_int32__` vs `__add_float32__` on unlabled 32-bit registers), but it can be much more general than that:\n",
    "\n",
    "<center style=\"margin-top: 20px; margin-bottom: 20px\"><b>type checking is a formal proof that the program satisfies certain properties.</b></center>\n",
    "\n",
    "The properties to prove are encoded in the **type system**, which can be specialized to a domain like particle physics.\n",
    "\n",
    "_What properties do we want particle physics analysis scripts to satisfy?_\n",
    "\n",
    "<br>"
   ]
  },
  {
   "cell_type": "markdown",
   "metadata": {},
   "source": [
    "<br>\n",
    "\n",
    "**Some terminology:**\n",
    "\n",
    "   * A **type** is a _set of possible values_ that a symbol or expression can have at runtime. Types may be\n",
    "      * **abstract** if they're specified without reference to a bit-representation, like \"all non-negative integers less than `2**32`\"\n",
    "      * **concrete** if a bit-representation is given, like \"two's complement 32-bit integers without a sign bit.\"\n",
    "   \n",
    "   \n",
    "   * A language is **strongly typed** if each value has a fixed type that does not change depending on context.\n",
    "   \n",
    "   * A language is **weakly typed** if a value's type is either unspecified by the language or depends on context.\n",
    "   \n",
    "   * A language is **statically typed** if a type-checking process is performed before programs are run.\n",
    "   \n",
    "   * A language is **dynamically typed** if types are checked at runtime (allowing the type of a symbol or expression to change).\n",
    "\n",
    "<br>"
   ]
  },
  {
   "cell_type": "markdown",
   "metadata": {},
   "source": [
    "**Weakly typed (reinterpret_cast and dynamic_cast)**\n",
    "\n",
    "   * Most assembly languages treat all values as raw bits; programmer has to keep track and call the right instructions.\n",
    "   * Perl: `\"2\" + 8 → \"10\"` and unknown or unconvertable variables are presumed to be zero.\n",
    "   * Javascript: `\"2\" + 8 → \"28\"`\n",
    "   * MATLAB: `\"2\" + 8 → 58` (because the ASCII value of `\"2\"` is `50`...)\n",
    "   * Python predicates: `None` or `[]` resolves to `False`, `[0]` resolves to `True`.\n",
    "   * Python 2's handling of strings vs unicode.\n",
    "\n",
    "**Strongly but dynamically typed**\n",
    "\n",
    "   * Everything else in Python.\n",
    "   * Lisp, Ruby, R, Erlang, Lua, Tcl, Smalltalk, PostScript...\n",
    "\n",
    "**Strongly and statically typed**\n",
    "\n",
    "   * C++, Java, C#, Rust, Go, Swift, Haskell, ML, Scala, Fortran, LLVM's assembly language..."
   ]
  }
 ],
 "metadata": {
  "kernelspec": {
   "display_name": "Python 3",
   "language": "python",
   "name": "python3"
  },
  "language_info": {
   "codemirror_mode": {
    "name": "ipython",
    "version": 3
   },
   "file_extension": ".py",
   "mimetype": "text/x-python",
   "name": "python",
   "nbconvert_exporter": "python",
   "pygments_lexer": "ipython3",
   "version": "3.7.2"
  }
 },
 "nbformat": 4,
 "nbformat_minor": 2
}
