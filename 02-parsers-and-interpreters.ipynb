{
 "cells": [
  {
   "cell_type": "markdown",
   "metadata": {
    "ein.tags": "worksheet-0",
    "slideshow": {
     "slide_type": "-"
    }
   },
   "source": [
    "<br><br><br><br><br>\n",
    "\n",
    "# Language basics: parsing and interpreting\n",
    "\n",
    "<br><br><br><br><br>"
   ]
  },
  {
   "cell_type": "markdown",
   "metadata": {
    "ein.tags": "worksheet-0",
    "slideshow": {
     "slide_type": "-"
    }
   },
   "source": [
    "**Parsing is the conversion of source code text into a tree representing relationships among tokens (words & symbols).**\n",
    "\n",
    "<img src=\"https://web.archive.org/web/20180815032316im_/http://www.german-latin-english.com/diagram2.gif\" width=\"50%\">\n",
    "\n",
    "Reports about medicines in newspapers and on television commonly contain little or no information about drugs' risks and cost, and often cite medical \"experts\" without disclosing their financial ties to the pharmaceutical industry, according to a new study.\n",
    "\n",
    "   - Susan Okie, The Washington Post (published on June 1, 2000, in Louisville, KY, in The Courier-Journal, page A3)"
   ]
  },
  {
   "cell_type": "markdown",
   "metadata": {
    "ein.tags": "worksheet-0",
    "slideshow": {
     "slide_type": "-"
    }
   },
   "source": [
    "<img src=\"https://web.archive.org/web/20181030174508im_/https://www.nltk.org/book/tree_images/ch08-tree-1.png\" width=\"45%\"><img src=\"https://web.archive.org/web/20181030174508im_/https://www.nltk.org/book/tree_images/ch08-tree-2.png\" width=\"45%\">\n",
    "\n",
    "<br>\n",
    "\"How he got into my pajamas, I'll never know.\" — Groucho Marx"
   ]
  },
  {
   "cell_type": "markdown",
   "metadata": {
    "ein.tags": "worksheet-0",
    "slideshow": {
     "slide_type": "-"
    }
   },
   "source": [
    "**Grammar:** a list of rules to convert tokens into trees and trees into bigger trees.\n",
    "\n",
    "```\n",
    "sentence (S):              noun_phrase verb_phrase\n",
    "prepositional_phrase (PP): preposition noun_phrase\n",
    "verb_phrase (VP):          verb noun_phrase | verb noun_phrase prepositional_phrase\n",
    "noun_phrase (NP):          \"John\" | \"Mary\" | \"Bob\"\n",
    "                           | determiner noun | determiner noun prepositional_phrase\n",
    "preposition (P):           \"in\" | \"on\" | \"by\" | \"with\"\n",
    "verb (V):                  \"saw\" | \"ate\" | \"walked\"\n",
    "determiner (Det):          \"a\" | \"an\" | \"the\" | \"my\"\n",
    "noun (N):                  \"man\" | \"dog\" | \"cat\" | \"telescope\" | \"park\"\n",
    "```\n",
    "\n",
    "<center><img src=\"https://web.archive.org/web/20181030174508im_/https://www.nltk.org/book/tree_images/ch08-tree-4.png\" width=\"20%\"><img src=\"https://web.archive.org/web/20181030174508im_/https://www.nltk.org/book/tree_images/ch08-tree-5.png\" width=\"20%\"></center>"
   ]
  },
  {
   "cell_type": "markdown",
   "metadata": {
    "ein.tags": "worksheet-0",
    "slideshow": {
     "slide_type": "-"
    }
   },
   "source": [
    "<img src=\"https://web.archive.org/web/20181030174508im_/https://www.nltk.org/images/rdparser1-6.png\" width=\"90%\">"
   ]
  },
  {
   "cell_type": "markdown",
   "metadata": {
    "ein.tags": "worksheet-0",
    "slideshow": {
     "slide_type": "-"
    }
   },
   "source": [
    "<table><tr><td width=\"20%\">\n",
    "<img src=\"https://web.archive.org/web/20190219060132im_/https://ruslanspivak.com/lsbasi-part7/lsbasi_part7_genastdot_01.png\" width=\"100%\">\n",
    "</td><td width=\"80%\">\n",
    "<p style=\"font-size: 14px; margin-left: 10px; margin-bottom: 30px\">Mathematical expressions and computer programs can be parsed the same way.</p>\n",
    "<p style=\"font-size: 14px; margin-left: 10px; margin-bottom: 30px\"><tt>7 + 3 * (10 / (12 / (3 + 1) - 1))</tt></p>\n",
    "<p style=\"font-size: 14px; margin-left: 10px; margin-bottom: 30px\">We definitely don't need to write the parsing algorithm—decades of computer science research has already gone into that.</p>\n",
    "<p style=\"font-size: 14px; margin-left: 10px; margin-bottom: 30px\">I used to have a favorite (PLY), but while preparing this demo, I found a better one (Lark).</p>\n",
    "<p style=\"font-size: 14px; margin-left: 10px; margin-bottom: 30px\"><b>Let's get started!</b></p>\n",
    "</td></tr></table>"
   ]
  },
  {
   "cell_type": "markdown",
   "metadata": {
    "ein.tags": "worksheet-0",
    "slideshow": {
     "slide_type": "-"
    }
   },
   "source": [
    "## Lark - a modern parsing library for Python\n",
    "\n",
    "Parse any context-free grammar, FAST and EASY!\n",
    "\n",
    "**Beginners**: Lark is not just another parser. It can parse any grammar you throw at it, no matter how complicated or ambiguous, and do so efficiently. It also constructs a parse-tree for you, without additional code on your part.\n",
    "\n",
    "**Experts**: Lark implements both Earley(SPPF) and LALR(1), and several different lexers, so you can trade-off power and speed, according to your requirements. It also provides a variety of sophisticated features and utilities.\n",
    "\n",
    "Lark can:\n",
    "\n",
    " - Parse all context-free grammars, and handle any ambiguity\n",
    " - Build a parse-tree automagically, no construction code required\n",
    " - Outperform all other Python libraries when using LALR(1) (Yes, including PLY)\n",
    " - Run on every Python interpreter (it's pure-python)\n",
    " - Generate a stand-alone parser (for LALR(1) grammars)"
   ]
  },
  {
   "cell_type": "code",
   "execution_count": 1,
   "metadata": {
    "autoscroll": false,
    "collapsed": false,
    "ein.hycell": false,
    "ein.tags": "worksheet-0",
    "slideshow": {
     "slide_type": "-"
    }
   },
   "outputs": [],
   "source": [
    "import lark\n",
    "\n",
    "expression_grammar = \"\"\"\n",
    "arith:   term   | term \"+\" term     -> add | term \"-\" term     -> sub\n",
    "term:    factor | factor \"*\" factor -> mul | factor \"/\" factor -> div\n",
    "factor:  pow    | \"+\" factor        -> pos | \"-\" factor        -> neg\n",
    "pow:     call [\"**\" factor]\n",
    "call:    atom   | call trailer\n",
    "atom:    \"(\" expression \")\" | CNAME -> symbol | NUMBER -> literal\n",
    "trailer: \"(\" arglist \")\"\n",
    "arglist: expression (\",\" expression)*\n",
    "\n",
    "%import common.CNAME\n",
    "%import common.NUMBER\n",
    "%import common.WS\n",
    "\"\"\"\n",
    "\n",
    "grammar = \"\\n\".join([\"start: expression\", \"expression: arith\", \"%ignore WS\"]) + expression_grammar\n",
    "\n",
    "parser = lark.Lark(grammar)"
   ]
  },
  {
   "cell_type": "code",
   "execution_count": 2,
   "metadata": {
    "autoscroll": false,
    "collapsed": false,
    "ein.hycell": false,
    "ein.tags": "worksheet-0",
    "slideshow": {
     "slide_type": "-"
    }
   },
   "outputs": [
    {
     "name": "stdout",
     "output_type": "stream",
     "text": [
      "start\n",
      "  expression\n",
      "    add\n",
      "      term\n",
      "        factor\n",
      "          pow\n",
      "            call\n",
      "              literal\t2\n",
      "      term\n",
      "        factor\n",
      "          pow\n",
      "            call\n",
      "              literal\t2\n",
      "\n"
     ]
    }
   ],
   "source": [
    "print(parser.parse(\"2 + 2\").pretty())"
   ]
  },
  {
   "cell_type": "markdown",
   "metadata": {},
   "source": [
    "If the prepositional phrase \"in my pajamas\" had a well-defined operator precedence in \"I shot an elephant in my pajamas,\" there would be no ambiguity.\n",
    "\n",
    "Alternatively, if we could use parentheses `(` `)` in English to denote nesting, there would be no ambiguity.\n",
    "\n",
    "Building the operator precedence into the grammar created a lot of superflous tree nodes, though."
   ]
  },
  {
   "cell_type": "markdown",
   "metadata": {
    "ein.tags": "worksheet-0",
    "slideshow": {
     "slide_type": "-"
    }
   },
   "source": [
    "<table><tr><td width=\"35%\">\n",
    "<img src=\"https://web.archive.org/web/20190219060132im_/https://ruslanspivak.com/lsbasi-part7/lsbasi_part7_ast_02.png\" width=\"100%\">\n",
    "</td><td width=\"65%\">\n",
    "<p style=\"font-size: 14px; margin-left: 10px; margin-bottom: 30px\">The parsing tree has too much detail because it includes nodes for rules even if they were just used to set up operator precedence.</p>\n",
    "<p style=\"font-size: 14px; margin-left: 10px; margin-bottom: 30px\">Let's reduce it to a tree that contains only what is necessary to understand the meaning of the program.</p>\n",
    "<p style=\"font-size: 14px; margin-left: 10px; margin-bottom: 30px\">Such a tree is called an <b>Abstract Syntax Tree</b> (AST).</p>\n",
    "<p style=\"font-size: 14px; margin-left: 10px; margin-bottom: 30px\">This is easy enough (and particular enough to our specific needs) that we should write it ourselves.</p>\n",
    "</td></tr></table>"
   ]
  },
  {
   "cell_type": "code",
   "execution_count": 3,
   "metadata": {
    "autoscroll": false,
    "collapsed": false,
    "ein.hycell": false,
    "ein.tags": "worksheet-0",
    "slideshow": {
     "slide_type": "-"
    }
   },
   "outputs": [],
   "source": [
    "class AST:                                       # only three types (and a superclass to set them up)\n",
    "    _fields = ()\n",
    "    def __init__(self, *args, line=None):\n",
    "        self.line = line\n",
    "        for n, x in zip(self._fields, args):\n",
    "            setattr(self, n, x)\n",
    "            if self.line is None: self.line = x.line\n",
    "\n",
    "class Literal(AST):                              # Literal: value that appears in the program text\n",
    "    _fields = (\"value\",)\n",
    "    def __str__(self): return str(self.value)\n",
    "\n",
    "class Symbol(AST):                               # Symbol: value referenced by name\n",
    "    _fields = (\"symbol\",)\n",
    "    def __str__(self): return self.symbol\n",
    "\n",
    "class Call(AST):                                 # Call: evaluate a function on arguments\n",
    "    _fields = (\"function\", \"arguments\")\n",
    "    def __str__(self):\n",
    "        return \"{0}({1})\".format(str(self.function), \", \".join(str(x) for x in self.arguments))"
   ]
  },
  {
   "cell_type": "code",
   "execution_count": 4,
   "metadata": {
    "autoscroll": false,
    "collapsed": false,
    "ein.hycell": false,
    "ein.tags": "worksheet-0",
    "slideshow": {
     "slide_type": "-"
    }
   },
   "outputs": [
    {
     "name": "stdout",
     "output_type": "stream",
     "text": [
      "add(2.0, 2.0)\n"
     ]
    }
   ],
   "source": [
    "def toast(ptnode):  # Recursively convert parsing tree (PT) into abstract syntax tree (AST).\n",
    "    if ptnode.data in (\"add\", \"sub\", \"mul\", \"div\", \"pos\", \"neg\"):\n",
    "        arguments = [toast(x) for x in ptnode.children]\n",
    "        return Call(Symbol(str(ptnode.data), line=arguments[0].line), arguments)\n",
    "    elif ptnode.data == \"pow\" and len(ptnode.children) == 2:\n",
    "        arguments = [toast(ptnode.children[0]), toast(ptnode.children[1])]\n",
    "        return Call(Symbol(\"pow\", line=arguments[0].line), arguments)\n",
    "    elif ptnode.data == \"call\" and len(ptnode.children) == 2:\n",
    "        return Call(toast(ptnode.children[0]), toast(ptnode.children[1]))\n",
    "    elif ptnode.data == \"symbol\":\n",
    "        return Symbol(str(ptnode.children[0]), line=ptnode.children[0].line)\n",
    "    elif ptnode.data == \"literal\":\n",
    "        return Literal(float(ptnode.children[0]), line=ptnode.children[0].line)\n",
    "    elif ptnode.data == \"arglist\":\n",
    "        return [toast(x) for x in ptnode.children]\n",
    "    else:\n",
    "        return toast(ptnode.children[0])    # many other cases, all of them simple pass-throughs\n",
    "\n",
    "print(toast(parser.parse(\"2 + 2\")))"
   ]
  },
  {
   "cell_type": "markdown",
   "metadata": {
    "ein.tags": "worksheet-0",
    "slideshow": {
     "slide_type": "-"
    }
   },
   "source": [
    "## Execution\n",
    "\n",
    "The simplest way to run a program is to repeatedly walk over the AST, evaluating each step. This is an **interpreter**.\n",
    "\n",
    "_Historical interlude:_\n",
    "\n",
    "   * The first high-level programming language, [Short Code](https://www.computer.org/csdl/magazine/an/1988/01/man1988010007/13rRUxCitB8) (\"Short Order Code\"), was an interpreter.\n",
    "   * Created by a physicist, John Mauchly, in 1949 for UNIVAC I.\n",
    "   * It ran 50× slower than the corresponding machine instructions.\n",
    "   * His company hired Grace Hopper, who improved the situation by inventing compilers (in particular, COBOL in 1959).\n",
    "\n",
    "A **compiler** scans the AST to generate a sequence of machine instructions, natively recognized and executed by the computer."
   ]
  },
  {
   "cell_type": "markdown",
   "metadata": {
    "ein.tags": "worksheet-0",
    "slideshow": {
     "slide_type": "-"
    }
   },
   "source": [
    "<img src=\"https://web.archive.org/web/20190322182736im_/https://ruslanspivak.com/lsbasi-part1/lsbasi_part1_compiler_interpreter.png\" width=\"80%\">"
   ]
  },
  {
   "cell_type": "code",
   "execution_count": 5,
   "metadata": {
    "autoscroll": false,
    "collapsed": false,
    "ein.hycell": false,
    "ein.tags": "worksheet-0",
    "slideshow": {
     "slide_type": "-"
    }
   },
   "outputs": [
    {
     "data": {
      "text/plain": [
       "4.0"
      ]
     },
     "execution_count": 5,
     "metadata": {},
     "output_type": "execute_result"
    }
   ],
   "source": [
    "def run(astnode, symbols):\n",
    "    if isinstance(astnode, Literal):\n",
    "        return astnode.value\n",
    "\n",
    "    elif isinstance(astnode, Symbol):\n",
    "        return symbols[astnode.symbol]\n",
    "\n",
    "    elif isinstance(astnode, Call):\n",
    "        function = run(astnode.function, symbols)\n",
    "        arguments = [run(x, symbols) for x in astnode.arguments]\n",
    "        return function(*arguments)\n",
    "\n",
    "import math, operator\n",
    "symbols = {\"add\": operator.add, \"sub\": operator.sub, \"mul\": operator.mul, \"div\": operator.truediv,\n",
    "           \"pos\": operator.pos, \"neg\": operator.neg, \"pow\": math.pow, \"sqrt\": math.sqrt, \"x\": 5}\n",
    "run(toast(parser.parse(\"2 + 2\")), symbols)"
   ]
  },
  {
   "cell_type": "markdown",
   "metadata": {},
   "source": [
    "This is the pattern we will use for the rest of this tutorial:\n",
    "\n",
    "   * **Lark:** grammar → parsing tree\n",
    "   * **toast:** parsing tree → AST\n",
    "   * **interpreter:** AST + inputs → outputs\n",
    "\n",
    "We will just be adding to the grammar, the AST, and the interpreter as we go."
   ]
  },
  {
   "cell_type": "markdown",
   "metadata": {
    "ein.tags": "worksheet-0",
    "slideshow": {
     "slide_type": "-"
    }
   },
   "source": [
    "## Error handling\n",
    "\n",
    "If a bad condition is encountered at runtime, like `sqrt(-5)`, the interpreter stops because the underlying Python execution engine raises an exception.\n",
    "\n",
    "When writing a language, we must distinguish between our own internal errors and the users' logic mistakes. In the latter case, we have to let them know that they can fix it and provide a hint about where to start.\n",
    "\n",
    "Line numbers are the most useful hint—but only when they're lines in the user's code, not the execution engine itself. The parser knows about line numbers—we must propagate that information into the AST (for an interpreter) and the final executable (for a compiler with debugging symbols included)."
   ]
  },
  {
   "cell_type": "code",
   "execution_count": 6,
   "metadata": {
    "autoscroll": false,
    "collapsed": false,
    "ein.hycell": false,
    "ein.tags": "worksheet-0",
    "slideshow": {
     "slide_type": "-"
    }
   },
   "outputs": [
    {
     "name": "stdout",
     "output_type": "stream",
     "text": [
      "line  AST type   expression\n",
      "--------------------------------------------------------\n",
      "1     Call       sqrt(neg(5.0))\n",
      "1     Symbol     sqrt\n",
      "1     Call       neg(5.0)\n",
      "1     Symbol     neg\n",
      "1     Literal    5.0\n"
     ]
    }
   ],
   "source": [
    "# We've already propagated line numbers from parsing tree tokens to all AST nodes.\n",
    "def showline(ast):\n",
    "    if isinstance(ast, list):\n",
    "        for x in ast:\n",
    "            showline(x)\n",
    "    if isinstance(ast, AST):\n",
    "        print(\"{0:5s} {1:10s} {2}\".format(str(ast.line), type(ast).__name__, ast))\n",
    "        for n in ast._fields:\n",
    "            showline(getattr(ast, n))\n",
    "\n",
    "print(\"{0:5s} {1:10s} {2}\".format(\"line\", \"AST type\", \"expression\"))\n",
    "print(\"--------------------------------------------------------\")\n",
    "showline(toast(parser.parse(\"\"\"sqrt(-5)\"\"\")))"
   ]
  },
  {
   "cell_type": "code",
   "execution_count": 7,
   "metadata": {
    "autoscroll": false,
    "collapsed": false,
    "ein.hycell": false,
    "ein.tags": "worksheet-0",
    "slideshow": {
     "slide_type": "-"
    }
   },
   "outputs": [
    {
     "ename": "ValueError",
     "evalue": "math domain error",
     "output_type": "error",
     "traceback": [
      "\u001b[0;31m----------------------------------------------------------------------\u001b[0m",
      "\u001b[0;31mValueError\u001b[0m                           Traceback (most recent call last)",
      "\u001b[0;32m<ipython-input-7-c8ce6ea2c630>\u001b[0m in \u001b[0;36m<module>\u001b[0;34m\u001b[0m\n\u001b[1;32m     16\u001b[0m             \u001b[0;32mraise\u001b[0m \u001b[0merr\u001b[0m   \u001b[0;31m# CHANGE THIS LINE\u001b[0m\u001b[0;34m\u001b[0m\u001b[0;34m\u001b[0m\u001b[0m\n\u001b[1;32m     17\u001b[0m \u001b[0;34m\u001b[0m\u001b[0m\n\u001b[0;32m---> 18\u001b[0;31m \u001b[0mrun\u001b[0m\u001b[0;34m(\u001b[0m\u001b[0mtoast\u001b[0m\u001b[0;34m(\u001b[0m\u001b[0mparser\u001b[0m\u001b[0;34m.\u001b[0m\u001b[0mparse\u001b[0m\u001b[0;34m(\u001b[0m\u001b[0;34m\"\"\"sqrt(-5)\"\"\"\u001b[0m\u001b[0;34m)\u001b[0m\u001b[0;34m)\u001b[0m\u001b[0;34m,\u001b[0m \u001b[0;34m{\u001b[0m\u001b[0;34m**\u001b[0m\u001b[0moperator\u001b[0m\u001b[0;34m.\u001b[0m\u001b[0m__dict__\u001b[0m\u001b[0;34m,\u001b[0m \u001b[0;34m**\u001b[0m\u001b[0mmath\u001b[0m\u001b[0;34m.\u001b[0m\u001b[0m__dict__\u001b[0m\u001b[0;34m}\u001b[0m\u001b[0;34m)\u001b[0m\u001b[0;34m\u001b[0m\u001b[0;34m\u001b[0m\u001b[0m\n\u001b[0m",
      "\u001b[0;32m<ipython-input-7-c8ce6ea2c630>\u001b[0m in \u001b[0;36mrun\u001b[0;34m(astnode, symbols)\u001b[0m\n\u001b[1;32m     14\u001b[0m             \u001b[0;32mreturn\u001b[0m \u001b[0mfunction\u001b[0m\u001b[0;34m(\u001b[0m\u001b[0;34m*\u001b[0m\u001b[0marguments\u001b[0m\u001b[0;34m)\u001b[0m\u001b[0;34m\u001b[0m\u001b[0;34m\u001b[0m\u001b[0m\n\u001b[1;32m     15\u001b[0m         \u001b[0;32mexcept\u001b[0m \u001b[0mException\u001b[0m \u001b[0;32mas\u001b[0m \u001b[0merr\u001b[0m\u001b[0;34m:\u001b[0m\u001b[0;34m\u001b[0m\u001b[0;34m\u001b[0m\u001b[0m\n\u001b[0;32m---> 16\u001b[0;31m             \u001b[0;32mraise\u001b[0m \u001b[0merr\u001b[0m   \u001b[0;31m# CHANGE THIS LINE\u001b[0m\u001b[0;34m\u001b[0m\u001b[0;34m\u001b[0m\u001b[0m\n\u001b[0m\u001b[1;32m     17\u001b[0m \u001b[0;34m\u001b[0m\u001b[0m\n\u001b[1;32m     18\u001b[0m \u001b[0mrun\u001b[0m\u001b[0;34m(\u001b[0m\u001b[0mtoast\u001b[0m\u001b[0;34m(\u001b[0m\u001b[0mparser\u001b[0m\u001b[0;34m.\u001b[0m\u001b[0mparse\u001b[0m\u001b[0;34m(\u001b[0m\u001b[0;34m\"\"\"sqrt(-5)\"\"\"\u001b[0m\u001b[0;34m)\u001b[0m\u001b[0;34m)\u001b[0m\u001b[0;34m,\u001b[0m \u001b[0;34m{\u001b[0m\u001b[0;34m**\u001b[0m\u001b[0moperator\u001b[0m\u001b[0;34m.\u001b[0m\u001b[0m__dict__\u001b[0m\u001b[0;34m,\u001b[0m \u001b[0;34m**\u001b[0m\u001b[0mmath\u001b[0m\u001b[0;34m.\u001b[0m\u001b[0m__dict__\u001b[0m\u001b[0;34m}\u001b[0m\u001b[0;34m)\u001b[0m\u001b[0;34m\u001b[0m\u001b[0;34m\u001b[0m\u001b[0m\n",
      "\u001b[0;32m<ipython-input-7-c8ce6ea2c630>\u001b[0m in \u001b[0;36mrun\u001b[0;34m(astnode, symbols)\u001b[0m\n\u001b[1;32m     12\u001b[0m         \u001b[0marguments\u001b[0m \u001b[0;34m=\u001b[0m \u001b[0;34m[\u001b[0m\u001b[0mrun\u001b[0m\u001b[0;34m(\u001b[0m\u001b[0mx\u001b[0m\u001b[0;34m,\u001b[0m \u001b[0msymbols\u001b[0m\u001b[0;34m)\u001b[0m \u001b[0;32mfor\u001b[0m \u001b[0mx\u001b[0m \u001b[0;32min\u001b[0m \u001b[0mastnode\u001b[0m\u001b[0;34m.\u001b[0m\u001b[0marguments\u001b[0m\u001b[0;34m]\u001b[0m\u001b[0;34m\u001b[0m\u001b[0;34m\u001b[0m\u001b[0m\n\u001b[1;32m     13\u001b[0m         \u001b[0;32mtry\u001b[0m\u001b[0;34m:\u001b[0m\u001b[0;34m\u001b[0m\u001b[0;34m\u001b[0m\u001b[0m\n\u001b[0;32m---> 14\u001b[0;31m             \u001b[0;32mreturn\u001b[0m \u001b[0mfunction\u001b[0m\u001b[0;34m(\u001b[0m\u001b[0;34m*\u001b[0m\u001b[0marguments\u001b[0m\u001b[0;34m)\u001b[0m\u001b[0;34m\u001b[0m\u001b[0;34m\u001b[0m\u001b[0m\n\u001b[0m\u001b[1;32m     15\u001b[0m         \u001b[0;32mexcept\u001b[0m \u001b[0mException\u001b[0m \u001b[0;32mas\u001b[0m \u001b[0merr\u001b[0m\u001b[0;34m:\u001b[0m\u001b[0;34m\u001b[0m\u001b[0;34m\u001b[0m\u001b[0m\n\u001b[1;32m     16\u001b[0m             \u001b[0;32mraise\u001b[0m \u001b[0merr\u001b[0m   \u001b[0;31m# CHANGE THIS LINE\u001b[0m\u001b[0;34m\u001b[0m\u001b[0;34m\u001b[0m\u001b[0m\n",
      "\u001b[0;31mValueError\u001b[0m: math domain error"
     ]
    }
   ],
   "source": [
    "# Short exercise: change the line below to report UserErrors with line numbers from the source code.\n",
    "\n",
    "class UserError(Exception): pass\n",
    "\n",
    "def run(astnode, symbols):\n",
    "    if isinstance(astnode, Literal):\n",
    "        return astnode.value\n",
    "    elif isinstance(astnode, Symbol):\n",
    "        return symbols[astnode.symbol]\n",
    "    elif isinstance(astnode, Call):\n",
    "        function = run(astnode.function, symbols)\n",
    "        arguments = [run(x, symbols) for x in astnode.arguments]\n",
    "        try:\n",
    "            return function(*arguments)\n",
    "        except Exception as err:\n",
    "            raise err   # CHANGE THIS LINE\n",
    "\n",
    "run(toast(parser.parse(\"\"\"sqrt(-5)\"\"\")), {**operator.__dict__, **math.__dict__})"
   ]
  },
  {
   "cell_type": "markdown",
   "metadata": {
    "ein.tags": "worksheet-0",
    "slideshow": {
     "slide_type": "-"
    }
   },
   "source": [
    "## Assignments\n",
    "\n",
    "So far, all we've implemented is a calculator. As a next step, let's extend the language to include assignments.\n",
    "\n",
    "For clarity, we'll use `:=` as an assignment operator.\n",
    "\n",
    "These are our first **statements**, which do not compose as **expressions** do. Whereas expressions can be nested in parentheses like mathematical formulae, statements form a sequence that can only be nested with some block-syntax. We'll use curly brackets: `{...}`.\n",
    "\n",
    "A block of statements could be used as an expression if it has a value. We'll use a common convention (among functional languages) in which the last statement of a block is an expression, and its value is the value of the block."
   ]
  },
  {
   "cell_type": "code",
   "execution_count": 8,
   "metadata": {
    "autoscroll": false,
    "collapsed": false,
    "ein.hycell": false,
    "ein.tags": "worksheet-0",
    "slideshow": {
     "slide_type": "-"
    }
   },
   "outputs": [],
   "source": [
    "assignment_grammar = \"\"\"\n",
    "statements: NEWLINE* (assignment (NEWLINE | \";\"))* expression NEWLINE*\n",
    "assignment: CNAME \":=\" expression\n",
    "          | CNAME \":=\" \"{\" statements \"}\"\n",
    "\n",
    "%import common.WS_INLINE\n",
    "%import common.NEWLINE\n",
    "\n",
    "%ignore WS_INLINE\n",
    "\"\"\"\n",
    "\n",
    "grammar = \"\\n\".join([\"start: statements\", \"expression: arith\"]\n",
    "                   ) + expression_grammar + assignment_grammar\n",
    "parser = lark.Lark(grammar)"
   ]
  },
  {
   "cell_type": "code",
   "execution_count": 9,
   "metadata": {
    "autoscroll": false,
    "collapsed": false,
    "ein.hycell": false,
    "ein.tags": "worksheet-0",
    "slideshow": {
     "slide_type": "-"
    }
   },
   "outputs": [
    {
     "name": "stdout",
     "output_type": "stream",
     "text": [
      "start\n",
      "  statements\n",
      "    \n",
      "\n",
      "    assignment\n",
      "      x\n",
      "      expression\n",
      "        arith\n",
      "          term\n",
      "            factor\n",
      "              pow\n",
      "                call\n",
      "                  literal\t5\n",
      "    \n",
      "\n",
      "    expression\n",
      "      arith\n",
      "        term\n",
      "          factor\n",
      "            pow\n",
      "              call\n",
      "                symbol\tx\n",
      "    \n",
      "\n",
      "\n"
     ]
    }
   ],
   "source": [
    "print(parser.parse(\"\"\"\n",
    "x := 5\n",
    "x\n",
    "\"\"\").pretty())"
   ]
  },
  {
   "cell_type": "code",
   "execution_count": 10,
   "metadata": {
    "autoscroll": false,
    "collapsed": false,
    "ein.hycell": false,
    "ein.tags": "worksheet-0",
    "slideshow": {
     "slide_type": "-"
    }
   },
   "outputs": [],
   "source": [
    "class Block(AST):                                # Block: sequence of statements ending in expression\n",
    "    _fields = (\"statements\",)                    # (Doesn't have to be an AST element; could be a\n",
    "    def __str__(self):                           # function that returns its last argument...)\n",
    "        return \"{\" + \"; \".join(str(x) for x in self.statements) + \"}\"\n",
    "\n",
    "class Assign(AST):                               # Assign: put a value into a symbol\n",
    "    _fields = (\"symbol\", \"value\")\n",
    "    def __str__(self):\n",
    "        return \"{0} := {1}\".format(str(self.symbol), str(self.value))"
   ]
  },
  {
   "cell_type": "code",
   "execution_count": 11,
   "metadata": {
    "autoscroll": false,
    "collapsed": false,
    "ein.hycell": false,
    "ein.tags": "worksheet-0",
    "slideshow": {
     "slide_type": "-"
    }
   },
   "outputs": [],
   "source": [
    "def toast(ptnode):\n",
    "    if ptnode.data == \"statements\":\n",
    "        statements = [toast(x) for x in ptnode.children if x != \"\\n\"]\n",
    "        return Block(statements, line=statements[0].line)\n",
    "\n",
    "    elif ptnode.data == \"assignment\":\n",
    "        return Assign(str(ptnode.children[0]), toast(ptnode.children[1]), line=ptnode.children[0].line)\n",
    "\n",
    "    ######################################### from this point onward, it's the same as before...\n",
    "    elif ptnode.data in (\"add\", \"sub\", \"mul\", \"div\", \"pos\", \"neg\"):\n",
    "        arguments = [toast(x) for x in ptnode.children]\n",
    "        return Call(Symbol(str(ptnode.data), line=arguments[0].line), arguments)\n",
    "    elif ptnode.data == \"pow\" and len(ptnode.children) == 2:\n",
    "        arguments = [toast(ptnode.children[0]), toast(ptnode.children[1])]\n",
    "        return Call(Symbol(\"pow\", line=arguments[0].line), arguments)\n",
    "    elif ptnode.data == \"call\" and len(ptnode.children) == 2:\n",
    "        return Call(toast(ptnode.children[0]), toast(ptnode.children[1]))\n",
    "    elif ptnode.data == \"symbol\":\n",
    "        return Symbol(str(ptnode.children[0]), line=ptnode.children[0].line)\n",
    "    elif ptnode.data == \"literal\":\n",
    "        return Literal(float(ptnode.children[0]), line=ptnode.children[0].line)\n",
    "    elif ptnode.data == \"arglist\":\n",
    "        return [toast(x) for x in ptnode.children]\n",
    "    else:\n",
    "        return toast(ptnode.children[0])    # many other cases, all of them simple pass-throughs"
   ]
  },
  {
   "cell_type": "code",
   "execution_count": 12,
   "metadata": {
    "autoscroll": false,
    "collapsed": false,
    "ein.hycell": false,
    "ein.tags": "worksheet-0",
    "slideshow": {
     "slide_type": "-"
    }
   },
   "outputs": [
    {
     "name": "stdout",
     "output_type": "stream",
     "text": [
      "{x := 5.0; x}\n"
     ]
    }
   ],
   "source": [
    "print(toast(parser.parse(\"x := 5; x\")))"
   ]
  },
  {
   "cell_type": "code",
   "execution_count": 13,
   "metadata": {
    "autoscroll": false,
    "collapsed": false,
    "ein.hycell": false,
    "ein.tags": "worksheet-0",
    "slideshow": {
     "slide_type": "-"
    }
   },
   "outputs": [
    {
     "name": "stdout",
     "output_type": "stream",
     "text": [
      "{x := {5.0}; x}\n"
     ]
    }
   ],
   "source": [
    "# Short exercise: change toast so that x := {5} produces the same AST as x := 5 (ignore extra {})\n",
    "\n",
    "def toast(ptnode):\n",
    "    if ptnode.data == \"statements\":\n",
    "        statements = [toast(x) for x in ptnode.children if x != \"\\n\"]\n",
    "        return Block(statements, line=statements[0].line)\n",
    "\n",
    "    elif ptnode.data == \"assignment\":\n",
    "        return Assign(str(ptnode.children[0]), toast(ptnode.children[1]), line=ptnode.children[0].line)\n",
    "\n",
    "    ######################################### the change you need to make is ABOVE this line...\n",
    "    elif ptnode.data in (\"add\", \"sub\", \"mul\", \"div\", \"pos\", \"neg\"):\n",
    "        arguments = [toast(x) for x in ptnode.children]\n",
    "        return Call(Symbol(str(ptnode.data), line=arguments[0].line), arguments)\n",
    "    elif ptnode.data == \"pow\" and len(ptnode.children) == 2:\n",
    "        arguments = [toast(ptnode.children[0]), toast(ptnode.children[1])]\n",
    "        return Call(Symbol(\"pow\", line=arguments[0].line), arguments)\n",
    "    elif ptnode.data == \"call\" and len(ptnode.children) == 2:\n",
    "        return Call(toast(ptnode.children[0]), toast(ptnode.children[1]))\n",
    "    elif ptnode.data == \"symbol\":\n",
    "        return Symbol(str(ptnode.children[0]), line=ptnode.children[0].line)\n",
    "    elif ptnode.data == \"literal\":\n",
    "        return Literal(float(ptnode.children[0]), line=ptnode.children[0].line)\n",
    "    elif ptnode.data == \"arglist\":\n",
    "        return [toast(x) for x in ptnode.children]\n",
    "    else:\n",
    "        return toast(ptnode.children[0])    # many other cases, all of them simple pass-throughs\n",
    "\n",
    "print(toast(parser.parse(\"x := {5}; x\")))"
   ]
  },
  {
   "cell_type": "code",
   "execution_count": 14,
   "metadata": {
    "autoscroll": false,
    "collapsed": false,
    "ein.hycell": false,
    "ein.tags": "worksheet-0",
    "slideshow": {
     "slide_type": "-"
    }
   },
   "outputs": [
    {
     "data": {
      "text/plain": [
       "7.0"
      ]
     },
     "execution_count": 14,
     "metadata": {},
     "output_type": "execute_result"
    }
   ],
   "source": [
    "def run(astnode, symbols):\n",
    "    if isinstance(astnode, Literal):\n",
    "        return astnode.value\n",
    "    elif isinstance(astnode, Symbol):\n",
    "        return symbols[astnode.symbol]\n",
    "    elif isinstance(astnode, Call):\n",
    "        function = run(astnode.function, symbols)\n",
    "        arguments = [run(x, symbols) for x in astnode.arguments]\n",
    "        return function(*arguments)\n",
    "    elif isinstance(astnode, Block):\n",
    "        for statement in astnode.statements:\n",
    "            last = run(statement, symbols)\n",
    "        return last\n",
    "    elif isinstance(astnode, Assign):\n",
    "        symbols[astnode.symbol] = run(astnode.value, symbols)\n",
    "\n",
    "symbols = {**operator.__dict__, **math.__dict__}\n",
    "run(toast(parser.parse(\"x := 5; x + 2\")), symbols)"
   ]
  },
  {
   "cell_type": "code",
   "execution_count": 15,
   "metadata": {
    "autoscroll": false,
    "collapsed": false,
    "ein.hycell": false,
    "ein.tags": "worksheet-0",
    "slideshow": {
     "slide_type": "-"
    }
   },
   "outputs": [
    {
     "data": {
      "text/plain": [
       "5.0"
      ]
     },
     "execution_count": 15,
     "metadata": {},
     "output_type": "execute_result"
    }
   ],
   "source": [
    "# Should variables be accessible outside of the block where they're defined (leak)?\n",
    "\n",
    "symbols = {**operator.__dict__, **math.__dict__}\n",
    "run(toast(parser.parse(\"x := {y := 5; y + 2}; y\")), symbols)"
   ]
  },
  {
   "cell_type": "markdown",
   "metadata": {
    "ein.tags": "worksheet-0",
    "slideshow": {
     "slide_type": "-"
    }
   },
   "source": [
    "<img src=\"https://web.archive.org/web/20190218171218im_/https://ruslanspivak.com/lsbasi-part9/lsbasi_part9_ast_st01.png\" width=\"100%\">"
   ]
  },
  {
   "cell_type": "markdown",
   "metadata": {
    "ein.tags": "worksheet-0",
    "slideshow": {
     "slide_type": "-"
    }
   },
   "source": [
    "<img src=\"https://web.archive.org/web/20190218171218im_/https://ruslanspivak.com/lsbasi-part11/lsbasi_part9_ast_st02.png\" width=\"100%\">"
   ]
  },
  {
   "cell_type": "markdown",
   "metadata": {
    "ein.tags": "worksheet-0",
    "slideshow": {
     "slide_type": "-"
    }
   },
   "source": [
    "<img src=\"https://web.archive.org/web/20190219061247im_/https://ruslanspivak.com/lsbasi-part14/lsbasi_part14_img14.png\" width=\"70%\">"
   ]
  },
  {
   "cell_type": "code",
   "execution_count": 16,
   "metadata": {
    "autoscroll": false,
    "collapsed": false,
    "ein.hycell": false,
    "ein.tags": "worksheet-0",
    "slideshow": {
     "slide_type": "-"
    }
   },
   "outputs": [],
   "source": [
    "class SymbolTable:\n",
    "    def __init__(self, parent=None, **symbols):\n",
    "        self.parent = parent\n",
    "        self.symbols = symbols\n",
    "\n",
    "    def __getitem__(self, symbol):\n",
    "        if symbol in self.symbols:\n",
    "            return self.symbols[symbol]\n",
    "        elif self.parent is not None:\n",
    "            return self.parent[symbol]\n",
    "        else:\n",
    "            raise KeyError(symbol)\n",
    "\n",
    "    def __setitem__(self, symbol, value):\n",
    "        self.symbols[symbol] = value\n",
    "\n",
    "builtins = SymbolTable(**{**operator.__dict__, **math.__dict__})"
   ]
  },
  {
   "cell_type": "code",
   "execution_count": 17,
   "metadata": {
    "autoscroll": false,
    "collapsed": false,
    "ein.hycell": false,
    "ein.tags": "worksheet-0",
    "slideshow": {
     "slide_type": "-"
    }
   },
   "outputs": [
    {
     "data": {
      "text/plain": [
       "5.0"
      ]
     },
     "execution_count": 17,
     "metadata": {},
     "output_type": "execute_result"
    }
   ],
   "source": [
    "# Short exercise: change the following so that scopes are nested.\n",
    "# Bonus: what SHOULD reassigning a variable from a parent's scope do? Can you make that happen?\n",
    "def run(astnode, symbols):\n",
    "    if isinstance(astnode, Literal):\n",
    "        return astnode.value\n",
    "    elif isinstance(astnode, Symbol):\n",
    "        return symbols[astnode.symbol]\n",
    "    elif isinstance(astnode, Call):\n",
    "        function = run(astnode.function, symbols)\n",
    "        arguments = [run(x, symbols) for x in astnode.arguments]\n",
    "        return function(*arguments)\n",
    "    elif isinstance(astnode, Block):\n",
    "        for statement in astnode.statements:\n",
    "            last = run(statement, symbols)\n",
    "        return last\n",
    "    elif isinstance(astnode, Assign):\n",
    "        symbols[astnode.symbol] = run(astnode.value, symbols)\n",
    "\n",
    "run(toast(parser.parse(\"x := {y := 5; y + 2}; y\")), SymbolTable(builtins))"
   ]
  },
  {
   "cell_type": "markdown",
   "metadata": {
    "ein.tags": "worksheet-0",
    "slideshow": {
     "slide_type": "-"
    }
   },
   "source": [
    "## Branching\n",
    "\n",
    "A calculator that can assign quantities is still just a calculator—though it may make the expressions easier to read.\n",
    "\n",
    "The next level is to introduce control structures—if/then/else, while loops, and subroutines. For brevity, we'll just do if/then/else.\n",
    "\n",
    "We could either allow variable definitions in then/else clauses to leak or we could always require an else clause and let the if/then/else block have a value. The former is a state-changing imperative language; the latter is functional (and easier to implement). We'll do the latter."
   ]
  },
  {
   "cell_type": "code",
   "execution_count": 18,
   "metadata": {
    "autoscroll": false,
    "collapsed": false,
    "ein.hycell": false,
    "ein.tags": "worksheet-0",
    "slideshow": {
     "slide_type": "-"
    }
   },
   "outputs": [],
   "source": [
    "branching_grammar = \"\"\"\n",
    "block:      expression | \"{\" statements \"}\"\n",
    "branch:     \"if\" expression \"then\" block \"else\" block\n",
    "\n",
    "or:         and        | and \"or\" and\n",
    "and:        not        | not \"and\" not\n",
    "not:        comparison | \"not\" not -> not_test\n",
    "comparison: arith | arith \"==\" arith -> eq | arith \"!=\" arith -> ne\n",
    "                  | arith \">\" arith -> gt  | arith \">=\" arith -> ge\n",
    "                  | arith \"<\" arith -> lt  | arith \"<=\" arith -> le\n",
    "\"\"\"\n",
    "\n",
    "grammar = \"\\n\".join([\"start: statements\", \"expression: or | branch\"]\n",
    "                   ) + expression_grammar + assignment_grammar + branching_grammar\n",
    "parser = lark.Lark(grammar)"
   ]
  },
  {
   "cell_type": "code",
   "execution_count": 19,
   "metadata": {
    "autoscroll": false,
    "collapsed": false,
    "ein.hycell": false,
    "ein.tags": "worksheet-0",
    "slideshow": {
     "slide_type": "-"
    }
   },
   "outputs": [
    {
     "name": "stdout",
     "output_type": "stream",
     "text": [
      "start\n",
      "  statements\n",
      "    expression\n",
      "      branch\n",
      "        expression\n",
      "          or\n",
      "            and\n",
      "              not\n",
      "                gt\n",
      "                  arith\n",
      "                    term\n",
      "                      factor\n",
      "                        pow\n",
      "                          call\n",
      "                            symbol\tx\n",
      "                  arith\n",
      "                    term\n",
      "                      factor\n",
      "                        pow\n",
      "                          call\n",
      "                            literal\t0\n",
      "        block\n",
      "          expression\n",
      "            or\n",
      "              and\n",
      "                not\n",
      "                  comparison\n",
      "                    arith\n",
      "                      term\n",
      "                        factor\n",
      "                          pow\n",
      "                            call\n",
      "                              literal\t1\n",
      "        block\n",
      "          expression\n",
      "            or\n",
      "              and\n",
      "                not\n",
      "                  comparison\n",
      "                    arith\n",
      "                      term\n",
      "                        neg\n",
      "                          factor\n",
      "                            pow\n",
      "                              call\n",
      "                                literal\t1\n",
      "\n"
     ]
    }
   ],
   "source": [
    "print(parser.parse(\"if x > 0 then 1 else -1\").pretty())"
   ]
  },
  {
   "cell_type": "code",
   "execution_count": 20,
   "metadata": {
    "autoscroll": false,
    "collapsed": false,
    "ein.hycell": false,
    "ein.tags": "worksheet-0",
    "slideshow": {
     "slide_type": "-"
    }
   },
   "outputs": [],
   "source": [
    "def toast(ptnode):\n",
    "    if ptnode.data == \"branch\":\n",
    "        predicate, consequent, alternate = [toast(x) for x in ptnode.children]\n",
    "        return Call(Symbol(\"if\", line=predicate.line), [predicate, consequent, alternate])\n",
    "\n",
    "    elif ptnode.data in (\"or\", \"and\", \"eq\", \"ne\", \"gt\", \"ge\", \"lt\", \"le\") and len(ptnode.children) > 1:\n",
    "        arguments = [toast(x) for x in ptnode.children]\n",
    "        return Call(Symbol(str(ptnode.data), line=arguments[0].line), arguments)\n",
    "\n",
    "    elif ptnode.data == \"not_test\":\n",
    "        argument = toast(ptnode.children[0])\n",
    "        return Call(Symbol(\"not\", line=argument.line), [argument])\n",
    "\n",
    "    ######################################### from this point onward, it's the same as before...\n",
    "    elif ptnode.data == \"statements\":\n",
    "        statements = [toast(x) for x in ptnode.children if x != \"\\n\"]\n",
    "        if len(statements) == 1:\n",
    "            return statements[0]\n",
    "        else:\n",
    "            return Block(statements, line=statements[0].line)\n",
    "    elif ptnode.data == \"assignment\":\n",
    "        return Assign(str(ptnode.children[0]), toast(ptnode.children[1]), line=ptnode.children[0].line)\n",
    "    elif ptnode.data in (\"add\", \"sub\", \"mul\", \"div\", \"pos\", \"neg\"):\n",
    "        arguments = [toast(x) for x in ptnode.children]\n",
    "        return Call(Symbol(str(ptnode.data), line=arguments[0].line), arguments)\n",
    "    elif ptnode.data == \"pow\" and len(ptnode.children) == 2:\n",
    "        arguments = [toast(ptnode.children[0]), toast(ptnode.children[1])]\n",
    "        return Call(Symbol(\"pow\", line=arguments[0].line), arguments)\n",
    "    elif ptnode.data == \"call\" and len(ptnode.children) == 2:\n",
    "        return Call(toast(ptnode.children[0]), toast(ptnode.children[1]))\n",
    "    elif ptnode.data == \"symbol\":\n",
    "        return Symbol(str(ptnode.children[0]), line=ptnode.children[0].line)\n",
    "    elif ptnode.data == \"literal\":\n",
    "        return Literal(float(ptnode.children[0]), line=ptnode.children[0].line)\n",
    "    elif ptnode.data == \"arglist\":\n",
    "        return [toast(x) for x in ptnode.children]\n",
    "    else:\n",
    "        return toast(ptnode.children[0])    # many other cases, all of them simple pass-throughs"
   ]
  },
  {
   "cell_type": "code",
   "execution_count": 21,
   "metadata": {
    "autoscroll": false,
    "collapsed": false,
    "ein.hycell": false,
    "ein.tags": "worksheet-0",
    "slideshow": {
     "slide_type": "-"
    }
   },
   "outputs": [
    {
     "name": "stdout",
     "output_type": "stream",
     "text": [
      "if(or(not(eq(x, 0.0)), and(gt(y, 1.0), le(z, 2.0))), add(2.0, 2.0), mul(111.0, 9.0))\n"
     ]
    }
   ],
   "source": [
    "print(toast(parser.parse(\"if not x == 0 or y > 1 and z <= 2 then 2 + 2 else 111 * 9\")))"
   ]
  },
  {
   "cell_type": "code",
   "execution_count": 22,
   "metadata": {
    "autoscroll": false,
    "collapsed": false,
    "ein.hycell": false,
    "ein.tags": "worksheet-0",
    "slideshow": {
     "slide_type": "-"
    }
   },
   "outputs": [
    {
     "data": {
      "text/plain": [
       "4.0"
      ]
     },
     "execution_count": 22,
     "metadata": {},
     "output_type": "execute_result"
    }
   ],
   "source": [
    "# The interpreter doesn't need any new features; all of these operators are just functions!\n",
    "\n",
    "builtins[\"if\"]  = lambda predicate, consequent, alternate: consequent if predicate else alternate\n",
    "builtins[\"or\"]  = lambda p, q: p or q\n",
    "builtins[\"and\"] = lambda p, q: p and q\n",
    "builtins[\"not\"] = lambda p: not p\n",
    "\n",
    "run(toast(parser.parse(\"if not x == 0 or y > 1 and z <= 2 then 2 + 2 else 111 * 9\")),\n",
    "    SymbolTable(builtins, x = 0, y = 10, z = 1))"
   ]
  },
  {
   "cell_type": "code",
   "execution_count": 23,
   "metadata": {
    "autoscroll": false,
    "collapsed": false,
    "ein.hycell": false,
    "ein.tags": "worksheet-0",
    "slideshow": {
     "slide_type": "-"
    }
   },
   "outputs": [
    {
     "name": "stdout",
     "output_type": "stream",
     "text": [
      "<built-in function add> 2.0 2.0 4.0\n",
      "<built-in function mul> 111.0 9.0 999.0\n"
     ]
    },
    {
     "data": {
      "text/plain": [
       "4.0"
      ]
     },
     "execution_count": 23,
     "metadata": {},
     "output_type": "execute_result"
    }
   ],
   "source": [
    "# However, both then/else clauses are evaluated, regardless of the predicate.\n",
    "def show(x, y, f):\n",
    "    print(f, x, y, f(x, y))\n",
    "    return f(x, y)\n",
    "builtins[\"add\"] = lambda x, y: show(x, y, operator.add)\n",
    "builtins[\"mul\"] = lambda x, y: show(x, y, operator.mul)\n",
    "\n",
    "run(toast(parser.parse(\"if x == x then 2 + 2 else 111 * 9\")), SymbolTable(builtins, x = 0))"
   ]
  },
  {
   "cell_type": "code",
   "execution_count": 24,
   "metadata": {},
   "outputs": [
    {
     "name": "stdout",
     "output_type": "stream",
     "text": [
      "<built-in function gt> 0 0.0 False\n",
      "<built-in function lt> 0 0.0 False\n"
     ]
    },
    {
     "data": {
      "text/plain": [
       "False"
      ]
     },
     "execution_count": 24,
     "metadata": {},
     "output_type": "execute_result"
    }
   ],
   "source": [
    "# same for and/or, which are traditionally only evaluated fully if their result is unknown.\n",
    "\n",
    "builtins[\"gt\"] = lambda x, y: show(x, y, operator.gt)\n",
    "builtins[\"lt\"] = lambda x, y: show(x, y, operator.lt)\n",
    "\n",
    "run(toast(parser.parse(\"x > 0 and x < 0\")), SymbolTable(builtins, x = 0))"
   ]
  },
  {
   "cell_type": "markdown",
   "metadata": {},
   "source": [
    "Much like the decision that if/then/else would return a value, rather than changing state, decisions about order of evaluation has a subtle effect on what kinds of programs will be written in the language.\n",
    "\n",
    "The and/or operators are left-right symmetric: we could\n",
    "\n",
    "(1) evaluate `q` in `p and q` only if `p` is true, or\n",
    "\n",
    "(2) evaluate `p` in `p and q` only if `q` is true (and equivalently for `p or q`).\n",
    "\n",
    "Both are mathematically valid, but (2) would break every bash script on Earth."
   ]
  },
  {
   "cell_type": "code",
   "execution_count": 25,
   "metadata": {},
   "outputs": [
    {
     "ename": "NameError",
     "evalue": "name 'symboltable' is not defined",
     "output_type": "error",
     "traceback": [
      "\u001b[0;31m----------------------------------------------------------------------\u001b[0m",
      "\u001b[0;31mNameError\u001b[0m                            Traceback (most recent call last)",
      "\u001b[0;32m<ipython-input-25-26b12fe88d0c>\u001b[0m in \u001b[0;36m<module>\u001b[0;34m\u001b[0m\n\u001b[1;32m     26\u001b[0m \u001b[0;34m\u001b[0m\u001b[0m\n\u001b[1;32m     27\u001b[0m \u001b[0;31m# only \"add\" or \"mul\" will be printed; not both\u001b[0m\u001b[0;34m\u001b[0m\u001b[0;34m\u001b[0m\u001b[0;34m\u001b[0m\u001b[0m\n\u001b[0;32m---> 28\u001b[0;31m \u001b[0mrun\u001b[0m\u001b[0;34m(\u001b[0m\u001b[0mtoast\u001b[0m\u001b[0;34m(\u001b[0m\u001b[0mparser\u001b[0m\u001b[0;34m.\u001b[0m\u001b[0mparse\u001b[0m\u001b[0;34m(\u001b[0m\u001b[0;34m\"if x == x then 2 + 2 else 111 * 9\"\u001b[0m\u001b[0;34m)\u001b[0m\u001b[0;34m)\u001b[0m\u001b[0;34m,\u001b[0m \u001b[0mSymbolTable\u001b[0m\u001b[0;34m(\u001b[0m\u001b[0msymboltable\u001b[0m\u001b[0;34m,\u001b[0m \u001b[0mx\u001b[0m \u001b[0;34m=\u001b[0m \u001b[0;36m0\u001b[0m\u001b[0;34m)\u001b[0m\u001b[0;34m)\u001b[0m\u001b[0;34m\u001b[0m\u001b[0;34m\u001b[0m\u001b[0m\n\u001b[0m",
      "\u001b[0;31mNameError\u001b[0m: name 'symboltable' is not defined"
     ]
    }
   ],
   "source": [
    "# Short exercise: customize if-handling to only evaluate consequent or alternate, but not both.\n",
    "\n",
    "def run(astnode, symbols):\n",
    "    if isinstance(astnode, Call) and astnode.function.symbol == \"if\":\n",
    "        predicate  = run(astnode.arguments[0], symbols)\n",
    "        consequent = run(astnode.arguments[1], symbols)\n",
    "        alternate  = run(astnode.arguments[2], symbols)\n",
    "        return consequent if predicate else alternate\n",
    "\n",
    "    ######################################### the change you need to make is ABOVE this line...\n",
    "    elif isinstance(astnode, Literal):\n",
    "        return astnode.value\n",
    "    elif isinstance(astnode, Symbol):\n",
    "        return symbols[astnode.symbol]\n",
    "    elif isinstance(astnode, Call):\n",
    "        function = run(astnode.function, symbols)\n",
    "        arguments = [run(x, symbols) for x in astnode.arguments]\n",
    "        return function(*arguments)\n",
    "    elif isinstance(astnode, Block):\n",
    "        symboltable = SymbolTable(symbols)\n",
    "        for statement in astnode.statements:\n",
    "            last = run(statement, symboltable)\n",
    "        return last\n",
    "    elif isinstance(astnode, Assign):\n",
    "        symbols[astnode.symbol] = run(astnode.value, symbols)\n",
    "\n",
    "# only \"add\" or \"mul\" will be printed; not both\n",
    "run(toast(parser.parse(\"if x == x then 2 + 2 else 111 * 9\")), SymbolTable(symboltable, x = 0))"
   ]
  },
  {
   "cell_type": "markdown",
   "metadata": {},
   "source": [
    "To evaluate only one of the two branches, we had to implement a special rule in the interpreter because the general rule is \"evaluate all function arguments before evalutaing the function.\"\n",
    "\n",
    "Some languages provide control over argument evaluation, such that users of the language can create control structures like if/then/else. Lisp has a general-purpose \"quote\" form:\n",
    "\n",
    "```lisp\n",
    "(setq consequent (quote (+ 2 2)))                 ; setq is assignment\n",
    "(setq alternate  (quote (* 999 1)))\n",
    "(if (> x 0) (eval consequent) (eval alternate))   ; eval is the opposite of quote\n",
    "```\n",
    "\n",
    "that passes on the ASTs of `(+ 2 2)` and `(* 999 1)` to be evaluated later (selectively).\n",
    "\n",
    "We can also do this in a language that allows functions to be defined and passed around as objects."
   ]
  },
  {
   "cell_type": "code",
   "execution_count": 26,
   "metadata": {},
   "outputs": [],
   "source": [
    "function_grammar = \"\"\"\n",
    "paramlist: CNAME | \"(\" (\",\" CNAME)* \")\"\n",
    "function: paramlist \"=>\" block\n",
    "\"\"\"\n",
    "\n",
    "grammar = \"\\n\".join([\"start: statements\", \"expression: or | branch | function\"]\n",
    "                   ) + expression_grammar + assignment_grammar + branching_grammar + function_grammar\n",
    "parser = lark.Lark(grammar)"
   ]
  },
  {
   "cell_type": "code",
   "execution_count": 27,
   "metadata": {},
   "outputs": [
    {
     "name": "stdout",
     "output_type": "stream",
     "text": [
      "start\n",
      "  statements\n",
      "    expression\n",
      "      function\n",
      "        paramlist\tx\n",
      "        block\n",
      "          expression\n",
      "            or\n",
      "              and\n",
      "                not\n",
      "                  comparison\n",
      "                    arith\n",
      "                      term\n",
      "                        factor\n",
      "                          pow\n",
      "                            call\n",
      "                              symbol\tx\n",
      "                            factor\n",
      "                              pow\n",
      "                                call\n",
      "                                  literal\t2\n",
      "\n"
     ]
    }
   ],
   "source": [
    "print(parser.parse(\"x => x**2\").pretty())"
   ]
  },
  {
   "cell_type": "code",
   "execution_count": 28,
   "metadata": {},
   "outputs": [],
   "source": [
    "class Function(AST):                             # Function: defines a new function (lambda expression)\n",
    "    _fields = (\"paramlist\", \"body\")\n",
    "    def __str__(self):\n",
    "        return \"({0}) => {1}\".format(\", \".join(self.paramlist), str(self.body))\n",
    "\n",
    "def toast(ptnode):\n",
    "    if ptnode.data == \"function\":\n",
    "        paramlist = [str(x) for x in ptnode.children[0].children]\n",
    "        body = toast(ptnode.children[1])\n",
    "        return Function(paramlist, body, line=body.line)\n",
    "    \n",
    "    ######################################### from this point onward, it's the same as before...\n",
    "    elif ptnode.data == \"branch\":\n",
    "        predicate, consequent, alternate = [toast(x) for x in ptnode.children]\n",
    "        return Call(Symbol(\"if\", line=predicate.line), [predicate, consequent, alternate])\n",
    "    elif ptnode.data in (\"or\", \"and\", \"eq\", \"ne\", \"gt\", \"ge\", \"lt\", \"le\") and len(ptnode.children) > 1:\n",
    "        arguments = [toast(x) for x in ptnode.children]\n",
    "        return Call(Symbol(str(ptnode.data), line=arguments[0].line), arguments)\n",
    "    elif ptnode.data == \"not_test\":\n",
    "        argument = toast(ptnode.children[0])\n",
    "        return Call(Symbol(\"not\", line=argument.line), [argument])\n",
    "    elif ptnode.data == \"statements\":\n",
    "        statements = [toast(x) for x in ptnode.children if x != \"\\n\"]\n",
    "        if len(statements) == 1:\n",
    "            return statements[0]\n",
    "        else:\n",
    "            return Block(statements, line=statements[0].line)\n",
    "    elif ptnode.data == \"assignment\":\n",
    "        return Assign(str(ptnode.children[0]), toast(ptnode.children[1]), line=ptnode.children[0].line)\n",
    "    elif ptnode.data in (\"add\", \"sub\", \"mul\", \"div\", \"pos\", \"neg\"):\n",
    "        arguments = [toast(x) for x in ptnode.children]\n",
    "        return Call(Symbol(str(ptnode.data), line=arguments[0].line), arguments)\n",
    "    elif ptnode.data == \"pow\" and len(ptnode.children) == 2:\n",
    "        arguments = [toast(ptnode.children[0]), toast(ptnode.children[1])]\n",
    "        return Call(Symbol(\"pow\", line=arguments[0].line), arguments)\n",
    "    elif ptnode.data == \"call\" and len(ptnode.children) == 2:\n",
    "        return Call(toast(ptnode.children[0]), toast(ptnode.children[1]))\n",
    "    elif ptnode.data == \"symbol\":\n",
    "        return Symbol(str(ptnode.children[0]), line=ptnode.children[0].line)\n",
    "    elif ptnode.data == \"literal\":\n",
    "        return Literal(float(ptnode.children[0]), line=ptnode.children[0].line)\n",
    "    elif ptnode.data == \"arglist\":\n",
    "        return [toast(x) for x in ptnode.children]\n",
    "    else:\n",
    "        return toast(ptnode.children[0])    # many other cases, all of them simple pass-throughs"
   ]
  },
  {
   "cell_type": "code",
   "execution_count": 29,
   "metadata": {},
   "outputs": [
    {
     "name": "stdout",
     "output_type": "stream",
     "text": [
      "{f := (x) => pow(x, 2.0); f(y)}\n"
     ]
    }
   ],
   "source": [
    "print(toast(parser.parse(\"\"\"\n",
    "f := x => x**2\n",
    "f(y)\n",
    "\"\"\")))"
   ]
  },
  {
   "cell_type": "code",
   "execution_count": 30,
   "metadata": {},
   "outputs": [],
   "source": [
    "def run(astnode, symbols):\n",
    "    if isinstance(astnode, Function):\n",
    "        def function(*args):\n",
    "            if len(args) != len(astnode.paramlist):\n",
    "                raise UserError(astnode.line, \"wrong number of arguments\")\n",
    "            symboltable = SymbolTable(symbols, **dict(zip(astnode.paramlist, args)))\n",
    "            return run(astnode.body, symboltable)\n",
    "        return function\n",
    "\n",
    "    ######################################### from this point onward, it's the same as before...\n",
    "    elif isinstance(astnode, Literal):\n",
    "        return astnode.value\n",
    "    elif isinstance(astnode, Symbol):\n",
    "        return symbols[astnode.symbol]\n",
    "    elif isinstance(astnode, Call):\n",
    "        function = run(astnode.function, symbols)\n",
    "        arguments = [run(x, symbols) for x in astnode.arguments]\n",
    "        return function(*arguments)\n",
    "    elif isinstance(astnode, Block):\n",
    "        symboltable = SymbolTable(symbols)\n",
    "        for statement in astnode.statements:\n",
    "            last = run(statement, symboltable)\n",
    "        return last\n",
    "    elif isinstance(astnode, Assign):\n",
    "        symbols[astnode.symbol] = run(astnode.value, symbols)"
   ]
  },
  {
   "cell_type": "code",
   "execution_count": 31,
   "metadata": {},
   "outputs": [
    {
     "data": {
      "text/plain": [
       "10.0"
      ]
     },
     "execution_count": 31,
     "metadata": {},
     "output_type": "execute_result"
    }
   ],
   "source": [
    "symboltable = SymbolTable(**{**operator.__dict__, **math.__dict__})\n",
    "\n",
    "run(toast(parser.parse(\"\"\"\n",
    "f := x => 2*x\n",
    "f(y)\n",
    "\"\"\")), SymbolTable(symboltable, y = 5))"
   ]
  },
  {
   "cell_type": "code",
   "execution_count": 32,
   "metadata": {},
   "outputs": [
    {
     "name": "stdout",
     "output_type": "stream",
     "text": [
      "<built-in function add> 2.0 2.0 4.0\n"
     ]
    },
    {
     "data": {
      "text/plain": [
       "4.0"
      ]
     },
     "execution_count": 32,
     "metadata": {},
     "output_type": "execute_result"
    }
   ],
   "source": [
    "# Now we can define \"if\" as a plain function that takes and calls zero-argument then/else clauses\n",
    "# to customize the order of evaluation.\n",
    "\n",
    "symboltable = SymbolTable(**{**operator.__dict__, **math.__dict__})\n",
    "\n",
    "symboltable[\"if\"] = (lambda predicate, consequent, alternate:\n",
    "                         consequent() if predicate else alternate())\n",
    "\n",
    "symboltable[\"add\"] = lambda x, y: show(x, y, operator.add)\n",
    "symboltable[\"mul\"] = lambda x, y: show(x, y, operator.mul)\n",
    "\n",
    "run(toast(parser.parse(\"if x == x then () => 2 + 2 else () => 111 * 9\")),\n",
    "    SymbolTable(symboltable, x = 0))"
   ]
  },
  {
   "cell_type": "code",
   "execution_count": 33,
   "metadata": {},
   "outputs": [
    {
     "data": {
      "text/plain": [
       "[0.0, 1.0, 4.0, 9.0, 16.0, 25.0]"
      ]
     },
     "execution_count": 33,
     "metadata": {},
     "output_type": "execute_result"
    }
   ],
   "source": [
    "# Passing functions as arguments allows us to create control structures that don't otherwise exist.\n",
    "\n",
    "symboltable[\"for\"] = lambda n, f: [f(i) for i in range(int(n))]\n",
    "\n",
    "run(toast(parser.parse(\"for(6, i => i**2)\")), SymbolTable(symboltable))"
   ]
  },
  {
   "cell_type": "markdown",
   "metadata": {},
   "source": [
    "Recently, we have been talking about **Domain Specific Languages** (DSL) but referring to them as \"declarative programming.\"\n",
    "\n",
    "**Declarative** has to do with the **evaluation order** we've just seen.\n",
    "\n",
    "   * **Strictly Evaluated** languages evaluate expressions in lexical order (i.e. arguments before function calls).\n",
    "   \n",
    "   * **Lazily Evaluated** languages eventually produce the same results but give the program more flexibility in deciding _when_ or _where_ the code will run. There are several kinds of objects representing a calculation that has not been executed:\n",
    "      * An **AST** is the most powerful (Lisp's [quote](https://www.gnu.org/software/emacs/manual/html_node/elisp/Quoting.html) and C#'s [expression tree](https://docs.microsoft.com/en-us/dotnet/csharp/programming-guide/concepts/expression-trees/index)): you can edit the code as data!\n",
    "      * Passing **function objects** is the fundamental idea of functional programming—you don't need the language to have control structures because you can build them yourself.\n",
    "      * **Promises/futures** are placeholders for calculations running elsewhere—another thread or another computer.\n",
    "   \n",
    "   \n",
    "   * **Declarative** languages produce the same output as strictly or lazily evaluated languages, but hide the distinction between them: _the order in which the code runs is an implementation detail_."
   ]
  },
  {
   "cell_type": "markdown",
   "metadata": {},
   "source": [
    "<br><br>\n",
    "\n",
    "Examples of **declarative evaluation** include:\n",
    "\n",
    "   * rendering HTML: order determines placement, but not the sequence of graphics commands to draw it\n",
    "   * execution of SQL: user's queries are rewritten and optimized by query planner\n",
    "   * commands in a Makefile: only executed if targets are out of date\n",
    "   * cached function calls (\"memoized\"): function is only executed if not cached; e.g. an HTTP GET request\n",
    "   * machine code instructions in a CPU: modern processors sometimes engage in [speculative execution](https://en.wikipedia.org/wiki/Out-of-order_execution).\n",
    "\n",
    "One place we might consider declarative evaluation is in hiding the distinction between columnar and fused array operations (ask me later).\n",
    "\n",
    "<br><br>"
   ]
  },
  {
   "cell_type": "markdown",
   "metadata": {},
   "source": [
    "**We have now seen all the essential elements of a programming language.**\n",
    "\n",
    "   * **Parsing:** conversion of source code text into a **Parsing Tree**, then an **Abstract Syntax Tree** (AST).\n",
    "   * **Interpreter:** runs the program by walking over the AST at runtime.\n",
    "   * **Compiler:** converts the program to another language, such as machine instructions, and runs that.\n",
    "   * **Expressions:** nested elements of a mathematical formula.\n",
    "      * **Literal:** values in the source code text.\n",
    "      * **Symbol:** named reference to a value.\n",
    "      * **Function Call:** evaluation of a function (including binary operations).\n",
    "      * **Function Definition:** creation of a new function (named or unnamed).\n",
    "   * **Statements:** sequential elements defining a process.\n",
    "      * **Assign:** creation or replacement of a named reference (possibly to a function).\n",
    "   * **Symbol Scope:** at which parts of a program symbols are bound to values (only considered **Lexical Scope**).\n",
    "   * **Evaluation Order:** temporal order in which expressions and statements are evaluated.\n",
    "      * **Strict/Eager Evaluation:** the usual order; arguments of a function call before the function call.\n",
    "      * **Lazy Evaluation:** pass unevaluated code (e.g. function definition) to let the called function decide when to evaluate.\n",
    "      * **Declarative:** evaluation order is not visible to the programmer."
   ]
  }
 ],
 "metadata": {
  "kernelspec": {
   "display_name": "Python 3",
   "language": "python",
   "name": "python3"
  },
  "language_info": {
   "codemirror_mode": {
    "name": "ipython",
    "version": 3
   },
   "file_extension": ".py",
   "mimetype": "text/x-python",
   "name": "python",
   "nbconvert_exporter": "python",
   "pygments_lexer": "ipython3",
   "version": "3.7.2"
  },
  "name": "02-parsers-and-interpreters.ipynb"
 },
 "nbformat": 4,
 "nbformat_minor": 2
}
