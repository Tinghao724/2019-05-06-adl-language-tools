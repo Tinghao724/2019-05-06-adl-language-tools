{
 "cells": [
  {
   "cell_type": "markdown",
   "metadata": {
    "ein.tags": "worksheet-1",
    "slideshow": {
     "slide_type": "-"
    }
   },
   "source": []
  },
  {
   "cell_type": "code",
   "execution_count": 49,
   "metadata": {
    "autoscroll": false,
    "collapsed": false,
    "ein.hycell": false,
    "ein.tags": "worksheet-1",
    "slideshow": {
     "slide_type": "-"
    }
   },
   "outputs": [],
   "source": [
    "import lark\n",
    "\n",
    "grammar = \"\"\"\n",
    "start:      expression\n",
    "\n",
    "expression: term ((\"+\" | \"-\") term)*\n",
    "term:       factor ((\"*\" | \"/\") factor)*\n",
    "factor:     (\"+\" | \"-\") factor | power\n",
    "power:      call [\"**\" factor]\n",
    "call:       atom trailer*\n",
    "atom:       \"(\" expression \")\" | CNAME -> symbol | NUMBER -> literal\n",
    "\n",
    "trailer:    \"(\" arglist \")\"\n",
    "arglist:    expression (\",\" expression)*\n",
    "\n",
    "%import common.CNAME\n",
    "%import common.NUMBER\n",
    "%import common.WS\n",
    "\n",
    "%ignore WS\n",
    "\"\"\"\n",
    "\n",
    "parser = lark.Lark(grammar)\n"
   ]
  },
  {
   "cell_type": "code",
   "execution_count": 52,
   "metadata": {
    "autoscroll": false,
    "collapsed": false,
    "ein.hycell": false,
    "ein.tags": "worksheet-1",
    "slideshow": {
     "slide_type": "-"
    }
   },
   "outputs": [
    {
     "name": "stdout",
     "output_type": "stream",
     "text": [
      "start\n",
      "  expression\n",
      "    term\n",
      "      factor\n",
      "        power\n",
      "          call\n",
      "            literal\t2\n",
      "    term\n",
      "      factor\n",
      "        power\n",
      "          call\n",
      "            literal\t2\n",
      "\n"
     ]
    }
   ],
   "source": [
    "print(parser.parse(\"2 + 2\").pretty())"
   ]
  },
  {
   "cell_type": "code",
   "execution_count": 26,
   "metadata": {
    "autoscroll": false,
    "collapsed": false,
    "ein.hycell": false,
    "ein.tags": "worksheet-1",
    "slideshow": {
     "slide_type": "-"
    }
   },
   "outputs": [],
   "source": [
    "class AST:\n",
    "    _fields = ()\n",
    "    def __init__(self, *args, line=None):\n",
    "        for n, x in zip(self._fields, args):\n",
    "            setattr(self, n, x)\n",
    "        self.line = line\n",
    "    def __repr__(self):\n",
    "        return \"{0}({1})\".format(type(self).__name__, \", \".join(getattr(self, n) for n in self._fields))\n",
    "\n",
    "class Literal(AST):\n",
    "    _fields = (\"value\",)\n",
    "    def __str__(self):\n",
    "        return str(self.value)\n",
    "\n",
    "class Symbol(AST):\n",
    "    _fields = (\"symbol\",)\n",
    "    def __str__(self):\n",
    "        return self.symbol\n",
    "\n",
    "class Call(AST):\n",
    "    _fields = (\"function\", \"arguments\")\n",
    "    def __str__(self):\n",
    "        return \"{0}({1})\".format(str(self.function), \", \".join(str(x) for x in self.arguments))"
   ]
  },
  {
   "cell_type": "code",
   "execution_count": 58,
   "metadata": {
    "autoscroll": false,
    "collapsed": false,
    "ein.hycell": false,
    "ein.tags": "worksheet-1",
    "slideshow": {
     "slide_type": "-"
    }
   },
   "outputs": [
    {
     "data": {
      "text/plain": [
       "'power'"
      ]
     },
     "execution_count": 58,
     "metadata": {},
     "output_type": "execute_result"
    }
   ],
   "source": [
    "def recurse(parsed):\n",
    "    if parsed.data == \"literal\":\n",
    "        return Literal(float(parsed.children[0]))\n",
    "    elif parsed.data == \"symbol\":\n",
    "        return Symbol(parsed.children[0])\n",
    "    elif parsed.data == \"call\":\n",
    "        return\n",
    "\n",
    "    if isinstance(parsed, lark.lexer.Token):\n",
    "        print(\"token\", parsed)\n",
    "\n",
    "    # for x in parsed.children:\n",
    "    #     recurse(x)\n",
    "\n",
    "(parser.parse(\"2\").children[0].children[0].children[0].children[0]).data\n"
   ]
  }
 ],
 "metadata": {
  "kernelspec": {
   "display_name": "Python 3",
   "name": "python3"
  },
  "name": "02-parsing.ipynb"
 },
 "nbformat": 4,
 "nbformat_minor": 2
}
