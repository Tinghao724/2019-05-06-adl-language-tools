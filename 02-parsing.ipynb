{
 "cells": [
  {
   "cell_type": "markdown",
   "metadata": {
    "ein.tags": "worksheet-0",
    "slideshow": {
     "slide_type": "-"
    }
   },
   "source": []
  },
  {
   "cell_type": "code",
   "execution_count": 114,
   "metadata": {
    "autoscroll": false,
    "collapsed": false,
    "ein.hycell": false,
    "ein.tags": "worksheet-0",
    "slideshow": {
     "slide_type": "-"
    }
   },
   "outputs": [],
   "source": [
    "import lark\n",
    "\n",
    "grammar = \"\"\"\n",
    "start:      expression\n",
    "\n",
    "expression: term   | term \"+\" term     -> add | term \"-\" term     -> sub\n",
    "term:       factor | factor \"*\" factor -> mul | factor \"/\" factor -> div\n",
    "factor:     power  | \"+\" factor        -> pos | \"-\" factor        -> neg\n",
    "power:      call [\"**\" factor]\n",
    "call:       atom   | call trailer\n",
    "atom:       \"(\" expression \")\" | CNAME -> symbol | NUMBER -> literal\n",
    "\n",
    "trailer:    \"(\" arglist \")\"\n",
    "arglist:    expression (\",\" expression)*\n",
    "\n",
    "%import common.CNAME\n",
    "%import common.NUMBER\n",
    "%import common.WS\n",
    "\n",
    "%ignore WS\n",
    "\"\"\"\n",
    "\n",
    "parser = lark.Lark(grammar)\n"
   ]
  },
  {
   "cell_type": "code",
   "execution_count": 115,
   "metadata": {
    "autoscroll": false,
    "collapsed": false,
    "ein.hycell": false,
    "ein.tags": "worksheet-0",
    "slideshow": {
     "slide_type": "-"
    }
   },
   "outputs": [
    {
     "name": "stdout",
     "output_type": "stream",
     "text": [
      "start\n",
      "  add\n",
      "    term\n",
      "      factor\n",
      "        power\n",
      "          call\n",
      "            literal\t2\n",
      "    term\n",
      "      factor\n",
      "        power\n",
      "          call\n",
      "            literal\t2\n",
      "\n"
     ]
    }
   ],
   "source": [
    "print(parser.parse(\"2 + 2\").pretty())"
   ]
  },
  {
   "cell_type": "code",
   "execution_count": 52,
   "metadata": {
    "autoscroll": false,
    "collapsed": false,
    "ein.hycell": false,
    "ein.tags": "worksheet-0",
    "slideshow": {
     "slide_type": "-"
    }
   },
   "outputs": [],
   "source": [
    "class AST:\n",
    "    _fields = ()\n",
    "    def __init__(self, *args, line=None):\n",
    "        for n, x in zip(self._fields, args):\n",
    "            setattr(self, n, x)\n",
    "        self.line = line\n",
    "    def __repr__(self):\n",
    "        return \"{0}({1})\".format(type(self).__name__, \", \".join(repr(getattr(self, n)) for n in self._fields))\n",
    "\n",
    "class Literal(AST):\n",
    "    _fields = (\"value\",)\n",
    "    def __str__(self):\n",
    "        return str(self.value)\n",
    "\n",
    "class Symbol(AST):\n",
    "    _fields = (\"symbol\",)\n",
    "    def __str__(self):\n",
    "        return self.symbol\n",
    "\n",
    "class Call(AST):\n",
    "    _fields = (\"function\", \"arguments\")\n",
    "    def __str__(self):\n",
    "        return \"{0}({1})\".format(str(self.function), \", \".join(str(x) for x in self.arguments))"
   ]
  },
  {
   "cell_type": "code",
   "execution_count": 122,
   "metadata": {
    "autoscroll": false,
    "collapsed": false,
    "ein.hycell": false,
    "ein.tags": "worksheet-0",
    "slideshow": {
     "slide_type": "-"
    }
   },
   "outputs": [
    {
     "name": "stdout",
     "output_type": "stream",
     "text": [
      "add(2.0, 2.0)\n"
     ]
    }
   ],
   "source": [
    "def toast(ptnode):\n",
    "    if ptnode.data in (\"add\", \"sub\", \"mul\", \"div\", \"pos\", \"neg\"):\n",
    "        return Call(Symbol(ptnode.data), [toast(x) for x in ptnode.children])\n",
    "    elif ptnode.data == \"power\" and len(ptnode.children) == 2:\n",
    "        return Call(Symbol(\"pow\"), [toast(ptnode.children[0]), toast(ptnode.children[1])])\n",
    "    elif ptnode.data == \"call\" and len(ptnode.children) == 2:\n",
    "        return Call(toast(ptnode.children[0]), toast(ptnode.children[1]))\n",
    "    elif ptnode.data == \"symbol\":\n",
    "        return Symbol(ptnode.children[0])\n",
    "    elif ptnode.data == \"literal\":\n",
    "        return Literal(float(ptnode.children[0]))\n",
    "    elif ptnode.data == \"arglist\":\n",
    "        return [toast(x) for x in ptnode.children]\n",
    "    else:\n",
    "        return toast(ptnode.children[0])    # many other cases, all of them simple pass-throughs\n",
    "\n",
    "print(toast(parser.parse(\"2 + 2\")))\n"
   ]
  },
  {
   "cell_type": "code",
   "execution_count": 128,
   "metadata": {
    "autoscroll": false,
    "collapsed": false,
    "ein.hycell": false,
    "ein.tags": "worksheet-0",
    "slideshow": {
     "slide_type": "-"
    }
   },
   "outputs": [],
   "source": [
    "class SymbolTable:\n",
    "    def __init__(self, parent=None, **symbols):\n",
    "        self.parent = parent\n",
    "        self.symbols = symbols\n",
    "\n",
    "    def __getitem__(self, symbol):\n",
    "        if symbol in self.symbols:\n",
    "            return self.symbols[symbol]\n",
    "        elif self.parent is not None:\n",
    "            return self.parent[symbol]\n",
    "        else:\n",
    "            raise KeyError(symbol)\n",
    "\n",
    "    def __setitem__(self, symbol, value):\n",
    "        self.symbols[symbol] = value\n",
    "\n",
    "builtins = SymbolTable()\n",
    "builtins[\"add\"] = lambda x, y: x + y\n",
    "builtins[\"sub\"] = lambda x, y: x - y\n",
    "builtins[\"mul\"] = lambda x, y: x * y\n",
    "builtins[\"div\"] = lambda x, y: x / y\n",
    "builtins[\"pos\"] = lambda x: x\n",
    "builtins[\"neg\"] = lambda x: -x\n",
    "builtins[\"pow\"] = lambda x, y: x**y\n"
   ]
  },
  {
   "cell_type": "code",
   "execution_count": 139,
   "metadata": {
    "autoscroll": false,
    "collapsed": false,
    "ein.hycell": false,
    "ein.tags": "worksheet-0",
    "slideshow": {
     "slide_type": "-"
    }
   },
   "outputs": [
    {
     "data": {
      "text/plain": [
       "4.0"
      ]
     },
     "execution_count": 139,
     "metadata": {},
     "output_type": "execute_result"
    }
   ],
   "source": [
    "def interpreter(astnode, symboltable):\n",
    "    if isinstance(astnode, Literal):\n",
    "        return astnode.value\n",
    "    elif isinstance(astnode, Symbol):\n",
    "        return symboltable[astnode.symbol]\n",
    "    elif isinstance(astnode, Call):\n",
    "        return interpreter(astnode.function, symboltable)(*[interpreter(x, symboltable) for x in astnode.arguments])\n",
    "\n",
    "interpreter(toast(parser.parse(\"2 + 2\")), SymbolTable(builtins))\n"
   ]
  }
 ],
 "metadata": {
  "kernelspec": {
   "display_name": "Python 3",
   "name": "python3"
  },
  "name": "02-parsing.ipynb"
 },
 "nbformat": 4,
 "nbformat_minor": 2
}
