{
 "cells": [
  {
   "cell_type": "markdown",
   "metadata": {
    "ein.tags": "worksheet-0",
    "slideshow": {
     "slide_type": "-"
    }
   },
   "source": [
    "<br><br><br><br><br>\n",
    "\n",
    "# Parsing and interpreting\n",
    "\n",
    "<br><br><br><br><br>"
   ]
  },
  {
   "cell_type": "markdown",
   "metadata": {},
   "source": [
    "**Parsing is the conversion of source code text into a tree representing relationships among tokens (words & symbols).**\n",
    "\n",
    "<img src=\"https://web.archive.org/web/20180815032316im_/http://www.german-latin-english.com/diagram2.gif\" width=\"50%\">\n",
    "\n",
    "Reports about medicines in newspapers and on television commonly contain little or no information about drugs' risks and cost, and often cite medical \"experts\" without disclosing their financial ties to the pharmaceutical industry, according to a new study.\n",
    "\n",
    "   - Susan Okie, The Washington Post (published on June 1, 2000, in Louisville, KY, in The Courier-Journal, page A3)"
   ]
  },
  {
   "cell_type": "markdown",
   "metadata": {},
   "source": [
    "<img src=\"https://web.archive.org/web/20181030174508im_/https://www.nltk.org/book/tree_images/ch08-tree-1.png\" width=\"45%\"><img src=\"https://web.archive.org/web/20181030174508im_/https://www.nltk.org/book/tree_images/ch08-tree-2.png\" width=\"45%\">\n",
    "\n",
    "<br>\n",
    "\"How he got into my pajamas, I'll never know.\" — Groucho Marx"
   ]
  },
  {
   "cell_type": "markdown",
   "metadata": {},
   "source": [
    "**Grammar:** a list of rules to convert tokens into trees and trees into bigger trees.\n",
    "\n",
    "```\n",
    "sentence (S):              noun_phrase verb_phrase\n",
    "prepositional_phrase (PP): preposition noun_phrase\n",
    "verb_phrase (VP):          verb noun_phrase | verb noun_phrase prepositional_phrase\n",
    "noun_phrase (NP):          \"John\" | \"Mary\" | \"Bob\"\n",
    "                           | determiner noun | determiner noun prepositional_phrase\n",
    "preposition (P):           \"in\" | \"on\" | \"by\" | \"with\"\n",
    "verb (V):                  \"saw\" | \"ate\" | \"walked\"\n",
    "determiner (Det):          \"a\" | \"an\" | \"the\" | \"my\"\n",
    "noun (N):                  \"man\" | \"dog\" | \"cat\" | \"telescope\" | \"park\"\n",
    "```\n",
    "\n",
    "<center><img src=\"https://web.archive.org/web/20181030174508im_/https://www.nltk.org/book/tree_images/ch08-tree-4.png\" width=\"20%\"><img src=\"https://web.archive.org/web/20181030174508im_/https://www.nltk.org/book/tree_images/ch08-tree-5.png\" width=\"20%\"></center>"
   ]
  },
  {
   "cell_type": "markdown",
   "metadata": {},
   "source": [
    "<img src=\"https://web.archive.org/web/20181030174508im_/https://www.nltk.org/images/rdparser1-6.png\" width=\"90%\">"
   ]
  },
  {
   "cell_type": "markdown",
   "metadata": {},
   "source": [
    "<table><tr><td width=\"20%\">\n",
    "<img src=\"https://web.archive.org/web/20190219060132im_/https://ruslanspivak.com/lsbasi-part7/lsbasi_part7_genastdot_01.png\" width=\"100%\">\n",
    "</td><td width=\"80%\">\n",
    "<p style=\"font-size: 14px; margin-left: 10px; margin-bottom: 30px\">Mathematical expressions and computer programs can be parsed the same way.</p>\n",
    "<p style=\"font-size: 14px; margin-left: 10px; margin-bottom: 30px\"><tt>7 + 3 * (10 / (12 / (3 + 1) - 1))</tt></p>\n",
    "<p style=\"font-size: 14px; margin-left: 10px; margin-bottom: 30px\">We definitely don't need to write the parsing algorithm—decades of computer science research has already gone into that.</p>\n",
    "<p style=\"font-size: 14px; margin-left: 10px; margin-bottom: 30px\">I used to have a favorite (PLY), but while preparing this demo, I found a better one (Lark).</p>\n",
    "<p style=\"font-size: 14px; margin-left: 10px; margin-bottom: 30px\"><b>Let's get started!</b></p>\n",
    "</td></tr></table>"
   ]
  },
  {
   "cell_type": "markdown",
   "metadata": {},
   "source": [
    "## Lark - a modern parsing library for Python\n",
    "\n",
    "Parse any context-free grammar, FAST and EASY!\n",
    "\n",
    "**Beginners**: Lark is not just another parser. It can parse any grammar you throw at it, no matter how complicated or ambiguous, and do so efficiently. It also constructs a parse-tree for you, without additional code on your part.\n",
    "\n",
    "**Experts**: Lark implements both Earley(SPPF) and LALR(1), and several different lexers, so you can trade-off power and speed, according to your requirements. It also provides a variety of sophisticated features and utilities.\n",
    "\n",
    "Lark can:\n",
    "\n",
    " - Parse all context-free grammars, and handle any ambiguity\n",
    " - Build a parse-tree automagically, no construction code required\n",
    " - Outperform all other Python libraries when using LALR(1) (Yes, including PLY)\n",
    " - Run on every Python interpreter (it's pure-python)\n",
    " - Generate a stand-alone parser (for LALR(1) grammars)"
   ]
  },
  {
   "cell_type": "code",
   "execution_count": 1,
   "metadata": {
    "autoscroll": false,
    "collapsed": false,
    "ein.hycell": false,
    "ein.tags": "worksheet-0",
    "slideshow": {
     "slide_type": "-"
    }
   },
   "outputs": [],
   "source": [
    "import lark\n",
    "\n",
    "expression_grammar = \"\"\"\n",
    "expression: term   | term \"+\" term     -> add | term \"-\" term     -> sub\n",
    "term:       factor | factor \"*\" factor -> mul | factor \"/\" factor -> div\n",
    "factor:     power  | \"+\" factor        -> pos | \"-\" factor        -> neg\n",
    "power:      call [\"**\" factor]\n",
    "call:       atom   | call trailer\n",
    "atom:       \"(\" expression \")\" | CNAME -> symbol | NUMBER -> literal\n",
    "trailer:    \"(\" arglist \")\"\n",
    "arglist:    expression (\",\" expression)*\n",
    "\n",
    "%import common.CNAME\n",
    "%import common.NUMBER\n",
    "%import common.WS\n",
    "\n",
    "%ignore WS\n",
    "\"\"\"\n",
    "grammar = \"start: expression\\n\" + expression_grammar\n",
    "\n",
    "parser = lark.Lark(grammar)"
   ]
  },
  {
   "cell_type": "code",
   "execution_count": 2,
   "metadata": {
    "autoscroll": false,
    "collapsed": false,
    "ein.hycell": false,
    "ein.tags": "worksheet-0",
    "slideshow": {
     "slide_type": "-"
    }
   },
   "outputs": [
    {
     "name": "stdout",
     "output_type": "stream",
     "text": [
      "start\n",
      "  add\n",
      "    term\n",
      "      factor\n",
      "        power\n",
      "          call\n",
      "            literal\t2\n",
      "    term\n",
      "      factor\n",
      "        power\n",
      "          call\n",
      "            literal\t2\n",
      "\n"
     ]
    }
   ],
   "source": [
    "print(parser.parse(\"2 + 2\").pretty())"
   ]
  },
  {
   "cell_type": "markdown",
   "metadata": {},
   "source": [
    "<table><tr><td width=\"35%\">\n",
    "<img src=\"https://web.archive.org/web/20190219060132im_/https://ruslanspivak.com/lsbasi-part7/lsbasi_part7_ast_02.png\" width=\"100%\">\n",
    "</td><td width=\"65%\">\n",
    "<p style=\"font-size: 14px; margin-left: 10px; margin-bottom: 30px\">The parsing tree has too much detail because it includes nodes for rules even if they were just used to set up operator precedence.</p>\n",
    "<p style=\"font-size: 14px; margin-left: 10px; margin-bottom: 30px\">Let's reduce it to a tree that contains only what is necessary to understand the meaning of the program.</p>\n",
    "<p style=\"font-size: 14px; margin-left: 10px; margin-bottom: 30px\">Such a tree is called an <b>Abstract Syntax Tree</b> (AST).</p>\n",
    "<p style=\"font-size: 14px; margin-left: 10px; margin-bottom: 30px\">This is easy enough (and particular enough to our specific needs) that we should write it ourselves.</p>\n",
    "</td></tr></table>"
   ]
  },
  {
   "cell_type": "code",
   "execution_count": 3,
   "metadata": {
    "autoscroll": false,
    "collapsed": false,
    "ein.hycell": false,
    "ein.tags": "worksheet-0",
    "slideshow": {
     "slide_type": "-"
    }
   },
   "outputs": [],
   "source": [
    "class AST:                                       # only three types (and a superclass to set them up)\n",
    "    _fields = ()\n",
    "    def __init__(self, *args, line=None):\n",
    "        self.line = line\n",
    "        for n, x in zip(self._fields, args):\n",
    "            setattr(self, n, x)\n",
    "            if self.line is None: self.line = getattr(x, \"line\", None)\n",
    "\n",
    "class Literal(AST):                              # Literal: value that appears in the program text\n",
    "    _fields = (\"value\",)\n",
    "    def __str__(self): return str(self.value)\n",
    "\n",
    "class Symbol(AST):                               # Symbol: value referenced by name\n",
    "    _fields = (\"symbol\",)\n",
    "    def __str__(self): return self.symbol\n",
    "\n",
    "class Call(AST):                                 # Call: evaluate a function on arguments\n",
    "    _fields = (\"function\", \"arguments\")\n",
    "    def __str__(self):\n",
    "        return \"{0}({1})\".format(str(self.function), \", \".join(str(x) for x in self.arguments))"
   ]
  },
  {
   "cell_type": "code",
   "execution_count": 4,
   "metadata": {
    "autoscroll": false,
    "collapsed": false,
    "ein.hycell": false,
    "ein.tags": "worksheet-0",
    "slideshow": {
     "slide_type": "-"
    }
   },
   "outputs": [
    {
     "name": "stdout",
     "output_type": "stream",
     "text": [
      "add(2.0, 2.0)\n"
     ]
    }
   ],
   "source": [
    "def toast(ptnode):  # Recursively convert parsing tree (PT) into abstract syntax tree (AST).\n",
    "    if ptnode.data in (\"add\", \"sub\", \"mul\", \"div\", \"pos\", \"neg\"):\n",
    "        arguments = [toast(x) for x in ptnode.children]\n",
    "        return Call(Symbol(ptnode.data, line=arguments[0].line), arguments)\n",
    "    elif ptnode.data == \"power\" and len(ptnode.children) == 2:\n",
    "        arguments = [toast(ptnode.children[0]), toast(ptnode.children[1])]\n",
    "        return Call(Symbol(\"power\", line=arguments[0].line), arguments)\n",
    "    elif ptnode.data == \"call\" and len(ptnode.children) == 2:\n",
    "        return Call(toast(ptnode.children[0]), toast(ptnode.children[1]))\n",
    "    elif ptnode.data == \"symbol\":\n",
    "        return Symbol(ptnode.children[0], line=ptnode.children[0].line)\n",
    "    elif ptnode.data == \"literal\":\n",
    "        return Literal(float(ptnode.children[0]), line=ptnode.children[0].line)\n",
    "    elif ptnode.data == \"arglist\":\n",
    "        return [toast(x) for x in ptnode.children]\n",
    "    else:\n",
    "        return toast(ptnode.children[0])    # many other cases, all of them simple pass-throughs\n",
    "\n",
    "print(toast(parser.parse(\"2 + 2\")))"
   ]
  },
  {
   "cell_type": "markdown",
   "metadata": {},
   "source": [
    "## Execution\n",
    "\n",
    "The simplest way to run a program is to repeatedly walk over the AST, evaluating each step. This is an **interpreter**.\n",
    "\n",
    "_Historical interlude:_\n",
    "\n",
    "   * The first high-level programming language, [Short Code](https://www.computer.org/csdl/magazine/an/1988/01/man1988010007/13rRUxCitB8) (\"Short Order Code\"), was an interpreter.\n",
    "   * Created by a physicist, John Mauchly, in 1949 for UNIVAC I.\n",
    "   * It ran 50× slower than the corresponding machine instructions.\n",
    "   * His company hired Grace Hopper, who improved the situation by inventing compilers (in particular, COBOL in 1959).\n",
    "\n",
    "A **compiler** scans the AST to generate a sequence of machine instructions, natively recognized and executed by the computer."
   ]
  },
  {
   "cell_type": "markdown",
   "metadata": {},
   "source": [
    "<img src=\"https://web.archive.org/web/20190322182736im_/https://ruslanspivak.com/lsbasi-part1/lsbasi_part1_compiler_interpreter.png\" width=\"80%\">"
   ]
  },
  {
   "cell_type": "code",
   "execution_count": 5,
   "metadata": {},
   "outputs": [
    {
     "data": {
      "text/plain": [
       "4.0"
      ]
     },
     "execution_count": 5,
     "metadata": {},
     "output_type": "execute_result"
    }
   ],
   "source": [
    "def interpreter(astnode, **symbols):\n",
    "    if isinstance(astnode, Literal):\n",
    "        return astnode.value\n",
    "\n",
    "    elif isinstance(astnode, Symbol):\n",
    "        return symbols[astnode.symbol]\n",
    "\n",
    "    elif isinstance(astnode, Call):\n",
    "        function = interpreter(astnode.function, **symbols)\n",
    "        arguments = [interpreter(x, **symbols) for x in astnode.arguments]\n",
    "        return function(*arguments)\n",
    "\n",
    "import math, operator\n",
    "interpreter(toast(parser.parse(\"2 + 2\")),\n",
    "            add = operator.add, sub = operator.sub, mul = operator.mul, div = operator.truediv,\n",
    "            pos = operator.pos, neg = operator.neg, power = math.pow, sqrt = math.sqrt, abs = abs,\n",
    "            x = 5)"
   ]
  },
  {
   "cell_type": "markdown",
   "metadata": {},
   "source": [
    "## What about errors?\n",
    "\n",
    "If a bad condition is encountered, like `sqrt(-5)`, the interpreter stops because the underlying Python execution engine raises an exception.\n",
    "\n",
    "When writing a language, we must distinguish between our own internal errors and the users' logic mistakes. In the latter case, we have to let them know that they can fix it and provide a hint about where to start.\n",
    "\n",
    "Line numbers are the most useful hint—but only when they're lines in the user's code, not the execution engine itself. The parser knows about line numbers—we must propagate that information into the AST (for an interpreter) and the final executable (for a compiler with debugging symbols included)."
   ]
  },
  {
   "cell_type": "code",
   "execution_count": 6,
   "metadata": {},
   "outputs": [
    {
     "name": "stdout",
     "output_type": "stream",
     "text": [
      "line  AST type   expression\n",
      "--------------------------------------------------------\n",
      "1     Call       sqrt(neg(5.0))\n",
      "1     Symbol     sqrt\n",
      "1     Call       neg(5.0)\n",
      "1     Symbol     neg\n",
      "1     Literal    5.0\n"
     ]
    }
   ],
   "source": [
    "# We've already propagated line numbers from parsing tree tokens to all AST nodes.\n",
    "def showline(ast):\n",
    "    if isinstance(ast, list):\n",
    "        for x in ast:\n",
    "            showline(x)\n",
    "    if isinstance(ast, AST):\n",
    "        print(\"{0:5s} {1:10s} {2}\".format(str(ast.line), type(ast).__name__, ast))\n",
    "        for n in ast._fields:\n",
    "            showline(getattr(ast, n))\n",
    "\n",
    "print(\"{0:5s} {1:10s} {2}\".format(\"line\", \"AST type\", \"expression\"))\n",
    "print(\"--------------------------------------------------------\")\n",
    "showline(toast(parser.parse(\"\"\"sqrt(-5)\"\"\")))"
   ]
  },
  {
   "cell_type": "code",
   "execution_count": 16,
   "metadata": {},
   "outputs": [
    {
     "ename": "ValueError",
     "evalue": "math domain error",
     "output_type": "error",
     "traceback": [
      "\u001b[0;31m---------------------------------------------------------------------------\u001b[0m",
      "\u001b[0;31mValueError\u001b[0m                                Traceback (most recent call last)",
      "\u001b[0;32m<ipython-input-16-e3b1e78a6af4>\u001b[0m in \u001b[0;36m<module>\u001b[0;34m\u001b[0m\n\u001b[1;32m     16\u001b[0m             \u001b[0;32mraise\u001b[0m \u001b[0merr\u001b[0m   \u001b[0;31m# CHANGE THIS LINE\u001b[0m\u001b[0;34m\u001b[0m\u001b[0;34m\u001b[0m\u001b[0m\n\u001b[1;32m     17\u001b[0m \u001b[0;34m\u001b[0m\u001b[0m\n\u001b[0;32m---> 18\u001b[0;31m \u001b[0minterpreter\u001b[0m\u001b[0;34m(\u001b[0m\u001b[0mtoast\u001b[0m\u001b[0;34m(\u001b[0m\u001b[0mparser\u001b[0m\u001b[0;34m.\u001b[0m\u001b[0mparse\u001b[0m\u001b[0;34m(\u001b[0m\u001b[0;34m\"\"\"sqrt(-5)\"\"\"\u001b[0m\u001b[0;34m)\u001b[0m\u001b[0;34m)\u001b[0m\u001b[0;34m,\u001b[0m \u001b[0;34m**\u001b[0m\u001b[0;34m{\u001b[0m\u001b[0;34m**\u001b[0m\u001b[0moperator\u001b[0m\u001b[0;34m.\u001b[0m\u001b[0m__dict__\u001b[0m\u001b[0;34m,\u001b[0m \u001b[0;34m**\u001b[0m\u001b[0mmath\u001b[0m\u001b[0;34m.\u001b[0m\u001b[0m__dict__\u001b[0m\u001b[0;34m}\u001b[0m\u001b[0;34m,\u001b[0m \u001b[0mx\u001b[0m \u001b[0;34m=\u001b[0m \u001b[0;36m5\u001b[0m\u001b[0;34m)\u001b[0m\u001b[0;34m\u001b[0m\u001b[0;34m\u001b[0m\u001b[0m\n\u001b[0m",
      "\u001b[0;32m<ipython-input-16-e3b1e78a6af4>\u001b[0m in \u001b[0;36minterpreter\u001b[0;34m(astnode, **symbols)\u001b[0m\n\u001b[1;32m     14\u001b[0m             \u001b[0;32mreturn\u001b[0m \u001b[0mfunction\u001b[0m\u001b[0;34m(\u001b[0m\u001b[0;34m*\u001b[0m\u001b[0marguments\u001b[0m\u001b[0;34m)\u001b[0m\u001b[0;34m\u001b[0m\u001b[0;34m\u001b[0m\u001b[0m\n\u001b[1;32m     15\u001b[0m         \u001b[0;32mexcept\u001b[0m \u001b[0mException\u001b[0m \u001b[0;32mas\u001b[0m \u001b[0merr\u001b[0m\u001b[0;34m:\u001b[0m\u001b[0;34m\u001b[0m\u001b[0;34m\u001b[0m\u001b[0m\n\u001b[0;32m---> 16\u001b[0;31m             \u001b[0;32mraise\u001b[0m \u001b[0merr\u001b[0m   \u001b[0;31m# CHANGE THIS LINE\u001b[0m\u001b[0;34m\u001b[0m\u001b[0;34m\u001b[0m\u001b[0m\n\u001b[0m\u001b[1;32m     17\u001b[0m \u001b[0;34m\u001b[0m\u001b[0m\n\u001b[1;32m     18\u001b[0m \u001b[0minterpreter\u001b[0m\u001b[0;34m(\u001b[0m\u001b[0mtoast\u001b[0m\u001b[0;34m(\u001b[0m\u001b[0mparser\u001b[0m\u001b[0;34m.\u001b[0m\u001b[0mparse\u001b[0m\u001b[0;34m(\u001b[0m\u001b[0;34m\"\"\"sqrt(-5)\"\"\"\u001b[0m\u001b[0;34m)\u001b[0m\u001b[0;34m)\u001b[0m\u001b[0;34m,\u001b[0m \u001b[0;34m**\u001b[0m\u001b[0;34m{\u001b[0m\u001b[0;34m**\u001b[0m\u001b[0moperator\u001b[0m\u001b[0;34m.\u001b[0m\u001b[0m__dict__\u001b[0m\u001b[0;34m,\u001b[0m \u001b[0;34m**\u001b[0m\u001b[0mmath\u001b[0m\u001b[0;34m.\u001b[0m\u001b[0m__dict__\u001b[0m\u001b[0;34m}\u001b[0m\u001b[0;34m,\u001b[0m \u001b[0mx\u001b[0m \u001b[0;34m=\u001b[0m \u001b[0;36m5\u001b[0m\u001b[0;34m)\u001b[0m\u001b[0;34m\u001b[0m\u001b[0;34m\u001b[0m\u001b[0m\n",
      "\u001b[0;32m<ipython-input-16-e3b1e78a6af4>\u001b[0m in \u001b[0;36minterpreter\u001b[0;34m(astnode, **symbols)\u001b[0m\n\u001b[1;32m     12\u001b[0m         \u001b[0marguments\u001b[0m \u001b[0;34m=\u001b[0m \u001b[0;34m[\u001b[0m\u001b[0minterpreter\u001b[0m\u001b[0;34m(\u001b[0m\u001b[0mx\u001b[0m\u001b[0;34m,\u001b[0m \u001b[0;34m**\u001b[0m\u001b[0msymbols\u001b[0m\u001b[0;34m)\u001b[0m \u001b[0;32mfor\u001b[0m \u001b[0mx\u001b[0m \u001b[0;32min\u001b[0m \u001b[0mastnode\u001b[0m\u001b[0;34m.\u001b[0m\u001b[0marguments\u001b[0m\u001b[0;34m]\u001b[0m\u001b[0;34m\u001b[0m\u001b[0;34m\u001b[0m\u001b[0m\n\u001b[1;32m     13\u001b[0m         \u001b[0;32mtry\u001b[0m\u001b[0;34m:\u001b[0m\u001b[0;34m\u001b[0m\u001b[0;34m\u001b[0m\u001b[0m\n\u001b[0;32m---> 14\u001b[0;31m             \u001b[0;32mreturn\u001b[0m \u001b[0mfunction\u001b[0m\u001b[0;34m(\u001b[0m\u001b[0;34m*\u001b[0m\u001b[0marguments\u001b[0m\u001b[0;34m)\u001b[0m\u001b[0;34m\u001b[0m\u001b[0;34m\u001b[0m\u001b[0m\n\u001b[0m\u001b[1;32m     15\u001b[0m         \u001b[0;32mexcept\u001b[0m \u001b[0mException\u001b[0m \u001b[0;32mas\u001b[0m \u001b[0merr\u001b[0m\u001b[0;34m:\u001b[0m\u001b[0;34m\u001b[0m\u001b[0;34m\u001b[0m\u001b[0m\n\u001b[1;32m     16\u001b[0m             \u001b[0;32mraise\u001b[0m \u001b[0merr\u001b[0m   \u001b[0;31m# CHANGE THIS LINE\u001b[0m\u001b[0;34m\u001b[0m\u001b[0;34m\u001b[0m\u001b[0m\n",
      "\u001b[0;31mValueError\u001b[0m: math domain error"
     ]
    }
   ],
   "source": [
    "# Short exercise: change the line below to report UserErrors with line numbers from the source code.\n",
    "\n",
    "class UserError(Exception): pass\n",
    "\n",
    "def interpreter(astnode, **symbols):\n",
    "    if isinstance(astnode, Literal):\n",
    "        return astnode.value\n",
    "    elif isinstance(astnode, Symbol):\n",
    "        return symbols[astnode.symbol]\n",
    "    elif isinstance(astnode, Call):\n",
    "        function = interpreter(astnode.function, **symbols)\n",
    "        arguments = [interpreter(x, **symbols) for x in astnode.arguments]\n",
    "        try:\n",
    "            return function(*arguments)\n",
    "        except Exception as err:\n",
    "            raise err   # CHANGE THIS LINE\n",
    "\n",
    "interpreter(toast(parser.parse(\"\"\"sqrt(-5)\"\"\")), **{**operator.__dict__, **math.__dict__}, x = 5)"
   ]
  },
  {
   "cell_type": "markdown",
   "metadata": {},
   "source": [
    "## Assignments\n",
    "\n",
    "So far, all we've implemented is a calculator. As a next step, let's extend the language to include assignments.\n",
    "\n",
    "For clarity, we'll use `:=` as an assignment operator.\n",
    "\n",
    "Blocks will be sets of "
   ]
  },
  {
   "cell_type": "code",
   "execution_count": null,
   "metadata": {
    "autoscroll": false,
    "collapsed": false,
    "ein.hycell": false,
    "ein.tags": "worksheet-0",
    "slideshow": {
     "slide_type": "-"
    }
   },
   "outputs": [],
   "source": [
    "class SymbolTable:\n",
    "    def __init__(self, parent=None, **symbols):\n",
    "        self.parent = parent\n",
    "        self.symbols = symbols\n",
    "\n",
    "    def __getitem__(self, symbol):\n",
    "        if symbol in self.symbols:\n",
    "            return self.symbols[symbol]\n",
    "        elif self.parent is not None:\n",
    "            return self.parent[symbol]\n",
    "        else:\n",
    "            raise KeyError(symbol)\n",
    "\n",
    "    def __setitem__(self, symbol, value):\n",
    "        self.symbols[symbol] = value\n",
    "\n",
    "builtins = SymbolTable()\n",
    "builtins[\"add\"] = lambda x, y: x + y\n",
    "builtins[\"sub\"] = lambda x, y: x - y\n",
    "builtins[\"mul\"] = lambda x, y: x * y\n",
    "builtins[\"div\"] = lambda x, y: x / y\n",
    "builtins[\"pos\"] = lambda x: x\n",
    "builtins[\"neg\"] = lambda x: -x\n",
    "builtins[\"power\"] = lambda x, y: x**y"
   ]
  },
  {
   "cell_type": "code",
   "execution_count": null,
   "metadata": {
    "autoscroll": false,
    "collapsed": false,
    "ein.hycell": false,
    "ein.tags": "worksheet-0",
    "slideshow": {
     "slide_type": "-"
    }
   },
   "outputs": [],
   "source": [
    "def interpreter(astnode, symboltable):\n",
    "    if isinstance(astnode, Literal):\n",
    "        return astnode.value\n",
    "    elif isinstance(astnode, Symbol):\n",
    "        return symboltable[astnode.symbol]\n",
    "    elif isinstance(astnode, Call):\n",
    "        function = interpreter(astnode.function, symboltable)\n",
    "        arguments = [interpreter(x, symboltable) for x in astnode.arguments]\n",
    "        return function(*arguments)\n",
    "\n",
    "interpreter(toast(parser.parse(\"2 + 2\")), SymbolTable(builtins))"
   ]
  }
 ],
 "metadata": {
  "kernelspec": {
   "display_name": "Python 3",
   "language": "python",
   "name": "python3"
  },
  "language_info": {
   "codemirror_mode": {
    "name": "ipython",
    "version": 3
   },
   "file_extension": ".py",
   "mimetype": "text/x-python",
   "name": "python",
   "nbconvert_exporter": "python",
   "pygments_lexer": "ipython3",
   "version": "3.7.2"
  },
  "name": "02-parsing.ipynb"
 },
 "nbformat": 4,
 "nbformat_minor": 2
}
