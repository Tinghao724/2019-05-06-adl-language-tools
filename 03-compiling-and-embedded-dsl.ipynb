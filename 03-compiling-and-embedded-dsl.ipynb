{
 "cells": [
  {
   "cell_type": "markdown",
   "metadata": {},
   "source": [
    "<br><br><br><br><br>\n",
    "\n",
    "# Compiling and embedding DSLs\n",
    "\n",
    "<br><br><br><br><br>"
   ]
  },
  {
   "cell_type": "markdown",
   "metadata": {},
   "source": [
    "<br><br><br>\n",
    "\n",
    "In the previous tutorial, we **interpreted** our little language, rather than **compiling** it.\n",
    "\n",
    "The interpreter simply did in Python what was written in the new language—we filled the symbol table with functions like:\n",
    "\n",
    "```python\n",
    "builtins[\"+\"] = lambda x, y: x + y\n",
    "```\n",
    "\n",
    "Have we accomplished anything?\n",
    "\n",
    "<br><br><br>"
   ]
  },
  {
   "cell_type": "markdown",
   "metadata": {},
   "source": [
    "<br>\n",
    "\n",
    "What we'll see in this tutorial is that a compiler isn't much more substantial than that. Ultimately, it replaces a `+` AST node with the machine instruction for `+` and we've merely passed the buck to another layer."
   ]
  },
  {
   "cell_type": "markdown",
   "metadata": {},
   "source": [
    "<br>\n",
    "\n",
    "What we'll see in this tutorial is that a compiler isn't much more substantial than that. Ultimately, it replaces a `+` AST node with the machine instruction for `+` and we've merely passed the buck to another layer.\n",
    "\n",
    "<br><br>\n",
    "\n",
    "**Programming languages do not act. They only translate a user's intention down to the next level of abstraction.**"
   ]
  },
  {
   "cell_type": "markdown",
   "metadata": {},
   "source": [
    "<br>\n",
    "\n",
    "What we'll see in this tutorial is that a compiler isn't much more substantial than that. Ultimately, it replaces a `+` AST node with the machine instruction for `+` and we've merely passed the buck to another layer.\n",
    "\n",
    "<br><br>\n",
    "\n",
    "**Programming languages do not act. They only translate a user's intention down to the next level of abstraction.**\n",
    "\n",
    "<br><br>\n",
    "\n",
    "In our interpreter, there were 6 layers of abstraction:\n",
    "\n",
    "transistor gates → machine code → C compiler → Python implementation (C code) → our interpreter → our little language"
   ]
  },
  {
   "cell_type": "markdown",
   "metadata": {},
   "source": [
    "**Interpreters vs compilers:**\n",
    "\n",
    "   * An **interpreter** walks over the AST or even parses the source code (!) at runtime.\n",
    "   * A **compiler** serializes the AST into a state machine or a sequence of instructions, virtual or physical.\n",
    "   * A **transpiler** serializes the AST into code in another human-readable language. (Subjective: what's human-readable?)\n",
    "\n",
    "**Compilation targets:**\n",
    "\n",
    "   * A **finite state machine** is a graph of executable steps _only_ (not a full interpreter). Regular expressions are often compiled to finite state machines. A non-recurrent neural network is also a finite state machine.\n",
    "   * A **push-down machine** is a state machine with a stack of memory—parsers are almost always push-down machines.\n",
    "   * A **virtual machine** is a computation engine driven by a sequence of instructions, like a physical computer, but implemented in software. Python and Java are not interpreters: they _compile_ their source code to _virtual machines._\n",
    "   * A **Von Neumann machine** is a physical computer driven by a sequence of instructions.\n",
    "\n",
    "**Other:**\n",
    "\n",
    "   * **FPGA/ASIC:** physical computer consisting of raw gates, not instructions; Verilog isn't _compiled_ like C, it's _synthesized_."
   ]
  }
 ],
 "metadata": {
  "kernelspec": {
   "display_name": "Python 3",
   "language": "python",
   "name": "python3"
  },
  "language_info": {
   "codemirror_mode": {
    "name": "ipython",
    "version": 3
   },
   "file_extension": ".py",
   "mimetype": "text/x-python",
   "name": "python",
   "nbconvert_exporter": "python",
   "pygments_lexer": "ipython3",
   "version": "3.7.2"
  }
 },
 "nbformat": 4,
 "nbformat_minor": 2
}
