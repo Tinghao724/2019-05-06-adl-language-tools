{
 "cells": [
  {
   "cell_type": "markdown",
   "metadata": {},
   "source": [
    "<br><br><br><br><br>\n",
    "\n",
    "# Compiling and embedding DSLs\n",
    "\n",
    "<br><br><br><br><br>"
   ]
  },
  {
   "cell_type": "markdown",
   "metadata": {},
   "source": [
    "<br><br><br>\n",
    "\n",
    "In the previous tutorial, we **interpreted** our little language, rather than **compiling** it.\n",
    "\n",
    "The interpreter simply did in Python what was written in the new language—we filled the symbol table with functions like:\n",
    "\n",
    "```python\n",
    "builtins[\"+\"] = lambda x, y: x + y\n",
    "```\n",
    "\n",
    "Have we accomplished anything?\n",
    "\n",
    "<br><br><br>"
   ]
  },
  {
   "cell_type": "markdown",
   "metadata": {},
   "source": [
    "<br>\n",
    "\n",
    "What we'll see in this tutorial is that a compiler isn't much more substantial than that. Ultimately, it replaces a `+` AST node with the machine instruction for `+` and we've merely passed the buck to another layer."
   ]
  },
  {
   "cell_type": "markdown",
   "metadata": {},
   "source": [
    "<br>\n",
    "\n",
    "What we'll see in this tutorial is that a compiler isn't much more substantial than that. Ultimately, it replaces a `+` AST node with the machine instruction for `+` and we've merely passed the buck to another layer.\n",
    "\n",
    "<br><br>\n",
    "\n",
    "**Programming languages do not perform actions. They only translate a user's intention to another level of abstraction.**"
   ]
  },
  {
   "cell_type": "markdown",
   "metadata": {},
   "source": [
    "<br>\n",
    "\n",
    "What we'll see in this tutorial is that a compiler isn't much more substantial than that. Ultimately, it replaces a `+` AST node with the machine instruction for `+` and we've merely passed the buck to another layer.\n",
    "\n",
    "<br><br>\n",
    "\n",
    "**Programming languages do not perform actions. They only translate a user's intention to another level of abstraction.**\n",
    "\n",
    "<br><br>\n",
    "\n",
    "In our interpreter, there were 6 layers of abstraction:\n",
    "\n",
    "transistor gates → machine code → C compiler → Python implementation (C code) → our interpreter → our little language"
   ]
  },
  {
   "cell_type": "markdown",
   "metadata": {},
   "source": [
    "**Interpreters vs compilers:**\n",
    "\n",
    "   * An **interpreter** walks over the AST (or even parses the source code!) at runtime.\n",
    "   * A **compiler** serializes the AST into a state machine or a sequence of instructions, virtual or physical.\n",
    "   * A **transpiler** serializes the AST into code in another human-readable language. (Subjective: what's human-readable?)\n",
    "\n",
    "**Compilation targets:**\n",
    "\n",
    "   * A **finite state machine** is a graph of executable steps _only_ (not a full interpreter). Regular expressions are often compiled to finite state machines. A non-recurrent neural network is also a finite state machine.\n",
    "   * A **push-down machine** is a state machine with a stack of memory—parsers are almost always push-down machines.\n",
    "   * A **virtual machine** is a computation engine driven by a sequence of instructions, like a physical computer, but implemented in software. Python and Java are not interpreters: they _compile_ their source code to _virtual machines._\n",
    "   * A **Von Neumann machine** is a physical computer driven by a sequence of instructions.\n",
    "\n",
    "**Other:**\n",
    "\n",
    "   * **FPGA/ASIC:** physical computer consisting of raw gates, not instructions; Verilog isn't _compiled_ like C, it's _synthesized_."
   ]
  },
  {
   "cell_type": "markdown",
   "metadata": {},
   "source": [
    "<br><br><br>\n",
    "\n",
    "The general flow of a compiler is\n",
    "\n",
    "<center style=\"margin-top: 20px; margin-bottom: 20px\"><b>linear (source code) → tree (AST) → linear (instructions or other source code)</b></center>\n",
    "\n",
    "In this notebook, we'll write a transpiler, converting our little language into C++.\n",
    "\n",
    "<br><br><br>"
   ]
  },
  {
   "cell_type": "code",
   "execution_count": 1,
   "metadata": {},
   "outputs": [
    {
     "name": "stdout",
     "output_type": "stream",
     "text": [
      "Welcome to JupyROOT 6.17/01\n"
     ]
    },
    {
     "data": {
      "text/plain": [
       "5.0"
      ]
     },
     "execution_count": 1,
     "metadata": {},
     "output_type": "execute_result"
    }
   ],
   "source": [
    "# First of all, did you know that you can do this?\n",
    "\n",
    "import ROOT\n",
    "\n",
    "ROOT.gInterpreter.Declare(\"\"\"\n",
    "double new_function(double x, double y) {\n",
    "    return sqrt(x*x + y*y);\n",
    "}\"\"\")\n",
    "\n",
    "ROOT.new_function(3, 4)"
   ]
  },
  {
   "cell_type": "code",
   "execution_count": 6,
   "metadata": {},
   "outputs": [
    {
     "name": "stdout",
     "output_type": "stream",
     "text": [
      "FileAST: \n",
      "  FuncDef: \n",
      "    Decl: f, [], [], []\n",
      "      FuncDecl: \n",
      "        ParamList: \n",
      "          Decl: x, [], [], []\n",
      "            TypeDecl: x, []\n",
      "              IdentifierType: ['double']\n",
      "        TypeDecl: f, []\n",
      "          IdentifierType: ['double']\n",
      "    Compound: \n",
      "      Return: \n",
      "        BinaryOp: *\n",
      "          ID: x\n",
      "          ID: x\n"
     ]
    }
   ],
   "source": [
    "# And what about this?\n",
    "import pycparser.c_parser, pycparser.c_generator\n",
    "parser    = pycparser.c_parser.CParser()\n",
    "generator = pycparser.c_generator.CGenerator()\n",
    "ast = parser.parse(\"double f(double x) { return x*x; }\")\n",
    "ast.show()"
   ]
  },
  {
   "cell_type": "code",
   "execution_count": 8,
   "metadata": {},
   "outputs": [
    {
     "name": "stdout",
     "output_type": "stream",
     "text": [
      "double f(double x)\n",
      "{\n",
      "  return x * x;\n",
      "}\n",
      "\n",
      "\n"
     ]
    }
   ],
   "source": [
    "ast = parser.parse(\"double f(double x) { return x*x; }\")\n",
    "print(generator.visit(ast))"
   ]
  },
  {
   "cell_type": "markdown",
   "metadata": {},
   "source": [
    "We can compile and run C++ code in ROOT (Cling) and we have a general C99 AST in a Python library (pycparser).\n",
    "\n",
    "The compilation chain could look like this:\n",
    "\n",
    "<center style=\"margin-top: 20px; margin-bottom: 20px\"><b>our source language → our AST → C99 AST → C++ source code → compile and run in ROOT</b></center>"
   ]
  },
  {
   "cell_type": "markdown",
   "metadata": {},
   "source": [
    "We can compile and run C++ code in ROOT (Cling) and we have a general C99 AST in a Python library (pycparser).\n",
    "\n",
    "The compilation chain could look like this:\n",
    "\n",
    "<center style=\"margin-top: 20px; margin-bottom: 20px\"><b>our source language → our AST → C99 AST → C++ source code → compile and run in ROOT</b></center>\n",
    "\n",
    "Why not output C++ strings directly from our AST? It's a hard-to-debug shortcut."
   ]
  },
  {
   "cell_type": "markdown",
   "metadata": {},
   "source": [
    "We can compile and run C++ code in ROOT (Cling) and we have a general C99 AST in a Python library (pycparser).\n",
    "\n",
    "The compilation chain could look like this:\n",
    "\n",
    "<center style=\"margin-top: 20px; margin-bottom: 20px\"><b>our source language → our AST → C99 AST → C++ source code → compile and run in ROOT</b></center>\n",
    "\n",
    "Why not output C++ strings directly from our AST? It's a hard-to-debug shortcut. ([Coffeescript famously skipped that step.](https://www.kickstarter.com/projects/michaelficarra/make-a-better-coffeescript-compiler) :)\n",
    "\n",
    "<img src=\"img/coffeescript-rise-and-fall.png\" width=\"90%\">"
   ]
  }
 ],
 "metadata": {
  "kernelspec": {
   "display_name": "Python 3",
   "language": "python",
   "name": "python3"
  },
  "language_info": {
   "codemirror_mode": {
    "name": "ipython",
    "version": 3
   },
   "file_extension": ".py",
   "mimetype": "text/x-python",
   "name": "python",
   "nbconvert_exporter": "python",
   "pygments_lexer": "ipython3",
   "version": "3.7.2"
  }
 },
 "nbformat": 4,
 "nbformat_minor": 2
}
